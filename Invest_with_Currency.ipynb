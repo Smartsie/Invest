{
  "nbformat": 4,
  "nbformat_minor": 0,
  "metadata": {
    "colab": {
      "name": "Copy of Invest with Currency.ipynb",
      "provenance": [],
      "collapsed_sections": [],
      "include_colab_link": true
    },
    "kernelspec": {
      "display_name": "Python 3",
      "language": "python",
      "name": "python3"
    },
    "language_info": {
      "codemirror_mode": {
        "name": "ipython",
        "version": 3
      },
      "file_extension": ".py",
      "mimetype": "text/x-python",
      "name": "python",
      "nbconvert_exporter": "python",
      "pygments_lexer": "ipython3",
      "version": "3.6.2"
    }
  },
  "cells": [
    {
      "cell_type": "markdown",
      "metadata": {
        "id": "view-in-github",
        "colab_type": "text"
      },
      "source": [
        "<a href=\"https://colab.research.google.com/github/Smartsie/Invest/blob/master/Invest_with_Currency.ipynb\" target=\"_parent\"><img src=\"https://colab.research.google.com/assets/colab-badge.svg\" alt=\"Open In Colab\"/></a>"
      ]
    },
    {
      "cell_type": "markdown",
      "metadata": {
        "id": "Bcu9Wg6p0oRA"
      },
      "source": [
        "## External lib imports"
      ]
    },
    {
      "cell_type": "code",
      "metadata": {
        "id": "iQkgsW4cS4_J",
        "colab": {
          "base_uri": "https://localhost:8080/",
          "height": 747
        },
        "outputId": "67c85be1-23ef-4b12-db4d-cdf1d8b707f9"
      },
      "source": [
        "!pip install investpy \r\n",
        "#==0.9.14"
      ],
      "execution_count": 1,
      "outputs": [
        {
          "output_type": "stream",
          "text": [
            "Collecting investpy\n",
            "\u001b[?25l  Downloading https://files.pythonhosted.org/packages/23/df/a5ca47622099730f7c88da997fea802472da2001c6430b3d7859fd707885/investpy-1.0.1.tar.gz (4.4MB)\n",
            "\u001b[K     |████████████████████████████████| 4.4MB 5.5MB/s \n",
            "\u001b[?25hCollecting Unidecode>=1.1.1\n",
            "\u001b[?25l  Downloading https://files.pythonhosted.org/packages/74/65/91eab655041e9e92f948cb7302e54962035762ce7b518272ed9d6b269e93/Unidecode-1.1.2-py2.py3-none-any.whl (239kB)\n",
            "\u001b[K     |████████████████████████████████| 245kB 36.3MB/s \n",
            "\u001b[?25hRequirement already satisfied: setuptools>=41.2.0 in /usr/local/lib/python3.6/dist-packages (from investpy) (51.3.3)\n",
            "Requirement already satisfied: numpy>=1.17.2 in /usr/local/lib/python3.6/dist-packages (from investpy) (1.19.5)\n",
            "Requirement already satisfied: pandas>=0.25.1 in /usr/local/lib/python3.6/dist-packages (from investpy) (1.1.5)\n",
            "Collecting lxml>=4.4.1\n",
            "\u001b[?25l  Downloading https://files.pythonhosted.org/packages/bd/78/56a7c88a57d0d14945472535d0df9fb4bbad7d34ede658ec7961635c790e/lxml-4.6.2-cp36-cp36m-manylinux1_x86_64.whl (5.5MB)\n",
            "\u001b[K     |████████████████████████████████| 5.5MB 30.1MB/s \n",
            "\u001b[?25hRequirement already satisfied: requests>=2.22.0 in /usr/local/lib/python3.6/dist-packages (from investpy) (2.23.0)\n",
            "Collecting pytz>=2019.3\n",
            "\u001b[?25l  Downloading https://files.pythonhosted.org/packages/89/06/2c2d3034b4d6bf22f2a4ae546d16925898658a33b4400cfb7e2c1e2871a3/pytz-2020.5-py2.py3-none-any.whl (510kB)\n",
            "\u001b[K     |████████████████████████████████| 512kB 45.9MB/s \n",
            "\u001b[?25hRequirement already satisfied: python-dateutil>=2.7.3 in /usr/local/lib/python3.6/dist-packages (from pandas>=0.25.1->investpy) (2.8.1)\n",
            "Requirement already satisfied: urllib3!=1.25.0,!=1.25.1,<1.26,>=1.21.1 in /usr/local/lib/python3.6/dist-packages (from requests>=2.22.0->investpy) (1.24.3)\n",
            "Requirement already satisfied: chardet<4,>=3.0.2 in /usr/local/lib/python3.6/dist-packages (from requests>=2.22.0->investpy) (3.0.4)\n",
            "Requirement already satisfied: idna<3,>=2.5 in /usr/local/lib/python3.6/dist-packages (from requests>=2.22.0->investpy) (2.10)\n",
            "Requirement already satisfied: certifi>=2017.4.17 in /usr/local/lib/python3.6/dist-packages (from requests>=2.22.0->investpy) (2020.12.5)\n",
            "Requirement already satisfied: six>=1.5 in /usr/local/lib/python3.6/dist-packages (from python-dateutil>=2.7.3->pandas>=0.25.1->investpy) (1.15.0)\n",
            "Building wheels for collected packages: investpy\n",
            "  Building wheel for investpy (setup.py) ... \u001b[?25l\u001b[?25hdone\n",
            "  Created wheel for investpy: filename=investpy-1.0.1-cp36-none-any.whl size=4473067 sha256=3dbc087f6e78d898603aab676b58ea081c5068f74f094a4c675493fb42ff0ac2\n",
            "  Stored in directory: /root/.cache/pip/wheels/ff/19/7e/2df70c2cd442e209c3c4a2d07dbd34889bc84588a1885a6a2c\n",
            "Successfully built investpy\n",
            "\u001b[31mERROR: convertdate 2.2.0 has requirement pytz<2020,>=2014.10, but you'll have pytz 2020.5 which is incompatible.\u001b[0m\n",
            "Installing collected packages: Unidecode, lxml, pytz, investpy\n",
            "  Found existing installation: lxml 4.2.6\n",
            "    Uninstalling lxml-4.2.6:\n",
            "      Successfully uninstalled lxml-4.2.6\n",
            "  Found existing installation: pytz 2018.9\n",
            "    Uninstalling pytz-2018.9:\n",
            "      Successfully uninstalled pytz-2018.9\n",
            "Successfully installed Unidecode-1.1.2 investpy-1.0.1 lxml-4.6.2 pytz-2020.5\n"
          ],
          "name": "stdout"
        },
        {
          "output_type": "display_data",
          "data": {
            "application/vnd.colab-display-data+json": {
              "pip_warning": {
                "packages": [
                  "pytz"
                ]
              }
            }
          },
          "metadata": {
            "tags": []
          }
        }
      ]
    },
    {
      "cell_type": "markdown",
      "metadata": {
        "id": "fXkoeLvVxHwZ"
      },
      "source": [
        "# Libraries Import"
      ]
    },
    {
      "cell_type": "code",
      "metadata": {
        "id": "4hjgq2IxsJCv"
      },
      "source": [
        "import numpy as np\n",
        "import pandas as pd\n",
        "import matplotlib.pyplot as plt\n",
        "import plotly.express as px\n",
        "import investpy"
      ],
      "execution_count": 2,
      "outputs": []
    },
    {
      "cell_type": "code",
      "metadata": {
        "id": "2kqzMGJE1417"
      },
      "source": [
        "from sklearn.model_selection import train_test_split \r\n",
        "from sklearn.preprocessing import MinMaxScaler\r\n",
        "from sklearn.metrics import r2_score"
      ],
      "execution_count": 3,
      "outputs": []
    },
    {
      "cell_type": "code",
      "metadata": {
        "id": "kLypkxIO1467"
      },
      "source": [
        "import tensorflow as tf\r\n",
        "from tensorflow import keras\r\n",
        "from tensorflow.keras import layers\r\n"
      ],
      "execution_count": 4,
      "outputs": []
    },
    {
      "cell_type": "code",
      "metadata": {
        "id": "r_ho3Po6V3qs"
      },
      "source": [
        "import xgboost as xgb\r\n",
        "from sklearn.model_selection import GridSearchCV\r\n",
        "from sklearn.metrics import mean_squared_error\r\n",
        "parameters = {'max_depth':[3,4,5], 'n_estimators':[500]}"
      ],
      "execution_count": 5,
      "outputs": []
    },
    {
      "cell_type": "markdown",
      "metadata": {
        "id": "f4Mr0-T-xK4U"
      },
      "source": [
        "## Data Import"
      ]
    },
    {
      "cell_type": "code",
      "metadata": {
        "id": "tDBwWGe_6Aoh",
        "colab": {
          "base_uri": "https://localhost:8080/",
          "height": 237
        },
        "outputId": "5befa945-9be8-4bfd-ec75-e325ee681631"
      },
      "source": [
        "Index='EUR/USD'\r\n",
        "data = investpy.get_currency_cross_historical_data(currency_cross=Index,from_date='01/01/2000', to_date='29/01/2021')\r\n",
        "data=data.drop(['Currency'],axis=1)\r\n",
        "data.tail()"
      ],
      "execution_count": 76,
      "outputs": [
        {
          "output_type": "execute_result",
          "data": {
            "text/html": [
              "<div>\n",
              "<style scoped>\n",
              "    .dataframe tbody tr th:only-of-type {\n",
              "        vertical-align: middle;\n",
              "    }\n",
              "\n",
              "    .dataframe tbody tr th {\n",
              "        vertical-align: top;\n",
              "    }\n",
              "\n",
              "    .dataframe thead th {\n",
              "        text-align: right;\n",
              "    }\n",
              "</style>\n",
              "<table border=\"1\" class=\"dataframe\">\n",
              "  <thead>\n",
              "    <tr style=\"text-align: right;\">\n",
              "      <th></th>\n",
              "      <th>Open</th>\n",
              "      <th>High</th>\n",
              "      <th>Low</th>\n",
              "      <th>Close</th>\n",
              "    </tr>\n",
              "    <tr>\n",
              "      <th>Date</th>\n",
              "      <th></th>\n",
              "      <th></th>\n",
              "      <th></th>\n",
              "      <th></th>\n",
              "    </tr>\n",
              "  </thead>\n",
              "  <tbody>\n",
              "    <tr>\n",
              "      <th>2021-01-25</th>\n",
              "      <td>1.2168</td>\n",
              "      <td>1.2184</td>\n",
              "      <td>1.2115</td>\n",
              "      <td>1.2137</td>\n",
              "    </tr>\n",
              "    <tr>\n",
              "      <th>2021-01-26</th>\n",
              "      <td>1.2138</td>\n",
              "      <td>1.2177</td>\n",
              "      <td>1.2107</td>\n",
              "      <td>1.2160</td>\n",
              "    </tr>\n",
              "    <tr>\n",
              "      <th>2021-01-27</th>\n",
              "      <td>1.2160</td>\n",
              "      <td>1.2170</td>\n",
              "      <td>1.2057</td>\n",
              "      <td>1.2108</td>\n",
              "    </tr>\n",
              "    <tr>\n",
              "      <th>2021-01-28</th>\n",
              "      <td>1.2109</td>\n",
              "      <td>1.2142</td>\n",
              "      <td>1.2079</td>\n",
              "      <td>1.2121</td>\n",
              "    </tr>\n",
              "    <tr>\n",
              "      <th>2021-01-29</th>\n",
              "      <td>1.2121</td>\n",
              "      <td>1.2156</td>\n",
              "      <td>1.2093</td>\n",
              "      <td>1.2136</td>\n",
              "    </tr>\n",
              "  </tbody>\n",
              "</table>\n",
              "</div>"
            ],
            "text/plain": [
              "              Open    High     Low   Close\n",
              "Date                                      \n",
              "2021-01-25  1.2168  1.2184  1.2115  1.2137\n",
              "2021-01-26  1.2138  1.2177  1.2107  1.2160\n",
              "2021-01-27  1.2160  1.2170  1.2057  1.2108\n",
              "2021-01-28  1.2109  1.2142  1.2079  1.2121\n",
              "2021-01-29  1.2121  1.2156  1.2093  1.2136"
            ]
          },
          "metadata": {
            "tags": []
          },
          "execution_count": 76
        }
      ]
    },
    {
      "cell_type": "markdown",
      "metadata": {
        "id": "9ykAQMxpV6a0"
      },
      "source": [
        "Feature Engineering\r\n",
        "\r\n",
        "\r\n",
        "1.   Add Daily percent variation (Close.today/Close.yesterday)\r\n",
        "2.   -\r\n",
        "\r\n"
      ]
    },
    {
      "cell_type": "code",
      "metadata": {
        "id": "k7DYE5ZR6Aji"
      },
      "source": [
        "# Calculate daily percentage variation\r\n",
        "data['daily perc']=data.Close/data.Close.shift(1)\r\n",
        "data=data.dropna(axis=0)"
      ],
      "execution_count": 75,
      "outputs": []
    },
    {
      "cell_type": "code",
      "metadata": {
        "id": "AhX3qtYuLuaU"
      },
      "source": [
        "# Calculate candle ratio\r\n",
        "# (Close-open)/(Max-Min)\r\n",
        "# Candle =0 no big variation\r\n",
        "# candle =+1: big variation up.Open=low and High=Close\r\n",
        "# candle = -1: big variation down. Open=High.Close=Low\r\n",
        "data['candle']=(data.Close-data.Open)/(data.High-data.Low)"
      ],
      "execution_count": 77,
      "outputs": []
    },
    {
      "cell_type": "code",
      "metadata": {
        "colab": {
          "base_uri": "https://localhost:8080/",
          "height": 237
        },
        "id": "6wjZNk4ElGen",
        "outputId": "1b083b7d-10f1-44f7-8092-1543f18c33e1"
      },
      "source": [
        "data.head()"
      ],
      "execution_count": 78,
      "outputs": [
        {
          "output_type": "execute_result",
          "data": {
            "text/html": [
              "<div>\n",
              "<style scoped>\n",
              "    .dataframe tbody tr th:only-of-type {\n",
              "        vertical-align: middle;\n",
              "    }\n",
              "\n",
              "    .dataframe tbody tr th {\n",
              "        vertical-align: top;\n",
              "    }\n",
              "\n",
              "    .dataframe thead th {\n",
              "        text-align: right;\n",
              "    }\n",
              "</style>\n",
              "<table border=\"1\" class=\"dataframe\">\n",
              "  <thead>\n",
              "    <tr style=\"text-align: right;\">\n",
              "      <th></th>\n",
              "      <th>Open</th>\n",
              "      <th>High</th>\n",
              "      <th>Low</th>\n",
              "      <th>Close</th>\n",
              "      <th>candle</th>\n",
              "    </tr>\n",
              "    <tr>\n",
              "      <th>Date</th>\n",
              "      <th></th>\n",
              "      <th></th>\n",
              "      <th></th>\n",
              "      <th></th>\n",
              "      <th></th>\n",
              "    </tr>\n",
              "  </thead>\n",
              "  <tbody>\n",
              "    <tr>\n",
              "      <th>2000-01-03</th>\n",
              "      <td>1.0052</td>\n",
              "      <td>1.0282</td>\n",
              "      <td>1.0050</td>\n",
              "      <td>1.0265</td>\n",
              "      <td>0.918103</td>\n",
              "    </tr>\n",
              "    <tr>\n",
              "      <th>2000-01-04</th>\n",
              "      <td>1.0244</td>\n",
              "      <td>1.0347</td>\n",
              "      <td>1.0213</td>\n",
              "      <td>1.0312</td>\n",
              "      <td>0.507463</td>\n",
              "    </tr>\n",
              "    <tr>\n",
              "      <th>2000-01-05</th>\n",
              "      <td>1.0295</td>\n",
              "      <td>1.0404</td>\n",
              "      <td>1.0282</td>\n",
              "      <td>1.0316</td>\n",
              "      <td>0.172131</td>\n",
              "    </tr>\n",
              "    <tr>\n",
              "      <th>2000-01-06</th>\n",
              "      <td>1.0325</td>\n",
              "      <td>1.0419</td>\n",
              "      <td>1.0275</td>\n",
              "      <td>1.0324</td>\n",
              "      <td>-0.006944</td>\n",
              "    </tr>\n",
              "    <tr>\n",
              "      <th>2000-01-07</th>\n",
              "      <td>1.0327</td>\n",
              "      <td>1.0333</td>\n",
              "      <td>1.0252</td>\n",
              "      <td>1.0292</td>\n",
              "      <td>-0.432099</td>\n",
              "    </tr>\n",
              "  </tbody>\n",
              "</table>\n",
              "</div>"
            ],
            "text/plain": [
              "              Open    High     Low   Close    candle\n",
              "Date                                                \n",
              "2000-01-03  1.0052  1.0282  1.0050  1.0265  0.918103\n",
              "2000-01-04  1.0244  1.0347  1.0213  1.0312  0.507463\n",
              "2000-01-05  1.0295  1.0404  1.0282  1.0316  0.172131\n",
              "2000-01-06  1.0325  1.0419  1.0275  1.0324 -0.006944\n",
              "2000-01-07  1.0327  1.0333  1.0252  1.0292 -0.432099"
            ]
          },
          "metadata": {
            "tags": []
          },
          "execution_count": 78
        }
      ]
    },
    {
      "cell_type": "code",
      "metadata": {
        "colab": {
          "base_uri": "https://localhost:8080/",
          "height": 383
        },
        "id": "S0NXsjFDj7gN",
        "outputId": "ccad9493-ef0a-498b-f43d-245baac15482"
      },
      "source": [
        "data[-1000:].plot(subplots=True)"
      ],
      "execution_count": 79,
      "outputs": [
        {
          "output_type": "execute_result",
          "data": {
            "text/plain": [
              "array([<matplotlib.axes._subplots.AxesSubplot object at 0x7f2e1eb9c860>,\n",
              "       <matplotlib.axes._subplots.AxesSubplot object at 0x7f2e1ebc7438>,\n",
              "       <matplotlib.axes._subplots.AxesSubplot object at 0x7f2e1ed4e5f8>,\n",
              "       <matplotlib.axes._subplots.AxesSubplot object at 0x7f2e1eb65828>,\n",
              "       <matplotlib.axes._subplots.AxesSubplot object at 0x7f2e1ef4ba58>],\n",
              "      dtype=object)"
            ]
          },
          "metadata": {
            "tags": []
          },
          "execution_count": 79
        },
        {
          "output_type": "display_data",
          "data": {
            "image/png": "[encoded data removed]",
            "text/plain": [
              "<Figure size 432x288 with 5 Axes>"
            ]
          },
          "metadata": {
            "tags": [],
            "needs_background": "light"
          }
        }
      ]
    },
    {
      "cell_type": "code",
      "metadata": {
        "id": "1tpzYZHH3_sS",
        "colab": {
          "base_uri": "https://localhost:8080/",
          "height": 282
        },
        "outputId": "abe5d79c-def1-4df9-8b9d-ccb5302a98b1"
      },
      "source": [
        "# plot distribution\r\n",
        "data['daily perc'].plot(kind='hist',bins=30)"
      ],
      "execution_count": 10,
      "outputs": [
        {
          "output_type": "execute_result",
          "data": {
            "text/plain": [
              "<matplotlib.axes._subplots.AxesSubplot at 0x7f2e27d2bba8>"
            ]
          },
          "metadata": {
            "tags": []
          },
          "execution_count": 10
        },
        {
          "output_type": "display_data",
          "data": {
            "image/png": "[encoded data removed]",
            "text/plain": [
              "<Figure size 432x288 with 1 Axes>"
            ]
          },
          "metadata": {
            "tags": [],
            "needs_background": "light"
          }
        }
      ]
    },
    {
      "cell_type": "code",
      "metadata": {
        "colab": {
          "base_uri": "https://localhost:8080/",
          "height": 300
        },
        "id": "IyA3JkeIkOKH",
        "outputId": "def0b5fe-c42f-4c4c-d901-dbd44bd6ec80"
      },
      "source": [
        "data.describe()"
      ],
      "execution_count": 11,
      "outputs": [
        {
          "output_type": "execute_result",
          "data": {
            "text/html": [
              "<div>\n",
              "<style scoped>\n",
              "    .dataframe tbody tr th:only-of-type {\n",
              "        vertical-align: middle;\n",
              "    }\n",
              "\n",
              "    .dataframe tbody tr th {\n",
              "        vertical-align: top;\n",
              "    }\n",
              "\n",
              "    .dataframe thead th {\n",
              "        text-align: right;\n",
              "    }\n",
              "</style>\n",
              "<table border=\"1\" class=\"dataframe\">\n",
              "  <thead>\n",
              "    <tr style=\"text-align: right;\">\n",
              "      <th></th>\n",
              "      <th>Open</th>\n",
              "      <th>High</th>\n",
              "      <th>Low</th>\n",
              "      <th>Close</th>\n",
              "      <th>daily perc</th>\n",
              "    </tr>\n",
              "  </thead>\n",
              "  <tbody>\n",
              "    <tr>\n",
              "      <th>count</th>\n",
              "      <td>5499.000000</td>\n",
              "      <td>5499.000000</td>\n",
              "      <td>5499.000000</td>\n",
              "      <td>5499.000000</td>\n",
              "      <td>5499.000000</td>\n",
              "    </tr>\n",
              "    <tr>\n",
              "      <th>mean</th>\n",
              "      <td>1.206346</td>\n",
              "      <td>1.211858</td>\n",
              "      <td>1.200857</td>\n",
              "      <td>1.206439</td>\n",
              "      <td>1.000049</td>\n",
              "    </tr>\n",
              "    <tr>\n",
              "      <th>std</th>\n",
              "      <td>0.163154</td>\n",
              "      <td>0.163749</td>\n",
              "      <td>0.162486</td>\n",
              "      <td>0.163124</td>\n",
              "      <td>0.006028</td>\n",
              "    </tr>\n",
              "    <tr>\n",
              "      <th>min</th>\n",
              "      <td>0.826800</td>\n",
              "      <td>0.832600</td>\n",
              "      <td>0.822700</td>\n",
              "      <td>0.827300</td>\n",
              "      <td>0.972573</td>\n",
              "    </tr>\n",
              "    <tr>\n",
              "      <th>25%</th>\n",
              "      <td>1.109350</td>\n",
              "      <td>1.114100</td>\n",
              "      <td>1.106250</td>\n",
              "      <td>1.109950</td>\n",
              "      <td>0.996611</td>\n",
              "    </tr>\n",
              "    <tr>\n",
              "      <th>50%</th>\n",
              "      <td>1.214200</td>\n",
              "      <td>1.219000</td>\n",
              "      <td>1.208700</td>\n",
              "      <td>1.214300</td>\n",
              "      <td>1.000076</td>\n",
              "    </tr>\n",
              "    <tr>\n",
              "      <th>75%</th>\n",
              "      <td>1.325850</td>\n",
              "      <td>1.332300</td>\n",
              "      <td>1.319200</td>\n",
              "      <td>1.325800</td>\n",
              "      <td>1.003362</td>\n",
              "    </tr>\n",
              "    <tr>\n",
              "      <th>max</th>\n",
              "      <td>1.600000</td>\n",
              "      <td>1.603900</td>\n",
              "      <td>1.586500</td>\n",
              "      <td>1.598800</td>\n",
              "      <td>1.038039</td>\n",
              "    </tr>\n",
              "  </tbody>\n",
              "</table>\n",
              "</div>"
            ],
            "text/plain": [
              "              Open         High          Low        Close   daily perc\n",
              "count  5499.000000  5499.000000  5499.000000  5499.000000  5499.000000\n",
              "mean      1.206346     1.211858     1.200857     1.206439     1.000049\n",
              "std       0.163154     0.163749     0.162486     0.163124     0.006028\n",
              "min       0.826800     0.832600     0.822700     0.827300     0.972573\n",
              "25%       1.109350     1.114100     1.106250     1.109950     0.996611\n",
              "50%       1.214200     1.219000     1.208700     1.214300     1.000076\n",
              "75%       1.325850     1.332300     1.319200     1.325800     1.003362\n",
              "max       1.600000     1.603900     1.586500     1.598800     1.038039"
            ]
          },
          "metadata": {
            "tags": []
          },
          "execution_count": 11
        }
      ]
    },
    {
      "cell_type": "markdown",
      "metadata": {
        "id": "QWPjB4CJxe0K"
      },
      "source": [
        "# XGBoost Model\r\n"
      ]
    },
    {
      "cell_type": "code",
      "metadata": {
        "id": "lOZWgUF-14zi"
      },
      "source": [
        "# Generate Dataset\r\n",
        "lookback=20\r\n",
        "horizon=4\r\n",
        "X=[]\r\n",
        "y=[]\r\n",
        "for i in range(lookback,len(data)-horizon):\r\n",
        "  data1=data['Open'].iloc[i-lookback:i].values\r\n",
        "  data2=data['Close'].iloc[i-lookback:i].values\r\n",
        "  data3=data['High'].iloc[i-lookback:i].values\r\n",
        "  data4=data['Low'].iloc[i-lookback:i].values\r\n",
        "  #perc=data['daily perc'].iloc[i-lookback:i].values\r\n",
        "  target=data['Low'].iloc[i+horizon]\r\n",
        "  X.append(np.array([data1,data2,data3,data4]).ravel())\r\n",
        "  \r\n",
        "  y.append(target)\r\n",
        "y=np.array(y).reshape(-1,1)"
      ],
      "execution_count": null,
      "outputs": []
    },
    {
      "cell_type": "code",
      "metadata": {
        "id": "Dri3kGud144d"
      },
      "source": [
        "# Data Scaling\r\n",
        "scaler=MinMaxScaler()\r\n",
        "scaler.fit(np.array(y))\r\n",
        "X_=scaler.transform(X)\r\n",
        "y_=scaler.transform(y)\r\n",
        "X_train,X_test,y_train,y_test=train_test_split(X_,y_,shuffle=True,test_size=0.2)"
      ],
      "execution_count": null,
      "outputs": []
    },
    {
      "cell_type": "code",
      "metadata": {
        "id": "mvzi_5usI4sN"
      },
      "source": [
        "model=xgb.XGBRegressor(objective='reg:squarederror',scoring='mse',max_depth=5,n_estimators=500)"
      ],
      "execution_count": null,
      "outputs": []
    },
    {
      "cell_type": "code",
      "metadata": {
        "colab": {
          "base_uri": "https://localhost:8080/"
        },
        "id": "BJRsc6VyJAvo",
        "outputId": "5d8e73f8-c177-4a7d-cf20-b13c84f362e3"
      },
      "source": [
        "model.fit(X_train,y_train)"
      ],
      "execution_count": null,
      "outputs": [
        {
          "output_type": "execute_result",
          "data": {
            "text/plain": [
              "XGBRegressor(base_score=0.5, booster='gbtree', colsample_bylevel=1,\n",
              "             colsample_bynode=1, colsample_bytree=1, gamma=0,\n",
              "             importance_type='gain', learning_rate=0.1, max_delta_step=0,\n",
              "             max_depth=5, min_child_weight=1, missing=None, n_estimators=500,\n",
              "             n_jobs=1, nthread=None, objective='reg:squarederror',\n",
              "             random_state=0, reg_alpha=0, reg_lambda=1, scale_pos_weight=1,\n",
              "             scoring='mse', seed=None, silent=None, subsample=1, verbosity=1)"
            ]
          },
          "metadata": {
            "tags": []
          },
          "execution_count": 20
        }
      ]
    },
    {
      "cell_type": "code",
      "metadata": {
        "id": "_kwgAtpHeAi7"
      },
      "source": [
        "# For performing Gridsearch\r\n",
        "grid = GridSearchCV(xgb.XGBRegressor(objective='reg:squarederror',scoring='mse'), parameters,cv=3)"
      ],
      "execution_count": null,
      "outputs": []
    },
    {
      "cell_type": "code",
      "metadata": {
        "colab": {
          "base_uri": "https://localhost:8080/",
          "height": 328
        },
        "id": "86hFVZXYV3t6",
        "outputId": "1e31f499-8a97-4471-d15f-06191f755005"
      },
      "source": [
        "#model = xgb.XGBRegressor(max_depth=4,n_estimators=500,objective='reg:squarederror') \r\n",
        "grid.fit(X_,y_)"
      ],
      "execution_count": null,
      "outputs": [
        {
          "output_type": "error",
          "ename": "KeyboardInterrupt",
          "evalue": "ignored",
          "traceback": [
            "\u001b[0;31m---------------------------------------------------------------------------\u001b[0m",
            "\u001b[0;31mKeyboardInterrupt\u001b[0m                         Traceback (most recent call last)",
            "\u001b[0;32m<ipython-input-22-8f9575acf6b2>\u001b[0m in \u001b[0;36m<module>\u001b[0;34m()\u001b[0m\n\u001b[1;32m      1\u001b[0m \u001b[0;31m#model = xgb.XGBRegressor(max_depth=4,n_estimators=500,objective='reg:squarederror')\u001b[0m\u001b[0;34m\u001b[0m\u001b[0;34m\u001b[0m\u001b[0;34m\u001b[0m\u001b[0m\n\u001b[0;32m----> 2\u001b[0;31m \u001b[0mgrid\u001b[0m\u001b[0;34m.\u001b[0m\u001b[0mfit\u001b[0m\u001b[0;34m(\u001b[0m\u001b[0mX_\u001b[0m\u001b[0;34m,\u001b[0m\u001b[0my_\u001b[0m\u001b[0;34m)\u001b[0m\u001b[0;34m\u001b[0m\u001b[0;34m\u001b[0m\u001b[0m\n\u001b[0m",
            "\u001b[0;32m/usr/local/lib/python3.6/dist-packages/sklearn/model_selection/_search.py\u001b[0m in \u001b[0;36mfit\u001b[0;34m(self, X, y, groups, **fit_params)\u001b[0m\n\u001b[1;32m    708\u001b[0m                 \u001b[0;32mreturn\u001b[0m \u001b[0mresults\u001b[0m\u001b[0;34m\u001b[0m\u001b[0;34m\u001b[0m\u001b[0m\n\u001b[1;32m    709\u001b[0m \u001b[0;34m\u001b[0m\u001b[0m\n\u001b[0;32m--> 710\u001b[0;31m             \u001b[0mself\u001b[0m\u001b[0;34m.\u001b[0m\u001b[0m_run_search\u001b[0m\u001b[0;34m(\u001b[0m\u001b[0mevaluate_candidates\u001b[0m\u001b[0;34m)\u001b[0m\u001b[0;34m\u001b[0m\u001b[0;34m\u001b[0m\u001b[0m\n\u001b[0m\u001b[1;32m    711\u001b[0m \u001b[0;34m\u001b[0m\u001b[0m\n\u001b[1;32m    712\u001b[0m         \u001b[0;31m# For multi-metric evaluation, store the best_index_, best_params_ and\u001b[0m\u001b[0;34m\u001b[0m\u001b[0;34m\u001b[0m\u001b[0;34m\u001b[0m\u001b[0m\n",
            "\u001b[0;32m/usr/local/lib/python3.6/dist-packages/sklearn/model_selection/_search.py\u001b[0m in \u001b[0;36m_run_search\u001b[0;34m(self, evaluate_candidates)\u001b[0m\n\u001b[1;32m   1149\u001b[0m     \u001b[0;32mdef\u001b[0m \u001b[0m_run_search\u001b[0m\u001b[0;34m(\u001b[0m\u001b[0mself\u001b[0m\u001b[0;34m,\u001b[0m \u001b[0mevaluate_candidates\u001b[0m\u001b[0;34m)\u001b[0m\u001b[0;34m:\u001b[0m\u001b[0;34m\u001b[0m\u001b[0;34m\u001b[0m\u001b[0m\n\u001b[1;32m   1150\u001b[0m         \u001b[0;34m\"\"\"Search all candidates in param_grid\"\"\"\u001b[0m\u001b[0;34m\u001b[0m\u001b[0;34m\u001b[0m\u001b[0m\n\u001b[0;32m-> 1151\u001b[0;31m         \u001b[0mevaluate_candidates\u001b[0m\u001b[0;34m(\u001b[0m\u001b[0mParameterGrid\u001b[0m\u001b[0;34m(\u001b[0m\u001b[0mself\u001b[0m\u001b[0;34m.\u001b[0m\u001b[0mparam_grid\u001b[0m\u001b[0;34m)\u001b[0m\u001b[0;34m)\u001b[0m\u001b[0;34m\u001b[0m\u001b[0;34m\u001b[0m\u001b[0m\n\u001b[0m\u001b[1;32m   1152\u001b[0m \u001b[0;34m\u001b[0m\u001b[0m\n\u001b[1;32m   1153\u001b[0m \u001b[0;34m\u001b[0m\u001b[0m\n",
            "\u001b[0;32m/usr/local/lib/python3.6/dist-packages/sklearn/model_selection/_search.py\u001b[0m in \u001b[0;36mevaluate_candidates\u001b[0;34m(candidate_params)\u001b[0m\n\u001b[1;32m    687\u001b[0m                                \u001b[0;32mfor\u001b[0m \u001b[0mparameters\u001b[0m\u001b[0;34m,\u001b[0m \u001b[0;34m(\u001b[0m\u001b[0mtrain\u001b[0m\u001b[0;34m,\u001b[0m \u001b[0mtest\u001b[0m\u001b[0;34m)\u001b[0m\u001b[0;34m\u001b[0m\u001b[0;34m\u001b[0m\u001b[0m\n\u001b[1;32m    688\u001b[0m                                in product(candidate_params,\n\u001b[0;32m--> 689\u001b[0;31m                                           cv.split(X, y, groups)))\n\u001b[0m\u001b[1;32m    690\u001b[0m \u001b[0;34m\u001b[0m\u001b[0m\n\u001b[1;32m    691\u001b[0m                 \u001b[0;32mif\u001b[0m \u001b[0mlen\u001b[0m\u001b[0;34m(\u001b[0m\u001b[0mout\u001b[0m\u001b[0;34m)\u001b[0m \u001b[0;34m<\u001b[0m \u001b[0;36m1\u001b[0m\u001b[0;34m:\u001b[0m\u001b[0;34m\u001b[0m\u001b[0;34m\u001b[0m\u001b[0m\n",
            "\u001b[0;32m/usr/local/lib/python3.6/dist-packages/joblib/parallel.py\u001b[0m in \u001b[0;36m__call__\u001b[0;34m(self, iterable)\u001b[0m\n\u001b[1;32m   1042\u001b[0m                 \u001b[0mself\u001b[0m\u001b[0;34m.\u001b[0m\u001b[0m_iterating\u001b[0m \u001b[0;34m=\u001b[0m \u001b[0mself\u001b[0m\u001b[0;34m.\u001b[0m\u001b[0m_original_iterator\u001b[0m \u001b[0;32mis\u001b[0m \u001b[0;32mnot\u001b[0m \u001b[0;32mNone\u001b[0m\u001b[0;34m\u001b[0m\u001b[0;34m\u001b[0m\u001b[0m\n\u001b[1;32m   1043\u001b[0m \u001b[0;34m\u001b[0m\u001b[0m\n\u001b[0;32m-> 1044\u001b[0;31m             \u001b[0;32mwhile\u001b[0m \u001b[0mself\u001b[0m\u001b[0;34m.\u001b[0m\u001b[0mdispatch_one_batch\u001b[0m\u001b[0;34m(\u001b[0m\u001b[0miterator\u001b[0m\u001b[0;34m)\u001b[0m\u001b[0;34m:\u001b[0m\u001b[0;34m\u001b[0m\u001b[0;34m\u001b[0m\u001b[0m\n\u001b[0m\u001b[1;32m   1045\u001b[0m                 \u001b[0;32mpass\u001b[0m\u001b[0;34m\u001b[0m\u001b[0;34m\u001b[0m\u001b[0m\n\u001b[1;32m   1046\u001b[0m \u001b[0;34m\u001b[0m\u001b[0m\n",
            "\u001b[0;32m/usr/local/lib/python3.6/dist-packages/joblib/parallel.py\u001b[0m in \u001b[0;36mdispatch_one_batch\u001b[0;34m(self, iterator)\u001b[0m\n\u001b[1;32m    857\u001b[0m                 \u001b[0;32mreturn\u001b[0m \u001b[0;32mFalse\u001b[0m\u001b[0;34m\u001b[0m\u001b[0;34m\u001b[0m\u001b[0m\n\u001b[1;32m    858\u001b[0m             \u001b[0;32melse\u001b[0m\u001b[0;34m:\u001b[0m\u001b[0;34m\u001b[0m\u001b[0;34m\u001b[0m\u001b[0m\n\u001b[0;32m--> 859\u001b[0;31m                 \u001b[0mself\u001b[0m\u001b[0;34m.\u001b[0m\u001b[0m_dispatch\u001b[0m\u001b[0;34m(\u001b[0m\u001b[0mtasks\u001b[0m\u001b[0;34m)\u001b[0m\u001b[0;34m\u001b[0m\u001b[0;34m\u001b[0m\u001b[0m\n\u001b[0m\u001b[1;32m    860\u001b[0m                 \u001b[0;32mreturn\u001b[0m \u001b[0;32mTrue\u001b[0m\u001b[0;34m\u001b[0m\u001b[0;34m\u001b[0m\u001b[0m\n\u001b[1;32m    861\u001b[0m \u001b[0;34m\u001b[0m\u001b[0m\n",
            "\u001b[0;32m/usr/local/lib/python3.6/dist-packages/joblib/parallel.py\u001b[0m in \u001b[0;36m_dispatch\u001b[0;34m(self, batch)\u001b[0m\n\u001b[1;32m    775\u001b[0m         \u001b[0;32mwith\u001b[0m \u001b[0mself\u001b[0m\u001b[0;34m.\u001b[0m\u001b[0m_lock\u001b[0m\u001b[0;34m:\u001b[0m\u001b[0;34m\u001b[0m\u001b[0;34m\u001b[0m\u001b[0m\n\u001b[1;32m    776\u001b[0m             \u001b[0mjob_idx\u001b[0m \u001b[0;34m=\u001b[0m \u001b[0mlen\u001b[0m\u001b[0;34m(\u001b[0m\u001b[0mself\u001b[0m\u001b[0;34m.\u001b[0m\u001b[0m_jobs\u001b[0m\u001b[0;34m)\u001b[0m\u001b[0;34m\u001b[0m\u001b[0;34m\u001b[0m\u001b[0m\n\u001b[0;32m--> 777\u001b[0;31m             \u001b[0mjob\u001b[0m \u001b[0;34m=\u001b[0m \u001b[0mself\u001b[0m\u001b[0;34m.\u001b[0m\u001b[0m_backend\u001b[0m\u001b[0;34m.\u001b[0m\u001b[0mapply_async\u001b[0m\u001b[0;34m(\u001b[0m\u001b[0mbatch\u001b[0m\u001b[0;34m,\u001b[0m \u001b[0mcallback\u001b[0m\u001b[0;34m=\u001b[0m\u001b[0mcb\u001b[0m\u001b[0;34m)\u001b[0m\u001b[0;34m\u001b[0m\u001b[0;34m\u001b[0m\u001b[0m\n\u001b[0m\u001b[1;32m    778\u001b[0m             \u001b[0;31m# A job can complete so quickly than its callback is\u001b[0m\u001b[0;34m\u001b[0m\u001b[0;34m\u001b[0m\u001b[0;34m\u001b[0m\u001b[0m\n\u001b[1;32m    779\u001b[0m             \u001b[0;31m# called before we get here, causing self._jobs to\u001b[0m\u001b[0;34m\u001b[0m\u001b[0;34m\u001b[0m\u001b[0;34m\u001b[0m\u001b[0m\n",
            "\u001b[0;32m/usr/local/lib/python3.6/dist-packages/joblib/_parallel_backends.py\u001b[0m in \u001b[0;36mapply_async\u001b[0;34m(self, func, callback)\u001b[0m\n\u001b[1;32m    206\u001b[0m     \u001b[0;32mdef\u001b[0m \u001b[0mapply_async\u001b[0m\u001b[0;34m(\u001b[0m\u001b[0mself\u001b[0m\u001b[0;34m,\u001b[0m \u001b[0mfunc\u001b[0m\u001b[0;34m,\u001b[0m \u001b[0mcallback\u001b[0m\u001b[0;34m=\u001b[0m\u001b[0;32mNone\u001b[0m\u001b[0;34m)\u001b[0m\u001b[0;34m:\u001b[0m\u001b[0;34m\u001b[0m\u001b[0;34m\u001b[0m\u001b[0m\n\u001b[1;32m    207\u001b[0m         \u001b[0;34m\"\"\"Schedule a func to be run\"\"\"\u001b[0m\u001b[0;34m\u001b[0m\u001b[0;34m\u001b[0m\u001b[0m\n\u001b[0;32m--> 208\u001b[0;31m         \u001b[0mresult\u001b[0m \u001b[0;34m=\u001b[0m \u001b[0mImmediateResult\u001b[0m\u001b[0;34m(\u001b[0m\u001b[0mfunc\u001b[0m\u001b[0;34m)\u001b[0m\u001b[0;34m\u001b[0m\u001b[0;34m\u001b[0m\u001b[0m\n\u001b[0m\u001b[1;32m    209\u001b[0m         \u001b[0;32mif\u001b[0m \u001b[0mcallback\u001b[0m\u001b[0;34m:\u001b[0m\u001b[0;34m\u001b[0m\u001b[0;34m\u001b[0m\u001b[0m\n\u001b[1;32m    210\u001b[0m             \u001b[0mcallback\u001b[0m\u001b[0;34m(\u001b[0m\u001b[0mresult\u001b[0m\u001b[0;34m)\u001b[0m\u001b[0;34m\u001b[0m\u001b[0;34m\u001b[0m\u001b[0m\n",
            "\u001b[0;32m/usr/local/lib/python3.6/dist-packages/joblib/_parallel_backends.py\u001b[0m in \u001b[0;36m__init__\u001b[0;34m(self, batch)\u001b[0m\n\u001b[1;32m    570\u001b[0m         \u001b[0;31m# Don't delay the application, to avoid keeping the input\u001b[0m\u001b[0;34m\u001b[0m\u001b[0;34m\u001b[0m\u001b[0;34m\u001b[0m\u001b[0m\n\u001b[1;32m    571\u001b[0m         \u001b[0;31m# arguments in memory\u001b[0m\u001b[0;34m\u001b[0m\u001b[0;34m\u001b[0m\u001b[0;34m\u001b[0m\u001b[0m\n\u001b[0;32m--> 572\u001b[0;31m         \u001b[0mself\u001b[0m\u001b[0;34m.\u001b[0m\u001b[0mresults\u001b[0m \u001b[0;34m=\u001b[0m \u001b[0mbatch\u001b[0m\u001b[0;34m(\u001b[0m\u001b[0;34m)\u001b[0m\u001b[0;34m\u001b[0m\u001b[0;34m\u001b[0m\u001b[0m\n\u001b[0m\u001b[1;32m    573\u001b[0m \u001b[0;34m\u001b[0m\u001b[0m\n\u001b[1;32m    574\u001b[0m     \u001b[0;32mdef\u001b[0m \u001b[0mget\u001b[0m\u001b[0;34m(\u001b[0m\u001b[0mself\u001b[0m\u001b[0;34m)\u001b[0m\u001b[0;34m:\u001b[0m\u001b[0;34m\u001b[0m\u001b[0;34m\u001b[0m\u001b[0m\n",
            "\u001b[0;32m/usr/local/lib/python3.6/dist-packages/joblib/parallel.py\u001b[0m in \u001b[0;36m__call__\u001b[0;34m(self)\u001b[0m\n\u001b[1;32m    261\u001b[0m         \u001b[0;32mwith\u001b[0m \u001b[0mparallel_backend\u001b[0m\u001b[0;34m(\u001b[0m\u001b[0mself\u001b[0m\u001b[0;34m.\u001b[0m\u001b[0m_backend\u001b[0m\u001b[0;34m,\u001b[0m \u001b[0mn_jobs\u001b[0m\u001b[0;34m=\u001b[0m\u001b[0mself\u001b[0m\u001b[0;34m.\u001b[0m\u001b[0m_n_jobs\u001b[0m\u001b[0;34m)\u001b[0m\u001b[0;34m:\u001b[0m\u001b[0;34m\u001b[0m\u001b[0;34m\u001b[0m\u001b[0m\n\u001b[1;32m    262\u001b[0m             return [func(*args, **kwargs)\n\u001b[0;32m--> 263\u001b[0;31m                     for func, args, kwargs in self.items]\n\u001b[0m\u001b[1;32m    264\u001b[0m \u001b[0;34m\u001b[0m\u001b[0m\n\u001b[1;32m    265\u001b[0m     \u001b[0;32mdef\u001b[0m \u001b[0m__reduce__\u001b[0m\u001b[0;34m(\u001b[0m\u001b[0mself\u001b[0m\u001b[0;34m)\u001b[0m\u001b[0;34m:\u001b[0m\u001b[0;34m\u001b[0m\u001b[0;34m\u001b[0m\u001b[0m\n",
            "\u001b[0;32m/usr/local/lib/python3.6/dist-packages/joblib/parallel.py\u001b[0m in \u001b[0;36m<listcomp>\u001b[0;34m(.0)\u001b[0m\n\u001b[1;32m    261\u001b[0m         \u001b[0;32mwith\u001b[0m \u001b[0mparallel_backend\u001b[0m\u001b[0;34m(\u001b[0m\u001b[0mself\u001b[0m\u001b[0;34m.\u001b[0m\u001b[0m_backend\u001b[0m\u001b[0;34m,\u001b[0m \u001b[0mn_jobs\u001b[0m\u001b[0;34m=\u001b[0m\u001b[0mself\u001b[0m\u001b[0;34m.\u001b[0m\u001b[0m_n_jobs\u001b[0m\u001b[0;34m)\u001b[0m\u001b[0;34m:\u001b[0m\u001b[0;34m\u001b[0m\u001b[0;34m\u001b[0m\u001b[0m\n\u001b[1;32m    262\u001b[0m             return [func(*args, **kwargs)\n\u001b[0;32m--> 263\u001b[0;31m                     for func, args, kwargs in self.items]\n\u001b[0m\u001b[1;32m    264\u001b[0m \u001b[0;34m\u001b[0m\u001b[0m\n\u001b[1;32m    265\u001b[0m     \u001b[0;32mdef\u001b[0m \u001b[0m__reduce__\u001b[0m\u001b[0;34m(\u001b[0m\u001b[0mself\u001b[0m\u001b[0;34m)\u001b[0m\u001b[0;34m:\u001b[0m\u001b[0;34m\u001b[0m\u001b[0;34m\u001b[0m\u001b[0m\n",
            "\u001b[0;32m/usr/local/lib/python3.6/dist-packages/sklearn/model_selection/_validation.py\u001b[0m in \u001b[0;36m_fit_and_score\u001b[0;34m(estimator, X, y, scorer, train, test, verbose, parameters, fit_params, return_train_score, return_parameters, return_n_test_samples, return_times, return_estimator, error_score)\u001b[0m\n\u001b[1;32m    513\u001b[0m             \u001b[0mestimator\u001b[0m\u001b[0;34m.\u001b[0m\u001b[0mfit\u001b[0m\u001b[0;34m(\u001b[0m\u001b[0mX_train\u001b[0m\u001b[0;34m,\u001b[0m \u001b[0;34m**\u001b[0m\u001b[0mfit_params\u001b[0m\u001b[0;34m)\u001b[0m\u001b[0;34m\u001b[0m\u001b[0;34m\u001b[0m\u001b[0m\n\u001b[1;32m    514\u001b[0m         \u001b[0;32melse\u001b[0m\u001b[0;34m:\u001b[0m\u001b[0;34m\u001b[0m\u001b[0;34m\u001b[0m\u001b[0m\n\u001b[0;32m--> 515\u001b[0;31m             \u001b[0mestimator\u001b[0m\u001b[0;34m.\u001b[0m\u001b[0mfit\u001b[0m\u001b[0;34m(\u001b[0m\u001b[0mX_train\u001b[0m\u001b[0;34m,\u001b[0m \u001b[0my_train\u001b[0m\u001b[0;34m,\u001b[0m \u001b[0;34m**\u001b[0m\u001b[0mfit_params\u001b[0m\u001b[0;34m)\u001b[0m\u001b[0;34m\u001b[0m\u001b[0;34m\u001b[0m\u001b[0m\n\u001b[0m\u001b[1;32m    516\u001b[0m \u001b[0;34m\u001b[0m\u001b[0m\n\u001b[1;32m    517\u001b[0m     \u001b[0;32mexcept\u001b[0m \u001b[0mException\u001b[0m \u001b[0;32mas\u001b[0m \u001b[0me\u001b[0m\u001b[0;34m:\u001b[0m\u001b[0;34m\u001b[0m\u001b[0;34m\u001b[0m\u001b[0m\n",
            "\u001b[0;32m/usr/local/lib/python3.6/dist-packages/xgboost/sklearn.py\u001b[0m in \u001b[0;36mfit\u001b[0;34m(self, X, y, sample_weight, eval_set, eval_metric, early_stopping_rounds, verbose, xgb_model, sample_weight_eval_set, callbacks)\u001b[0m\n\u001b[1;32m    394\u001b[0m                               \u001b[0mevals_result\u001b[0m\u001b[0;34m=\u001b[0m\u001b[0mevals_result\u001b[0m\u001b[0;34m,\u001b[0m \u001b[0mobj\u001b[0m\u001b[0;34m=\u001b[0m\u001b[0mobj\u001b[0m\u001b[0;34m,\u001b[0m \u001b[0mfeval\u001b[0m\u001b[0;34m=\u001b[0m\u001b[0mfeval\u001b[0m\u001b[0;34m,\u001b[0m\u001b[0;34m\u001b[0m\u001b[0;34m\u001b[0m\u001b[0m\n\u001b[1;32m    395\u001b[0m                               \u001b[0mverbose_eval\u001b[0m\u001b[0;34m=\u001b[0m\u001b[0mverbose\u001b[0m\u001b[0;34m,\u001b[0m \u001b[0mxgb_model\u001b[0m\u001b[0;34m=\u001b[0m\u001b[0mxgb_model\u001b[0m\u001b[0;34m,\u001b[0m\u001b[0;34m\u001b[0m\u001b[0;34m\u001b[0m\u001b[0m\n\u001b[0;32m--> 396\u001b[0;31m                               callbacks=callbacks)\n\u001b[0m\u001b[1;32m    397\u001b[0m \u001b[0;34m\u001b[0m\u001b[0m\n\u001b[1;32m    398\u001b[0m         \u001b[0;32mif\u001b[0m \u001b[0mevals_result\u001b[0m\u001b[0;34m:\u001b[0m\u001b[0;34m\u001b[0m\u001b[0;34m\u001b[0m\u001b[0m\n",
            "\u001b[0;32m/usr/local/lib/python3.6/dist-packages/xgboost/training.py\u001b[0m in \u001b[0;36mtrain\u001b[0;34m(params, dtrain, num_boost_round, evals, obj, feval, maximize, early_stopping_rounds, evals_result, verbose_eval, xgb_model, callbacks, learning_rates)\u001b[0m\n\u001b[1;32m    214\u001b[0m                            \u001b[0mevals\u001b[0m\u001b[0;34m=\u001b[0m\u001b[0mevals\u001b[0m\u001b[0;34m,\u001b[0m\u001b[0;34m\u001b[0m\u001b[0;34m\u001b[0m\u001b[0m\n\u001b[1;32m    215\u001b[0m                            \u001b[0mobj\u001b[0m\u001b[0;34m=\u001b[0m\u001b[0mobj\u001b[0m\u001b[0;34m,\u001b[0m \u001b[0mfeval\u001b[0m\u001b[0;34m=\u001b[0m\u001b[0mfeval\u001b[0m\u001b[0;34m,\u001b[0m\u001b[0;34m\u001b[0m\u001b[0;34m\u001b[0m\u001b[0m\n\u001b[0;32m--> 216\u001b[0;31m                            xgb_model=xgb_model, callbacks=callbacks)\n\u001b[0m\u001b[1;32m    217\u001b[0m \u001b[0;34m\u001b[0m\u001b[0m\n\u001b[1;32m    218\u001b[0m \u001b[0;34m\u001b[0m\u001b[0m\n",
            "\u001b[0;32m/usr/local/lib/python3.6/dist-packages/xgboost/training.py\u001b[0m in \u001b[0;36m_train_internal\u001b[0;34m(params, dtrain, num_boost_round, evals, obj, feval, xgb_model, callbacks)\u001b[0m\n\u001b[1;32m     72\u001b[0m         \u001b[0;31m# Skip the first update if it is a recovery step.\u001b[0m\u001b[0;34m\u001b[0m\u001b[0;34m\u001b[0m\u001b[0;34m\u001b[0m\u001b[0m\n\u001b[1;32m     73\u001b[0m         \u001b[0;32mif\u001b[0m \u001b[0mversion\u001b[0m \u001b[0;34m%\u001b[0m \u001b[0;36m2\u001b[0m \u001b[0;34m==\u001b[0m \u001b[0;36m0\u001b[0m\u001b[0;34m:\u001b[0m\u001b[0;34m\u001b[0m\u001b[0;34m\u001b[0m\u001b[0m\n\u001b[0;32m---> 74\u001b[0;31m             \u001b[0mbst\u001b[0m\u001b[0;34m.\u001b[0m\u001b[0mupdate\u001b[0m\u001b[0;34m(\u001b[0m\u001b[0mdtrain\u001b[0m\u001b[0;34m,\u001b[0m \u001b[0mi\u001b[0m\u001b[0;34m,\u001b[0m \u001b[0mobj\u001b[0m\u001b[0;34m)\u001b[0m\u001b[0;34m\u001b[0m\u001b[0;34m\u001b[0m\u001b[0m\n\u001b[0m\u001b[1;32m     75\u001b[0m             \u001b[0mbst\u001b[0m\u001b[0;34m.\u001b[0m\u001b[0msave_rabit_checkpoint\u001b[0m\u001b[0;34m(\u001b[0m\u001b[0;34m)\u001b[0m\u001b[0;34m\u001b[0m\u001b[0;34m\u001b[0m\u001b[0m\n\u001b[1;32m     76\u001b[0m             \u001b[0mversion\u001b[0m \u001b[0;34m+=\u001b[0m \u001b[0;36m1\u001b[0m\u001b[0;34m\u001b[0m\u001b[0;34m\u001b[0m\u001b[0m\n",
            "\u001b[0;32m/usr/local/lib/python3.6/dist-packages/xgboost/core.py\u001b[0m in \u001b[0;36mupdate\u001b[0;34m(self, dtrain, iteration, fobj)\u001b[0m\n\u001b[1;32m   1107\u001b[0m         \u001b[0;32mif\u001b[0m \u001b[0mfobj\u001b[0m \u001b[0;32mis\u001b[0m \u001b[0;32mNone\u001b[0m\u001b[0;34m:\u001b[0m\u001b[0;34m\u001b[0m\u001b[0;34m\u001b[0m\u001b[0m\n\u001b[1;32m   1108\u001b[0m             _check_call(_LIB.XGBoosterUpdateOneIter(self.handle, ctypes.c_int(iteration),\n\u001b[0;32m-> 1109\u001b[0;31m                                                     dtrain.handle))\n\u001b[0m\u001b[1;32m   1110\u001b[0m         \u001b[0;32melse\u001b[0m\u001b[0;34m:\u001b[0m\u001b[0;34m\u001b[0m\u001b[0;34m\u001b[0m\u001b[0m\n\u001b[1;32m   1111\u001b[0m             \u001b[0mpred\u001b[0m \u001b[0;34m=\u001b[0m \u001b[0mself\u001b[0m\u001b[0;34m.\u001b[0m\u001b[0mpredict\u001b[0m\u001b[0;34m(\u001b[0m\u001b[0mdtrain\u001b[0m\u001b[0;34m)\u001b[0m\u001b[0;34m\u001b[0m\u001b[0;34m\u001b[0m\u001b[0m\n",
            "\u001b[0;31mKeyboardInterrupt\u001b[0m: "
          ]
        }
      ]
    },
    {
      "cell_type": "code",
      "metadata": {
        "id": "LNLofD1yu7he"
      },
      "source": [
        "plt.plot(model.feature_importances_)"
      ],
      "execution_count": null,
      "outputs": []
    },
    {
      "cell_type": "code",
      "metadata": {
        "id": "PWXhjB_rNEG8"
      },
      "source": [
        "print(\"Training score \",model.score(X_train,y_train))\r\n",
        "print(\"Testing scofe \",model.score(X_test,y_test))\r\n",
        "rmse=np.sqrt(mean_squared_error(y_test,model.predict(X_test)))\r\n",
        "print(\"Rmse \",rmse)"
      ],
      "execution_count": null,
      "outputs": []
    },
    {
      "cell_type": "code",
      "metadata": {
        "id": "R2mYRPps3bHJ"
      },
      "source": [
        "erreur=cours_predit-cours_actuel\r\n",
        "plt.plot(erreur,color='blue')\r\n",
        "#plt.fill_between(np.arange(0,len(erreur)),np.array(erreur+erreur_min).ravel(),np.array(erreur+erreur_max).ravel())\r\n",
        "plt.show()"
      ],
      "execution_count": null,
      "outputs": []
    },
    {
      "cell_type": "code",
      "metadata": {
        "id": "bQ_S91Va32nK"
      },
      "source": [
        "plt.hist(erreur,bins=50)\r\n",
        "plt.show()\r\n",
        "erreur_min=np.percentile(erreur,2.5)\r\n",
        "erreur_max=np.percentile(erreur,97.5)\r\n",
        "print(\"Intervalle de confiance \",erreur_min, erreur_max)"
      ],
      "execution_count": null,
      "outputs": []
    },
    {
      "cell_type": "code",
      "metadata": {
        "id": "OsA7br6WNgC4"
      },
      "source": [
        "y_pred_train=model.predict(X_train)\r\n",
        "y_pred_test=model.predict(X_test)\r\n",
        "r2=r2_score(y_test, y_pred_test)\r\n",
        "plt.scatter(scaler.inverse_transform(y_pred_train.reshape(-1,1)),scaler.inverse_transform(y_train),color='blue',alpha=0.05,label='train data')\r\n",
        "plt.scatter(scaler.inverse_transform(y_pred_test.reshape(-1,1)),scaler.inverse_transform(y_test),color='red',alpha=0.05,label='test data')\r\n",
        "plt.xlabel('Prediction')\r\n",
        "plt.ylabel('Ground truth')\r\n",
        "plt.title(\"Prediction vs Actual. R2 score=%0.2f\"%r2)\r\n",
        "plt.legend()\r\n",
        "plt.show()"
      ],
      "execution_count": null,
      "outputs": []
    },
    {
      "cell_type": "code",
      "metadata": {
        "id": "yDEtcDlPmYC2"
      },
      "source": [
        "y_pred=model.predict(X_).reshape(-1,1)\r\n",
        "n_plot=25\r\n",
        "cours_actuel=scaler.inverse_transform(y_[-n_plot:])\r\n",
        "cours_predit=scaler.inverse_transform(y_pred[-n_plot:])\r\n",
        "plt.plot(cours_actuel,color='blue',label='actual',alpha=0.8)\r\n",
        "plt.plot(cours_predit,color='red',label='predicted',alpha=0.5)\r\n",
        "#plt.fill_between(np.arange(0,len(cours_predit)),np.array(cours_predit+erreur_min).ravel(),np.array(cours_predit+erreur_max).ravel(),alpha=0.5)\r\n",
        "plt.legend()\r\n",
        "plt.show()"
      ],
      "execution_count": null,
      "outputs": []
    },
    {
      "cell_type": "code",
      "metadata": {
        "id": "_tIOwjYFI2qC"
      },
      "source": [
        "pred=scaler.inverse_transform(model.predict(X_[-horizon:]).reshape(-1,1))\r\n",
        "print(\"Prediction for the next 5 days\")\r\n",
        "pred=pd.DataFrame(pred,columns=[\"Prediction\"])\r\n",
        "pred.index=['tomorrow','t+2','t+3','t+4']\r\n",
        "print(pred)"
      ],
      "execution_count": null,
      "outputs": []
    },
    {
      "cell_type": "code",
      "metadata": {
        "id": "ypY6KM0utgXL"
      },
      "source": [
        "pred.plot()"
      ],
      "execution_count": null,
      "outputs": []
    },
    {
      "cell_type": "code",
      "metadata": {
        "id": "0z3XLeey85Ig"
      },
      "source": [
        "# Predict in the last N days of known \r\n",
        "N=5\r\n",
        "X_horiz=[]\r\n",
        "for i in range(len(data)-horizon-N,len(data)-horizon):\r\n",
        "  data1=data['Close'].iloc[i-lookback:i].values\r\n",
        "  data2=data['daily perc'].iloc[i-lookback:i].values\r\n",
        "  X_horiz.append(np.append(data1,data2))\r\n",
        "X_to_predict=scaler.transform(X_horiz)\r\n",
        "y_predicted=model.predict(X_to_predict)\r\n",
        "y_predicted=scaler.inverse_transform(y_predicted)"
      ],
      "execution_count": null,
      "outputs": []
    },
    {
      "cell_type": "code",
      "metadata": {
        "id": "ZkZnbKgZ85Pr"
      },
      "source": [
        "plt.rcParams['figure.figsize'] = [12, 8]\r\n",
        "N_days=50 # How many days to look back\r\n",
        "y_pred_lookback=scaler.inverse_transform(model.predict(X_[-N_days:]))\r\n",
        "plt.plot(np.append(y_pred_lookback,y_predicted),color='red',label='prediction')\r\n",
        "plt.plot(y[-N_days-horizon:-horizon],color='black',label='actual')\r\n",
        "plt.legend()\r\n",
        "plt.title('EUR/USD +1d %0.3f'%y_predicted[0]+' +2d %0.3f'%y_predicted[1]+' +3d %0.3f'%y_predicted[2]+' +4d %0.3f'%y_predicted[3]+' +5d %0.3f'%y_predicted[4])\r\n",
        "plt.show()\r\n"
      ],
      "execution_count": null,
      "outputs": []
    },
    {
      "cell_type": "markdown",
      "metadata": {
        "id": "hq_TwZac0bM9"
      },
      "source": [
        "# Random Walk"
      ]
    },
    {
      "cell_type": "code",
      "metadata": {
        "colab": {
          "base_uri": "https://localhost:8080/",
          "height": 1000
        },
        "id": "cOq6c61k8dYe",
        "outputId": "83f10290-837d-46cf-9a39-33e7d6dc89aa"
      },
      "source": [
        "# Random Walk method\r\n",
        "plt.plot(data.Close.values,color='red')\r\n",
        "plt.ylim((0,2.5))\r\n",
        "N_start=50\r\n",
        "df=data\r\n",
        "for j in range (0,10):\r\n",
        "  initial_stock=data['Close'].iloc[N_start]\r\n",
        "  cours=np.array([initial_stock])\r\n",
        "  df['T'+str(j)]=0\r\n",
        "  print(j)\r\n",
        "  for i in range(N_start,len(data)):\r\n",
        "    # pick a random variation \r\n",
        "    perc=data['daily perc'][i-N_start:i].sample()\r\n",
        "    cours=np.append(cours,cours[-1]*perc)\r\n",
        "    df['T'+str(j)].iloc[i]=cours[-1]\r\n",
        "  plt.plot(cours,color='blue',alpha=0.2)\r\n",
        "plt.show() \r\n"
      ],
      "execution_count": null,
      "outputs": [
        {
          "output_type": "stream",
          "text": [
            "0\n"
          ],
          "name": "stdout"
        },
        {
          "output_type": "stream",
          "text": [
            "/usr/local/lib/python3.6/dist-packages/pandas/core/indexing.py:670: SettingWithCopyWarning:\n",
            "\n",
            "\n",
            "A value is trying to be set on a copy of a slice from a DataFrame\n",
            "\n",
            "See the caveats in the documentation: https://pandas.pydata.org/pandas-docs/stable/user_guide/indexing.html#returning-a-view-versus-a-copy\n",
            "\n"
          ],
          "name": "stderr"
        },
        {
          "output_type": "stream",
          "text": [
            "1\n"
          ],
          "name": "stdout"
        },
        {
          "output_type": "stream",
          "text": [
            "/usr/local/lib/python3.6/dist-packages/pandas/core/indexing.py:670: SettingWithCopyWarning:\n",
            "\n",
            "\n",
            "A value is trying to be set on a copy of a slice from a DataFrame\n",
            "\n",
            "See the caveats in the documentation: https://pandas.pydata.org/pandas-docs/stable/user_guide/indexing.html#returning-a-view-versus-a-copy\n",
            "\n"
          ],
          "name": "stderr"
        },
        {
          "output_type": "stream",
          "text": [
            "2\n"
          ],
          "name": "stdout"
        },
        {
          "output_type": "stream",
          "text": [
            "/usr/local/lib/python3.6/dist-packages/pandas/core/indexing.py:670: SettingWithCopyWarning:\n",
            "\n",
            "\n",
            "A value is trying to be set on a copy of a slice from a DataFrame\n",
            "\n",
            "See the caveats in the documentation: https://pandas.pydata.org/pandas-docs/stable/user_guide/indexing.html#returning-a-view-versus-a-copy\n",
            "\n"
          ],
          "name": "stderr"
        },
        {
          "output_type": "stream",
          "text": [
            "3\n"
          ],
          "name": "stdout"
        },
        {
          "output_type": "stream",
          "text": [
            "/usr/local/lib/python3.6/dist-packages/pandas/core/indexing.py:670: SettingWithCopyWarning:\n",
            "\n",
            "\n",
            "A value is trying to be set on a copy of a slice from a DataFrame\n",
            "\n",
            "See the caveats in the documentation: https://pandas.pydata.org/pandas-docs/stable/user_guide/indexing.html#returning-a-view-versus-a-copy\n",
            "\n"
          ],
          "name": "stderr"
        },
        {
          "output_type": "stream",
          "text": [
            "4\n"
          ],
          "name": "stdout"
        },
        {
          "output_type": "stream",
          "text": [
            "/usr/local/lib/python3.6/dist-packages/pandas/core/indexing.py:670: SettingWithCopyWarning:\n",
            "\n",
            "\n",
            "A value is trying to be set on a copy of a slice from a DataFrame\n",
            "\n",
            "See the caveats in the documentation: https://pandas.pydata.org/pandas-docs/stable/user_guide/indexing.html#returning-a-view-versus-a-copy\n",
            "\n"
          ],
          "name": "stderr"
        },
        {
          "output_type": "stream",
          "text": [
            "5\n"
          ],
          "name": "stdout"
        },
        {
          "output_type": "stream",
          "text": [
            "/usr/local/lib/python3.6/dist-packages/pandas/core/indexing.py:670: SettingWithCopyWarning:\n",
            "\n",
            "\n",
            "A value is trying to be set on a copy of a slice from a DataFrame\n",
            "\n",
            "See the caveats in the documentation: https://pandas.pydata.org/pandas-docs/stable/user_guide/indexing.html#returning-a-view-versus-a-copy\n",
            "\n"
          ],
          "name": "stderr"
        },
        {
          "output_type": "stream",
          "text": [
            "6\n"
          ],
          "name": "stdout"
        },
        {
          "output_type": "stream",
          "text": [
            "/usr/local/lib/python3.6/dist-packages/pandas/core/indexing.py:670: SettingWithCopyWarning:\n",
            "\n",
            "\n",
            "A value is trying to be set on a copy of a slice from a DataFrame\n",
            "\n",
            "See the caveats in the documentation: https://pandas.pydata.org/pandas-docs/stable/user_guide/indexing.html#returning-a-view-versus-a-copy\n",
            "\n"
          ],
          "name": "stderr"
        },
        {
          "output_type": "stream",
          "text": [
            "7\n"
          ],
          "name": "stdout"
        },
        {
          "output_type": "stream",
          "text": [
            "/usr/local/lib/python3.6/dist-packages/pandas/core/indexing.py:670: SettingWithCopyWarning:\n",
            "\n",
            "\n",
            "A value is trying to be set on a copy of a slice from a DataFrame\n",
            "\n",
            "See the caveats in the documentation: https://pandas.pydata.org/pandas-docs/stable/user_guide/indexing.html#returning-a-view-versus-a-copy\n",
            "\n"
          ],
          "name": "stderr"
        },
        {
          "output_type": "stream",
          "text": [
            "8\n"
          ],
          "name": "stdout"
        },
        {
          "output_type": "stream",
          "text": [
            "/usr/local/lib/python3.6/dist-packages/pandas/core/indexing.py:670: SettingWithCopyWarning:\n",
            "\n",
            "\n",
            "A value is trying to be set on a copy of a slice from a DataFrame\n",
            "\n",
            "See the caveats in the documentation: https://pandas.pydata.org/pandas-docs/stable/user_guide/indexing.html#returning-a-view-versus-a-copy\n",
            "\n"
          ],
          "name": "stderr"
        },
        {
          "output_type": "stream",
          "text": [
            "9\n"
          ],
          "name": "stdout"
        },
        {
          "output_type": "stream",
          "text": [
            "/usr/local/lib/python3.6/dist-packages/pandas/core/indexing.py:670: SettingWithCopyWarning:\n",
            "\n",
            "\n",
            "A value is trying to be set on a copy of a slice from a DataFrame\n",
            "\n",
            "See the caveats in the documentation: https://pandas.pydata.org/pandas-docs/stable/user_guide/indexing.html#returning-a-view-versus-a-copy\n",
            "\n"
          ],
          "name": "stderr"
        },
        {
          "output_type": "display_data",
          "data": {
            "image/png": "[encoded data removed]",
            "text/plain": [
              "<Figure size 432x288 with 1 Axes>"
            ]
          },
          "metadata": {
            "tags": [],
            "needs_background": "light"
          }
        }
      ]
    },
    {
      "cell_type": "code",
      "metadata": {
        "colab": {
          "base_uri": "https://localhost:8080/"
        },
        "id": "g-TCzRW3CTuj",
        "outputId": "0222832d-db9b-483c-808b-36e7b451e32b"
      },
      "source": [
        "# Calculate 95% percentile\r\n",
        "df['lower']=0\r\n",
        "df['median']=0\r\n",
        "df['upper']=0\r\n",
        "for j in range (0,len(df)):\r\n",
        "  lower, median, upper=np.percentile(df.iloc[j][7:],[2.5,50,97.5])\r\n",
        "  df['lower'].iloc[j]=lower\r\n",
        "  df['median'].iloc[j]=median\r\n",
        "  df['upper'].iloc[j]=upper"
      ],
      "execution_count": null,
      "outputs": [
        {
          "output_type": "stream",
          "text": [
            "/usr/local/lib/python3.6/dist-packages/pandas/core/indexing.py:670: SettingWithCopyWarning:\n",
            "\n",
            "\n",
            "A value is trying to be set on a copy of a slice from a DataFrame\n",
            "\n",
            "See the caveats in the documentation: https://pandas.pydata.org/pandas-docs/stable/user_guide/indexing.html#returning-a-view-versus-a-copy\n",
            "\n"
          ],
          "name": "stderr"
        }
      ]
    },
    {
      "cell_type": "code",
      "metadata": {
        "colab": {
          "base_uri": "https://localhost:8080/",
          "height": 283
        },
        "id": "g9M7r9fv8daw",
        "outputId": "a2f4a433-157a-4146-c773-ee632facf5de"
      },
      "source": [
        "df['Close'].plot(color='red')\r\n",
        "plt.ylim((0,3))\r\n",
        "df['median'].plot(color='green')\r\n",
        "plt.fill_between(df.index,df['lower'],df['upper'],color='blue',alpha=0.25)\r\n",
        "plt.show()"
      ],
      "execution_count": null,
      "outputs": [
        {
          "output_type": "display_data",
          "data": {
            "image/png": "[encoded data removed]",
            "text/plain": [
              "<Figure size 432x288 with 1 Axes>"
            ]
          },
          "metadata": {
            "tags": [],
            "needs_background": "light"
          }
        }
      ]
    },
    {
      "cell_type": "code",
      "metadata": {
        "id": "ioWTVcc2Guup"
      },
      "source": [
        "# Extrapolate for n days using data from last N_start days\r\n",
        "def extrapol(N_start=100,n=5):\r\n",
        "  N_start=100\r\n",
        "  n_traces=5000# how many traces we want\r\n",
        "  df=data\r\n",
        "  n=5 # amount of days to extrapolate\r\n",
        "  X=pd.DataFrame()\r\n",
        "  percent=df['daily perc'][-N_start:].values.tolist()\r\n",
        "  for j in range(0,n_traces): # How many traces we generate\r\n",
        "    cours=np.array([df.Close[-1]])\r\n",
        "    for i in range(0,n):\r\n",
        "      # pick a sample variation\r\n",
        "      perc=np.random.choice(percent) #[i:])\r\n",
        "      cours=np.append(cours,cours[-1]*perc)\r\n",
        "      percent.append(perc)\r\n",
        "    X['T'+str(j)]=cours \r\n",
        "    # Calculate 95% percentile\r\n",
        "  X['lower']=0\r\n",
        "  X['median']=0\r\n",
        "  X['upper']=0\r\n",
        "  for j in range (0,len(X)):\r\n",
        "    lower, median, upper=np.percentile(X.iloc[j][0:],[5,50,97.5])\r\n",
        "    X['lower'].iloc[j]=lower\r\n",
        "    X['median'].iloc[j]=median\r\n",
        "    X['upper'].iloc[j]=upper\r\n",
        "  # Plot the extrapolation\r\n",
        "  #plt.ylim((0,150))\r\n",
        "  #X['median'].plot(color='green')\r\n",
        "  #plt.ylim((df.Open[-1]*0.95,df.Open[-1]*1.05))\r\n",
        "  #plt.fill_between(X.index,X['lower'],X['upper'],color='blue',alpha=0.25)\r\n",
        "  #plt.show()\r\n",
        "  prediction=X.iloc[-1][0:n_traces]\r\n",
        "  med=np.percentile(prediction, 50)\r\n",
        "  return med"
      ],
      "execution_count": null,
      "outputs": []
    },
    {
      "cell_type": "code",
      "metadata": {
        "id": "5LDEQIPk6AuI",
        "colab": {
          "base_uri": "https://localhost:8080/",
          "height": 1000
        },
        "outputId": "35bbc4e3-135f-41ab-bc21-17c12f3c44f1"
      },
      "source": [
        "for i in range(1,6+0*len(X)):\r\n",
        "  prediction=X.iloc[i][0:n_traces]\r\n",
        "  med=np.percentile(prediction, 50)\r\n",
        "  plt.title(Index+'+'+str(i)+' day, median=%0.5f'%med)\r\n",
        "  plt.hist(prediction,bins=20)\r\n",
        "  plt.show()"
      ],
      "execution_count": null,
      "outputs": [
        {
          "output_type": "display_data",
          "data": {
            "image/png": "[encoded data removed]",
            "text/plain": [
              "<Figure size 432x288 with 1 Axes>"
            ]
          },
          "metadata": {
            "tags": [],
            "needs_background": "light"
          }
        },
        {
          "output_type": "display_data",
          "data": {
            "image/png": "[encoded data removed]",
            "text/plain": [
              "<Figure size 432x288 with 1 Axes>"
            ]
          },
          "metadata": {
            "tags": [],
            "needs_background": "light"
          }
        },
        {
          "output_type": "display_data",
          "data": {
            "image/png": "[encoded data removed]",
            "text/plain": [
              "<Figure size 432x288 with 1 Axes>"
            ]
          },
          "metadata": {
            "tags": [],
            "needs_background": "light"
          }
        },
        {
          "output_type": "display_data",
          "data": {
            "image/png": "[encoded data removed]",
            "text/plain": [
              "<Figure size 432x288 with 1 Axes>"
            ]
          },
          "metadata": {
            "tags": [],
            "needs_background": "light"
          }
        },
        {
          "output_type": "display_data",
          "data": {
            "image/png": "[encoded data removed]",
            "text/plain": [
              "<Figure size 432x288 with 1 Axes>"
            ]
          },
          "metadata": {
            "tags": [],
            "needs_background": "light"
          }
        }
      ]
    },
    {
      "cell_type": "markdown",
      "metadata": {
        "id": "dJPBUYt3YRMD"
      },
      "source": [
        "# LSTM Model"
      ]
    },
    {
      "cell_type": "markdown",
      "metadata": {
        "id": "SKmFAQm1lhoB"
      },
      "source": [
        "Très très largement inspiré de https://keras.io/examples/timeseries/timeseries_weather_forecasting/"
      ]
    },
    {
      "cell_type": "code",
      "metadata": {
        "id": "28cgXxy1YPiJ"
      },
      "source": [
        "import pandas as pd\r\n",
        "import matplotlib.pyplot as plt\r\n",
        "import tensorflow as tf\r\n",
        "from tensorflow import keras\r\n",
        "from keras.preprocessing.sequence import TimeseriesGenerator"
      ],
      "execution_count": 12,
      "outputs": []
    },
    {
      "cell_type": "code",
      "metadata": {
        "id": "lJZGN8fOTgoe"
      },
      "source": [
        "data=data[['Close','candle']]"
      ],
      "execution_count": 109,
      "outputs": []
    },
    {
      "cell_type": "code",
      "metadata": {
        "id": "Ilj72a2x64OV"
      },
      "source": [
        "def visualize_loss(history, title):\r\n",
        "    loss = history.history[\"loss\"][3:]\r\n",
        "    val_loss = history.history[\"val_loss\"][3:]\r\n",
        "    epochs = range(len(loss))\r\n",
        "    plt.figure()\r\n",
        "    plt.plot(epochs, loss, \"b\", label=\"Training loss\")\r\n",
        "    plt.plot(epochs, val_loss, \"r\", label=\"Validation loss\")\r\n",
        "    plt.title(title)\r\n",
        "    plt.xlabel(\"Epochs\")\r\n",
        "    plt.ylabel(\"Loss\")\r\n",
        "    plt.legend()\r\n",
        "    plt.show()\r\n"
      ],
      "execution_count": 123,
      "outputs": []
    },
    {
      "cell_type": "code",
      "metadata": {
        "id": "WHbmG5lH36e3",
        "colab": {
          "base_uri": "https://localhost:8080/"
        },
        "outputId": "44a4b6f7-0225-46c8-e30f-507db8e84450"
      },
      "source": [
        "scalerX=MinMaxScaler()\r\n",
        "scalery=MinMaxScaler()\r\n",
        "scalerX.fit(data)\r\n",
        "scalery.fit(data.Close.values.reshape(-1,1))\r\n"
      ],
      "execution_count": 111,
      "outputs": [
        {
          "output_type": "execute_result",
          "data": {
            "text/plain": [
              "MinMaxScaler(copy=True, feature_range=(0, 1))"
            ]
          },
          "metadata": {
            "tags": []
          },
          "execution_count": 111
        }
      ]
    },
    {
      "cell_type": "code",
      "metadata": {
        "id": "vgNC-60H4Hn_"
      },
      "source": [
        "data_scaled=pd.DataFrame(scalerX.transform(data),columns=data.columns)\r\n",
        "data_scaled.index=data.index"
      ],
      "execution_count": 112,
      "outputs": []
    },
    {
      "cell_type": "code",
      "metadata": {
        "id": "rlTWubJnY6Dt"
      },
      "source": [
        "past=20\r\n",
        "future=4\r\n",
        "train_split=5000\r\n",
        "batch_size=32\r\n",
        "sequence_length=past\r\n",
        "\r\n",
        "X=data_scaled\r\n",
        "y=data_scaled['Close']\r\n",
        "\r\n",
        "X_train=X[:train_split]\r\n",
        "X_test=X[train_split+1:]\r\n",
        "y_train=y[:train_split]\r\n",
        "y_test=y[train_split+1:]"
      ],
      "execution_count": 113,
      "outputs": []
    },
    {
      "cell_type": "code",
      "metadata": {
        "colab": {
          "base_uri": "https://localhost:8080/"
        },
        "id": "Hnt4LqBpeVJf",
        "outputId": "8369577f-de56-457b-c66e-597ab4433ca1"
      },
      "source": [
        "train_dataset = TimeseriesGenerator(X_train, y_train, length=past, batch_size=128)\r\n",
        "test_dataset = TimeseriesGenerator(X_test, y_test, length=past, batch_size=128)\r\n",
        "inputs, targets = train_dataset[0]\r\n",
        "print(\"Input shape:\", inputs.shape)\r\n",
        "print(\"Target shape:\", targets.shape)\r\n",
        "#inputs = keras.layers.Input(shape=(inputs.shape[1], inputs.shape[2]))"
      ],
      "execution_count": 114,
      "outputs": [
        {
          "output_type": "stream",
          "text": [
            "Input shape: (128, 20, 2)\n",
            "Target shape: (128,)\n"
          ],
          "name": "stdout"
        }
      ]
    },
    {
      "cell_type": "code",
      "metadata": {
        "id": "WAgtnPgiiWRf"
      },
      "source": [
        "def LSTM_model():\r\n",
        "    input_layer = keras.layers.Input(shape=(inputs.shape[1], inputs.shape[2]))\r\n",
        "    lstm_out = keras.layers.GRU(32,return_sequences=True,activation='relu')(input_layer)\r\n",
        "    lstm_out = keras.layers.GRU(32,activation='relu')(lstm_out)\r\n",
        "    #lstm_out=keras.layers.Dense(8,activation='relu')(lstm_out)\r\n",
        "    outputs = keras.layers.Dense(1,activation='relu')(lstm_out)\r\n",
        "    model = keras.Model(inputs=input_layer, outputs=outputs)\r\n",
        "    model.compile(optimizer=keras.optimizers.Adam(learning_rate=0.001), loss=\"mse\")\r\n",
        "    model.summary()\r\n",
        "    return model"
      ],
      "execution_count": 115,
      "outputs": []
    },
    {
      "cell_type": "code",
      "metadata": {
        "id": "JN0eeUPoEdGL"
      },
      "source": [
        "def Conv1d_model():\r\n",
        "    input_layer = keras.layers.Input(shape=(inputs.shape[1], inputs.shape[2]))\r\n",
        "    conv1=keras.layers.Conv1D(filters=32, kernel_size=3, activation='relu')(input_layer)\r\n",
        "    conv2=keras.layers.Conv1D(filters=64, kernel_size=3, activation='relu')(conv1)\r\n",
        "    dropout=keras.layers.Dropout(0.02)(conv2)\r\n",
        "    pool=keras.layers.AveragePooling1D(pool_size=2)(dropout)\r\n",
        "    flat=keras.layers.Flatten()(pool)\r\n",
        "    dense=keras.layers.Dense(50, activation='relu')(flat)\r\n",
        "    outputs = keras.layers.Dense(1,activation='relu')(dense)\r\n",
        "    model = keras.Model(inputs=input_layer, outputs=outputs)\r\n",
        "    model.compile(optimizer=keras.optimizers.Adam(learning_rate=0.001), loss=\"mse\")\r\n",
        "    model.summary()\r\n",
        "    return model"
      ],
      "execution_count": 117,
      "outputs": []
    },
    {
      "cell_type": "code",
      "metadata": {
        "id": "oOpH8aInZNjR"
      },
      "source": [
        "def hybrid_model():\r\n",
        "    input_layer = keras.layers.Input(shape=(inputs.shape[1], inputs.shape[2]))\r\n",
        "    conv1=keras.layers.Conv1D(filters=32, kernel_size=3, activation='relu')(input_layer)\r\n",
        "    conv2=keras.layers.Conv1D(filters=64, kernel_size=3, activation='relu')(conv1)\r\n",
        "    pool=keras.layers.AveragePooling1D(pool_size=2)(conv2)\r\n",
        "    #flat=keras.layers.Flatten()(pool)\r\n",
        "    gru = keras.layers.GRU(32,return_sequences=True,activation='relu')(pool)\r\n",
        "    #dense=keras.layers.Dense(50, activation='relu')(flat)\r\n",
        "    outputs = keras.layers.Dense(1,activation='relu')(gru)\r\n",
        "    model = keras.Model(inputs=input_layer, outputs=outputs)\r\n",
        "    model.compile(optimizer=keras.optimizers.Adam(learning_rate=0.001), loss=\"mse\")\r\n",
        "    model.summary()\r\n",
        "    return model"
      ],
      "execution_count": 141,
      "outputs": []
    },
    {
      "cell_type": "code",
      "metadata": {
        "id": "Gzy0I-QSMGQy",
        "outputId": "e80a2687-0eb1-4137-8421-c257fbec7ef5",
        "colab": {
          "base_uri": "https://localhost:8080/"
        }
      },
      "source": [
        "model=hybrid_model()"
      ],
      "execution_count": 142,
      "outputs": [
        {
          "output_type": "stream",
          "text": [
            "Model: \"model_9\"\n",
            "_________________________________________________________________\n",
            "Layer (type)                 Output Shape              Param #   \n",
            "=================================================================\n",
            "input_14 (InputLayer)        [(None, 20, 2)]           0         \n",
            "_________________________________________________________________\n",
            "conv1d_10 (Conv1D)           (None, 18, 32)            224       \n",
            "_________________________________________________________________\n",
            "conv1d_11 (Conv1D)           (None, 16, 64)            6208      \n",
            "_________________________________________________________________\n",
            "average_pooling1d_5 (Average (None, 8, 64)             0         \n",
            "_________________________________________________________________\n",
            "gru_5 (GRU)                  (None, 8, 32)             9408      \n",
            "_________________________________________________________________\n",
            "dense_18 (Dense)             (None, 8, 1)              33        \n",
            "=================================================================\n",
            "Total params: 15,873\n",
            "Trainable params: 15,873\n",
            "Non-trainable params: 0\n",
            "_________________________________________________________________\n"
          ],
          "name": "stdout"
        }
      ]
    },
    {
      "cell_type": "code",
      "metadata": {
        "colab": {
          "base_uri": "https://localhost:8080/"
        },
        "id": "xH8C5uAWEdT2",
        "outputId": "d8765efe-3a31-4a4b-ba6a-01b434625088"
      },
      "source": [
        "model=Conv1d_model()"
      ],
      "execution_count": 129,
      "outputs": [
        {
          "output_type": "stream",
          "text": [
            "Model: \"model_8\"\n",
            "_________________________________________________________________\n",
            "Layer (type)                 Output Shape              Param #   \n",
            "=================================================================\n",
            "input_11 (InputLayer)        [(None, 20, 2)]           0         \n",
            "_________________________________________________________________\n",
            "conv1d_4 (Conv1D)            (None, 18, 32)            224       \n",
            "_________________________________________________________________\n",
            "conv1d_5 (Conv1D)            (None, 16, 64)            6208      \n",
            "_________________________________________________________________\n",
            "dropout_2 (Dropout)          (None, 16, 64)            0         \n",
            "_________________________________________________________________\n",
            "average_pooling1d_2 (Average (None, 8, 64)             0         \n",
            "_________________________________________________________________\n",
            "flatten_2 (Flatten)          (None, 512)               0         \n",
            "_________________________________________________________________\n",
            "dense_16 (Dense)             (None, 50)                25650     \n",
            "_________________________________________________________________\n",
            "dense_17 (Dense)             (None, 1)                 51        \n",
            "=================================================================\n",
            "Total params: 32,133\n",
            "Trainable params: 32,133\n",
            "Non-trainable params: 0\n",
            "_________________________________________________________________\n"
          ],
          "name": "stdout"
        }
      ]
    },
    {
      "cell_type": "code",
      "metadata": {
        "colab": {
          "base_uri": "https://localhost:8080/"
        },
        "id": "77Hf6p5rErxd",
        "outputId": "5e90715d-7704-4a62-c952-8d313e7c063e"
      },
      "source": [
        "model.summary()"
      ],
      "execution_count": 130,
      "outputs": [
        {
          "output_type": "stream",
          "text": [
            "Model: \"model_8\"\n",
            "_________________________________________________________________\n",
            "Layer (type)                 Output Shape              Param #   \n",
            "=================================================================\n",
            "input_11 (InputLayer)        [(None, 20, 2)]           0         \n",
            "_________________________________________________________________\n",
            "conv1d_4 (Conv1D)            (None, 18, 32)            224       \n",
            "_________________________________________________________________\n",
            "conv1d_5 (Conv1D)            (None, 16, 64)            6208      \n",
            "_________________________________________________________________\n",
            "dropout_2 (Dropout)          (None, 16, 64)            0         \n",
            "_________________________________________________________________\n",
            "average_pooling1d_2 (Average (None, 8, 64)             0         \n",
            "_________________________________________________________________\n",
            "flatten_2 (Flatten)          (None, 512)               0         \n",
            "_________________________________________________________________\n",
            "dense_16 (Dense)             (None, 50)                25650     \n",
            "_________________________________________________________________\n",
            "dense_17 (Dense)             (None, 1)                 51        \n",
            "=================================================================\n",
            "Total params: 32,133\n",
            "Trainable params: 32,133\n",
            "Non-trainable params: 0\n",
            "_________________________________________________________________\n"
          ],
          "name": "stdout"
        }
      ]
    },
    {
      "cell_type": "code",
      "metadata": {
        "colab": {
          "base_uri": "https://localhost:8080/"
        },
        "id": "woVglRhKWY5i",
        "outputId": "a0e93d34-e659-45ca-94b5-2d1627888155"
      },
      "source": [
        "history=model.fit(train_dataset,epochs=200,validation_data=test_dataset)"
      ],
      "execution_count": 143,
      "outputs": [
        {
          "output_type": "stream",
          "text": [
            "Epoch 1/200\n",
            "39/39 [==============================] - 3s 43ms/step - loss: 0.2075 - val_loss: 0.0075\n",
            "Epoch 2/200\n",
            "39/39 [==============================] - 1s 34ms/step - loss: 0.0115 - val_loss: 0.0017\n",
            "Epoch 3/200\n",
            "39/39 [==============================] - 1s 34ms/step - loss: 0.0033 - val_loss: 0.0010\n",
            "Epoch 4/200\n",
            "39/39 [==============================] - 1s 33ms/step - loss: 0.0017 - val_loss: 7.3199e-04\n",
            "Epoch 5/200\n",
            "39/39 [==============================] - 1s 35ms/step - loss: 0.0012 - val_loss: 7.1599e-04\n",
            "Epoch 6/200\n",
            "39/39 [==============================] - 1s 36ms/step - loss: 0.0013 - val_loss: 4.6892e-04\n",
            "Epoch 7/200\n",
            "39/39 [==============================] - 1s 35ms/step - loss: 0.0011 - val_loss: 7.1192e-04\n",
            "Epoch 8/200\n",
            "39/39 [==============================] - 1s 35ms/step - loss: 0.0011 - val_loss: 3.9145e-04\n",
            "Epoch 9/200\n",
            "39/39 [==============================] - 1s 35ms/step - loss: 9.4473e-04 - val_loss: 3.7706e-04\n",
            "Epoch 10/200\n",
            "39/39 [==============================] - 1s 34ms/step - loss: 0.0011 - val_loss: 6.0048e-04\n",
            "Epoch 11/200\n",
            "39/39 [==============================] - 1s 33ms/step - loss: 0.0012 - val_loss: 4.9447e-04\n",
            "Epoch 12/200\n",
            "39/39 [==============================] - 1s 33ms/step - loss: 0.0011 - val_loss: 0.0014\n",
            "Epoch 13/200\n",
            "39/39 [==============================] - 1s 36ms/step - loss: 0.0015 - val_loss: 6.2243e-04\n",
            "Epoch 14/200\n",
            "39/39 [==============================] - 1s 34ms/step - loss: 0.0013 - val_loss: 5.6528e-04\n",
            "Epoch 15/200\n",
            "39/39 [==============================] - 1s 34ms/step - loss: 0.0011 - val_loss: 3.3056e-04\n",
            "Epoch 16/200\n",
            "39/39 [==============================] - 2s 44ms/step - loss: 8.0024e-04 - val_loss: 3.2705e-04\n",
            "Epoch 17/200\n",
            "39/39 [==============================] - 1s 35ms/step - loss: 9.9383e-04 - val_loss: 4.0668e-04\n",
            "Epoch 18/200\n",
            "39/39 [==============================] - 1s 36ms/step - loss: 0.0010 - val_loss: 4.7826e-04\n",
            "Epoch 19/200\n",
            "39/39 [==============================] - 1s 33ms/step - loss: 0.0010 - val_loss: 5.0732e-04\n",
            "Epoch 20/200\n",
            "39/39 [==============================] - 1s 33ms/step - loss: 8.3206e-04 - val_loss: 3.6477e-04\n",
            "Epoch 21/200\n",
            "39/39 [==============================] - 1s 37ms/step - loss: 7.1876e-04 - val_loss: 3.3337e-04\n",
            "Epoch 22/200\n",
            "39/39 [==============================] - 1s 35ms/step - loss: 9.6243e-04 - val_loss: 4.5471e-04\n",
            "Epoch 23/200\n",
            "39/39 [==============================] - 2s 38ms/step - loss: 9.9077e-04 - val_loss: 7.6596e-04\n",
            "Epoch 24/200\n",
            "39/39 [==============================] - 1s 37ms/step - loss: 0.0014 - val_loss: 4.6103e-04\n",
            "Epoch 25/200\n",
            "39/39 [==============================] - 1s 36ms/step - loss: 8.3508e-04 - val_loss: 4.4745e-04\n",
            "Epoch 26/200\n",
            "39/39 [==============================] - 1s 34ms/step - loss: 9.3367e-04 - val_loss: 3.7167e-04\n",
            "Epoch 27/200\n",
            "39/39 [==============================] - 1s 37ms/step - loss: 0.0011 - val_loss: 3.3137e-04\n",
            "Epoch 28/200\n",
            "39/39 [==============================] - 1s 34ms/step - loss: 7.8372e-04 - val_loss: 3.6854e-04\n",
            "Epoch 29/200\n",
            "39/39 [==============================] - 1s 35ms/step - loss: 0.0011 - val_loss: 9.1578e-04\n",
            "Epoch 30/200\n",
            "39/39 [==============================] - 1s 33ms/step - loss: 0.0011 - val_loss: 5.8162e-04\n",
            "Epoch 31/200\n",
            "39/39 [==============================] - 1s 34ms/step - loss: 0.0011 - val_loss: 5.6565e-04\n",
            "Epoch 32/200\n",
            "39/39 [==============================] - 1s 35ms/step - loss: 0.0016 - val_loss: 0.0014\n",
            "Epoch 33/200\n",
            "39/39 [==============================] - 2s 41ms/step - loss: 0.0016 - val_loss: 5.1154e-04\n",
            "Epoch 34/200\n",
            "39/39 [==============================] - 1s 36ms/step - loss: 8.6695e-04 - val_loss: 4.6089e-04\n",
            "Epoch 35/200\n",
            "39/39 [==============================] - 1s 33ms/step - loss: 0.0010 - val_loss: 5.1470e-04\n",
            "Epoch 36/200\n",
            "39/39 [==============================] - 1s 32ms/step - loss: 0.0010 - val_loss: 4.3790e-04\n",
            "Epoch 37/200\n",
            "39/39 [==============================] - 1s 35ms/step - loss: 7.8646e-04 - val_loss: 3.0895e-04\n",
            "Epoch 38/200\n",
            "39/39 [==============================] - 1s 35ms/step - loss: 8.1285e-04 - val_loss: 3.1359e-04\n",
            "Epoch 39/200\n",
            "39/39 [==============================] - 1s 35ms/step - loss: 8.2158e-04 - val_loss: 3.0713e-04\n",
            "Epoch 40/200\n",
            "39/39 [==============================] - 1s 33ms/step - loss: 7.2492e-04 - val_loss: 3.5168e-04\n",
            "Epoch 41/200\n",
            "39/39 [==============================] - 1s 34ms/step - loss: 7.9688e-04 - val_loss: 5.4656e-04\n",
            "Epoch 42/200\n",
            "39/39 [==============================] - 1s 32ms/step - loss: 8.3933e-04 - val_loss: 3.1753e-04\n",
            "Epoch 43/200\n",
            "39/39 [==============================] - 1s 33ms/step - loss: 8.7142e-04 - val_loss: 4.2819e-04\n",
            "Epoch 44/200\n",
            "39/39 [==============================] - 1s 33ms/step - loss: 9.6307e-04 - val_loss: 3.1707e-04\n",
            "Epoch 45/200\n",
            "39/39 [==============================] - 1s 33ms/step - loss: 9.5834e-04 - val_loss: 3.1816e-04\n",
            "Epoch 46/200\n",
            "39/39 [==============================] - 1s 33ms/step - loss: 0.0011 - val_loss: 3.5643e-04\n",
            "Epoch 47/200\n",
            "39/39 [==============================] - 1s 35ms/step - loss: 8.7602e-04 - val_loss: 3.1340e-04\n",
            "Epoch 48/200\n",
            "39/39 [==============================] - 1s 36ms/step - loss: 9.2658e-04 - val_loss: 8.8139e-04\n",
            "Epoch 49/200\n",
            "39/39 [==============================] - 1s 34ms/step - loss: 0.0013 - val_loss: 3.7015e-04\n",
            "Epoch 50/200\n",
            "39/39 [==============================] - 2s 45ms/step - loss: 7.6092e-04 - val_loss: 4.9574e-04\n",
            "Epoch 51/200\n",
            "39/39 [==============================] - 1s 33ms/step - loss: 7.3104e-04 - val_loss: 3.0876e-04\n",
            "Epoch 52/200\n",
            "39/39 [==============================] - 1s 34ms/step - loss: 7.4931e-04 - val_loss: 4.5542e-04\n",
            "Epoch 53/200\n",
            "39/39 [==============================] - 1s 33ms/step - loss: 9.6551e-04 - val_loss: 3.2118e-04\n",
            "Epoch 54/200\n",
            "39/39 [==============================] - 1s 35ms/step - loss: 8.9369e-04 - val_loss: 5.2197e-04\n",
            "Epoch 55/200\n",
            "39/39 [==============================] - 1s 33ms/step - loss: 9.2567e-04 - val_loss: 3.9935e-04\n",
            "Epoch 56/200\n",
            "39/39 [==============================] - 1s 35ms/step - loss: 6.3930e-04 - val_loss: 4.0599e-04\n",
            "Epoch 57/200\n",
            "39/39 [==============================] - 1s 35ms/step - loss: 7.1668e-04 - val_loss: 3.3018e-04\n",
            "Epoch 58/200\n",
            "39/39 [==============================] - 1s 34ms/step - loss: 7.3714e-04 - val_loss: 5.7213e-04\n",
            "Epoch 59/200\n",
            "39/39 [==============================] - 1s 36ms/step - loss: 8.9371e-04 - val_loss: 0.0012\n",
            "Epoch 60/200\n",
            "39/39 [==============================] - 1s 35ms/step - loss: 0.0013 - val_loss: 3.0544e-04\n",
            "Epoch 61/200\n",
            "39/39 [==============================] - 1s 33ms/step - loss: 7.3703e-04 - val_loss: 3.1856e-04\n",
            "Epoch 62/200\n",
            "39/39 [==============================] - 1s 34ms/step - loss: 9.1072e-04 - val_loss: 4.9408e-04\n",
            "Epoch 63/200\n",
            "39/39 [==============================] - 1s 33ms/step - loss: 9.8202e-04 - val_loss: 3.0370e-04\n",
            "Epoch 64/200\n",
            "39/39 [==============================] - 1s 36ms/step - loss: 7.8230e-04 - val_loss: 5.1461e-04\n",
            "Epoch 65/200\n",
            "39/39 [==============================] - 1s 34ms/step - loss: 8.8848e-04 - val_loss: 5.2105e-04\n",
            "Epoch 66/200\n",
            "39/39 [==============================] - 1s 33ms/step - loss: 8.1856e-04 - val_loss: 3.5179e-04\n",
            "Epoch 67/200\n",
            "39/39 [==============================] - 1s 36ms/step - loss: 9.5651e-04 - val_loss: 4.7776e-04\n",
            "Epoch 68/200\n",
            "39/39 [==============================] - 2s 35ms/step - loss: 9.1285e-04 - val_loss: 3.6502e-04\n",
            "Epoch 69/200\n",
            "39/39 [==============================] - 1s 33ms/step - loss: 0.0012 - val_loss: 3.0196e-04\n",
            "Epoch 70/200\n",
            "39/39 [==============================] - 1s 33ms/step - loss: 7.2389e-04 - val_loss: 3.0239e-04\n",
            "Epoch 71/200\n",
            "39/39 [==============================] - 1s 33ms/step - loss: 8.8180e-04 - val_loss: 5.0275e-04\n",
            "Epoch 72/200\n",
            "39/39 [==============================] - 1s 35ms/step - loss: 9.5251e-04 - val_loss: 2.9631e-04\n",
            "Epoch 73/200\n",
            "39/39 [==============================] - 1s 33ms/step - loss: 7.3375e-04 - val_loss: 3.0801e-04\n",
            "Epoch 74/200\n",
            "39/39 [==============================] - 1s 34ms/step - loss: 0.0011 - val_loss: 4.2819e-04\n",
            "Epoch 75/200\n",
            "39/39 [==============================] - 1s 36ms/step - loss: 9.1754e-04 - val_loss: 5.5408e-04\n",
            "Epoch 76/200\n",
            "39/39 [==============================] - 1s 37ms/step - loss: 9.6652e-04 - val_loss: 3.0659e-04\n",
            "Epoch 77/200\n",
            "39/39 [==============================] - 1s 35ms/step - loss: 0.0012 - val_loss: 3.3193e-04\n",
            "Epoch 78/200\n",
            "39/39 [==============================] - 1s 33ms/step - loss: 0.0012 - val_loss: 5.6090e-04\n",
            "Epoch 79/200\n",
            "39/39 [==============================] - 1s 33ms/step - loss: 0.0012 - val_loss: 3.3741e-04\n",
            "Epoch 80/200\n",
            "39/39 [==============================] - 1s 34ms/step - loss: 7.5685e-04 - val_loss: 3.9271e-04\n",
            "Epoch 81/200\n",
            "39/39 [==============================] - 1s 33ms/step - loss: 8.8529e-04 - val_loss: 3.3001e-04\n",
            "Epoch 82/200\n",
            "39/39 [==============================] - 1s 33ms/step - loss: 0.0012 - val_loss: 3.0201e-04\n",
            "Epoch 83/200\n",
            "39/39 [==============================] - 1s 35ms/step - loss: 7.7115e-04 - val_loss: 3.0447e-04\n",
            "Epoch 84/200\n",
            "39/39 [==============================] - 1s 33ms/step - loss: 0.0012 - val_loss: 4.6280e-04\n",
            "Epoch 85/200\n",
            "39/39 [==============================] - 2s 44ms/step - loss: 0.0012 - val_loss: 5.8505e-04\n",
            "Epoch 86/200\n",
            "39/39 [==============================] - 1s 36ms/step - loss: 0.0011 - val_loss: 3.1709e-04\n",
            "Epoch 87/200\n",
            "39/39 [==============================] - 1s 36ms/step - loss: 8.2241e-04 - val_loss: 3.3264e-04\n",
            "Epoch 88/200\n",
            "39/39 [==============================] - 1s 37ms/step - loss: 7.1462e-04 - val_loss: 3.0132e-04\n",
            "Epoch 89/200\n",
            "39/39 [==============================] - 1s 33ms/step - loss: 9.8474e-04 - val_loss: 3.7210e-04\n",
            "Epoch 90/200\n",
            "39/39 [==============================] - 1s 36ms/step - loss: 9.8070e-04 - val_loss: 2.9563e-04\n",
            "Epoch 91/200\n",
            "39/39 [==============================] - 1s 38ms/step - loss: 9.5401e-04 - val_loss: 3.8692e-04\n",
            "Epoch 92/200\n",
            "39/39 [==============================] - 1s 36ms/step - loss: 9.0068e-04 - val_loss: 4.4023e-04\n",
            "Epoch 93/200\n",
            "39/39 [==============================] - 1s 36ms/step - loss: 9.1140e-04 - val_loss: 4.1651e-04\n",
            "Epoch 94/200\n",
            "39/39 [==============================] - 1s 34ms/step - loss: 7.7555e-04 - val_loss: 3.0531e-04\n",
            "Epoch 95/200\n",
            "39/39 [==============================] - 1s 33ms/step - loss: 7.8514e-04 - val_loss: 3.1511e-04\n",
            "Epoch 96/200\n",
            "39/39 [==============================] - 1s 34ms/step - loss: 9.2921e-04 - val_loss: 3.1937e-04\n",
            "Epoch 97/200\n",
            "39/39 [==============================] - 1s 37ms/step - loss: 9.0002e-04 - val_loss: 3.8798e-04\n",
            "Epoch 98/200\n",
            "39/39 [==============================] - 1s 36ms/step - loss: 8.3895e-04 - val_loss: 3.0062e-04\n",
            "Epoch 99/200\n",
            "39/39 [==============================] - 1s 34ms/step - loss: 7.1636e-04 - val_loss: 3.3033e-04\n",
            "Epoch 100/200\n",
            "39/39 [==============================] - 1s 33ms/step - loss: 9.9086e-04 - val_loss: 2.9791e-04\n",
            "Epoch 101/200\n",
            "39/39 [==============================] - 1s 33ms/step - loss: 7.2040e-04 - val_loss: 3.1140e-04\n",
            "Epoch 102/200\n",
            "39/39 [==============================] - 2s 41ms/step - loss: 0.0013 - val_loss: 6.2060e-04\n",
            "Epoch 103/200\n",
            "39/39 [==============================] - 1s 36ms/step - loss: 0.0012 - val_loss: 3.8578e-04\n",
            "Epoch 104/200\n",
            "39/39 [==============================] - 1s 35ms/step - loss: 8.6322e-04 - val_loss: 3.0528e-04\n",
            "Epoch 105/200\n",
            "39/39 [==============================] - 1s 36ms/step - loss: 7.6700e-04 - val_loss: 4.4952e-04\n",
            "Epoch 106/200\n",
            "39/39 [==============================] - 1s 35ms/step - loss: 9.1143e-04 - val_loss: 3.8916e-04\n",
            "Epoch 107/200\n",
            "39/39 [==============================] - 1s 34ms/step - loss: 0.0011 - val_loss: 5.2830e-04\n",
            "Epoch 108/200\n",
            "39/39 [==============================] - 1s 34ms/step - loss: 9.3674e-04 - val_loss: 3.0411e-04\n",
            "Epoch 109/200\n",
            "39/39 [==============================] - 1s 38ms/step - loss: 0.0011 - val_loss: 9.7652e-04\n",
            "Epoch 110/200\n",
            "39/39 [==============================] - 1s 37ms/step - loss: 0.0023 - val_loss: 9.8012e-04\n",
            "Epoch 111/200\n",
            "39/39 [==============================] - 1s 35ms/step - loss: 0.0012 - val_loss: 2.9552e-04\n",
            "Epoch 112/200\n",
            "39/39 [==============================] - 1s 33ms/step - loss: 0.0010 - val_loss: 3.0310e-04\n",
            "Epoch 113/200\n",
            "39/39 [==============================] - 1s 34ms/step - loss: 7.7918e-04 - val_loss: 3.0315e-04\n",
            "Epoch 114/200\n",
            "39/39 [==============================] - 1s 36ms/step - loss: 8.1148e-04 - val_loss: 5.3525e-04\n",
            "Epoch 115/200\n",
            "39/39 [==============================] - 1s 36ms/step - loss: 8.7136e-04 - val_loss: 7.7351e-04\n",
            "Epoch 116/200\n",
            "39/39 [==============================] - 1s 35ms/step - loss: 0.0013 - val_loss: 4.6368e-04\n",
            "Epoch 117/200\n",
            "39/39 [==============================] - 1s 36ms/step - loss: 7.4607e-04 - val_loss: 2.9848e-04\n",
            "Epoch 118/200\n",
            "39/39 [==============================] - 1s 36ms/step - loss: 8.3804e-04 - val_loss: 3.0123e-04\n",
            "Epoch 119/200\n",
            "39/39 [==============================] - 1s 35ms/step - loss: 7.0478e-04 - val_loss: 7.8627e-04\n",
            "Epoch 120/200\n",
            "39/39 [==============================] - 2s 39ms/step - loss: 8.5903e-04 - val_loss: 3.1219e-04\n",
            "Epoch 121/200\n",
            "39/39 [==============================] - 1s 34ms/step - loss: 9.0369e-04 - val_loss: 3.3485e-04\n",
            "Epoch 122/200\n",
            "39/39 [==============================] - 1s 34ms/step - loss: 8.8920e-04 - val_loss: 4.1788e-04\n",
            "Epoch 123/200\n",
            "39/39 [==============================] - 1s 35ms/step - loss: 8.4167e-04 - val_loss: 3.3650e-04\n",
            "Epoch 124/200\n",
            "39/39 [==============================] - 1s 36ms/step - loss: 7.5896e-04 - val_loss: 3.1690e-04\n",
            "Epoch 125/200\n",
            "39/39 [==============================] - 1s 34ms/step - loss: 9.5167e-04 - val_loss: 3.2044e-04\n",
            "Epoch 126/200\n",
            "39/39 [==============================] - 1s 34ms/step - loss: 8.1981e-04 - val_loss: 3.0241e-04\n",
            "Epoch 127/200\n",
            "39/39 [==============================] - 1s 34ms/step - loss: 0.0011 - val_loss: 2.9903e-04\n",
            "Epoch 128/200\n",
            "39/39 [==============================] - 1s 34ms/step - loss: 7.4875e-04 - val_loss: 2.9429e-04\n",
            "Epoch 129/200\n",
            "39/39 [==============================] - 1s 34ms/step - loss: 8.1228e-04 - val_loss: 3.2410e-04\n",
            "Epoch 130/200\n",
            "39/39 [==============================] - 1s 34ms/step - loss: 0.0013 - val_loss: 5.0625e-04\n",
            "Epoch 131/200\n",
            "39/39 [==============================] - 1s 33ms/step - loss: 9.2469e-04 - val_loss: 5.4268e-04\n",
            "Epoch 132/200\n",
            "39/39 [==============================] - 1s 36ms/step - loss: 8.3160e-04 - val_loss: 2.9376e-04\n",
            "Epoch 133/200\n",
            "39/39 [==============================] - 1s 37ms/step - loss: 9.4112e-04 - val_loss: 5.4861e-04\n",
            "Epoch 134/200\n",
            "39/39 [==============================] - 1s 36ms/step - loss: 0.0013 - val_loss: 3.8235e-04\n",
            "Epoch 135/200\n",
            "39/39 [==============================] - 1s 34ms/step - loss: 0.0011 - val_loss: 2.9960e-04\n",
            "Epoch 136/200\n",
            "39/39 [==============================] - 1s 34ms/step - loss: 7.0210e-04 - val_loss: 4.3617e-04\n",
            "Epoch 137/200\n",
            "39/39 [==============================] - 2s 43ms/step - loss: 8.1519e-04 - val_loss: 7.9849e-04\n",
            "Epoch 138/200\n",
            "39/39 [==============================] - 1s 35ms/step - loss: 0.0011 - val_loss: 3.0801e-04\n",
            "Epoch 139/200\n",
            "39/39 [==============================] - 1s 34ms/step - loss: 8.5746e-04 - val_loss: 3.4016e-04\n",
            "Epoch 140/200\n",
            "39/39 [==============================] - 1s 35ms/step - loss: 0.0010 - val_loss: 5.3015e-04\n",
            "Epoch 141/200\n",
            "39/39 [==============================] - 1s 34ms/step - loss: 0.0012 - val_loss: 3.0169e-04\n",
            "Epoch 142/200\n",
            "39/39 [==============================] - 1s 33ms/step - loss: 9.4275e-04 - val_loss: 3.2287e-04\n",
            "Epoch 143/200\n",
            "39/39 [==============================] - 1s 34ms/step - loss: 7.6164e-04 - val_loss: 2.9934e-04\n",
            "Epoch 144/200\n",
            "39/39 [==============================] - 1s 37ms/step - loss: 7.4777e-04 - val_loss: 3.0623e-04\n",
            "Epoch 145/200\n",
            "39/39 [==============================] - 1s 35ms/step - loss: 7.8543e-04 - val_loss: 5.3670e-04\n",
            "Epoch 146/200\n",
            "39/39 [==============================] - 1s 36ms/step - loss: 8.8229e-04 - val_loss: 3.2223e-04\n",
            "Epoch 147/200\n",
            "39/39 [==============================] - 1s 33ms/step - loss: 8.2113e-04 - val_loss: 3.0821e-04\n",
            "Epoch 148/200\n",
            "39/39 [==============================] - 1s 35ms/step - loss: 9.7570e-04 - val_loss: 4.0559e-04\n",
            "Epoch 149/200\n",
            "39/39 [==============================] - 1s 37ms/step - loss: 8.3623e-04 - val_loss: 3.6450e-04\n",
            "Epoch 150/200\n",
            "39/39 [==============================] - 1s 35ms/step - loss: 8.3139e-04 - val_loss: 2.9511e-04\n",
            "Epoch 151/200\n",
            "39/39 [==============================] - 1s 34ms/step - loss: 7.9180e-04 - val_loss: 6.9931e-04\n",
            "Epoch 152/200\n",
            "39/39 [==============================] - 1s 34ms/step - loss: 0.0013 - val_loss: 3.1398e-04\n",
            "Epoch 153/200\n",
            "39/39 [==============================] - 1s 36ms/step - loss: 8.2485e-04 - val_loss: 3.9614e-04\n",
            "Epoch 154/200\n",
            "39/39 [==============================] - 2s 44ms/step - loss: 9.8137e-04 - val_loss: 3.3599e-04\n",
            "Epoch 155/200\n",
            "39/39 [==============================] - 1s 34ms/step - loss: 9.0895e-04 - val_loss: 2.9813e-04\n",
            "Epoch 156/200\n",
            "39/39 [==============================] - 1s 33ms/step - loss: 7.9543e-04 - val_loss: 3.0230e-04\n",
            "Epoch 157/200\n",
            "39/39 [==============================] - 1s 35ms/step - loss: 9.2355e-04 - val_loss: 4.5794e-04\n",
            "Epoch 158/200\n",
            "39/39 [==============================] - 1s 37ms/step - loss: 8.5233e-04 - val_loss: 4.0765e-04\n",
            "Epoch 159/200\n",
            "39/39 [==============================] - 1s 37ms/step - loss: 8.0059e-04 - val_loss: 3.5012e-04\n",
            "Epoch 160/200\n",
            "39/39 [==============================] - 1s 34ms/step - loss: 8.4309e-04 - val_loss: 4.4162e-04\n",
            "Epoch 161/200\n",
            "39/39 [==============================] - 1s 35ms/step - loss: 9.2225e-04 - val_loss: 3.2039e-04\n",
            "Epoch 162/200\n",
            "39/39 [==============================] - 1s 33ms/step - loss: 9.3544e-04 - val_loss: 4.5397e-04\n",
            "Epoch 163/200\n",
            "39/39 [==============================] - 1s 35ms/step - loss: 0.0011 - val_loss: 3.4602e-04\n",
            "Epoch 164/200\n",
            "39/39 [==============================] - 1s 34ms/step - loss: 9.9383e-04 - val_loss: 5.8328e-04\n",
            "Epoch 165/200\n",
            "39/39 [==============================] - 1s 36ms/step - loss: 9.0259e-04 - val_loss: 3.5442e-04\n",
            "Epoch 166/200\n",
            "39/39 [==============================] - 1s 36ms/step - loss: 7.5514e-04 - val_loss: 3.1314e-04\n",
            "Epoch 167/200\n",
            "39/39 [==============================] - 1s 36ms/step - loss: 7.1574e-04 - val_loss: 3.1341e-04\n",
            "Epoch 168/200\n",
            "39/39 [==============================] - 1s 35ms/step - loss: 8.8204e-04 - val_loss: 3.9791e-04\n",
            "Epoch 169/200\n",
            "39/39 [==============================] - 1s 37ms/step - loss: 8.8953e-04 - val_loss: 3.6141e-04\n",
            "Epoch 170/200\n",
            "39/39 [==============================] - 1s 37ms/step - loss: 8.9092e-04 - val_loss: 2.9268e-04\n",
            "Epoch 171/200\n",
            "39/39 [==============================] - 2s 44ms/step - loss: 7.3592e-04 - val_loss: 4.4797e-04\n",
            "Epoch 172/200\n",
            "39/39 [==============================] - 1s 35ms/step - loss: 0.0011 - val_loss: 2.9300e-04\n",
            "Epoch 173/200\n",
            "39/39 [==============================] - 1s 33ms/step - loss: 8.7470e-04 - val_loss: 4.9021e-04\n",
            "Epoch 174/200\n",
            "39/39 [==============================] - 1s 34ms/step - loss: 0.0011 - val_loss: 3.3314e-04\n",
            "Epoch 175/200\n",
            "39/39 [==============================] - 1s 36ms/step - loss: 0.0012 - val_loss: 6.5961e-04\n",
            "Epoch 176/200\n",
            "39/39 [==============================] - 1s 37ms/step - loss: 0.0012 - val_loss: 0.0013\n",
            "Epoch 177/200\n",
            "39/39 [==============================] - 1s 35ms/step - loss: 0.0013 - val_loss: 3.2569e-04\n",
            "Epoch 178/200\n",
            "39/39 [==============================] - 1s 36ms/step - loss: 0.0011 - val_loss: 3.2868e-04\n",
            "Epoch 179/200\n",
            "39/39 [==============================] - 1s 37ms/step - loss: 6.8687e-04 - val_loss: 4.4252e-04\n",
            "Epoch 180/200\n",
            "39/39 [==============================] - 1s 37ms/step - loss: 8.8144e-04 - val_loss: 2.9076e-04\n",
            "Epoch 181/200\n",
            "39/39 [==============================] - 1s 35ms/step - loss: 8.4080e-04 - val_loss: 2.9839e-04\n",
            "Epoch 182/200\n",
            "39/39 [==============================] - 1s 37ms/step - loss: 7.5390e-04 - val_loss: 4.7740e-04\n",
            "Epoch 183/200\n",
            "39/39 [==============================] - 1s 38ms/step - loss: 0.0010 - val_loss: 5.0735e-04\n",
            "Epoch 184/200\n",
            "39/39 [==============================] - 1s 35ms/step - loss: 7.6824e-04 - val_loss: 2.9446e-04\n",
            "Epoch 185/200\n",
            "39/39 [==============================] - 1s 38ms/step - loss: 8.4429e-04 - val_loss: 3.9915e-04\n",
            "Epoch 186/200\n",
            "39/39 [==============================] - 1s 36ms/step - loss: 7.3297e-04 - val_loss: 4.3131e-04\n",
            "Epoch 187/200\n",
            "39/39 [==============================] - 1s 36ms/step - loss: 8.1937e-04 - val_loss: 3.0785e-04\n",
            "Epoch 188/200\n",
            "39/39 [==============================] - 1s 37ms/step - loss: 8.3366e-04 - val_loss: 3.2997e-04\n",
            "Epoch 189/200\n",
            "39/39 [==============================] - 2s 38ms/step - loss: 8.6107e-04 - val_loss: 2.9329e-04\n",
            "Epoch 190/200\n",
            "39/39 [==============================] - 1s 36ms/step - loss: 9.5908e-04 - val_loss: 2.9432e-04\n",
            "Epoch 191/200\n",
            "39/39 [==============================] - 1s 34ms/step - loss: 7.1275e-04 - val_loss: 3.9460e-04\n",
            "Epoch 192/200\n",
            "39/39 [==============================] - 1s 36ms/step - loss: 8.9199e-04 - val_loss: 4.7452e-04\n",
            "Epoch 193/200\n",
            "39/39 [==============================] - 1s 34ms/step - loss: 0.0010 - val_loss: 2.9592e-04\n",
            "Epoch 194/200\n",
            "39/39 [==============================] - 1s 36ms/step - loss: 7.7841e-04 - val_loss: 9.1499e-04\n",
            "Epoch 195/200\n",
            "39/39 [==============================] - 1s 35ms/step - loss: 0.0011 - val_loss: 2.9031e-04\n",
            "Epoch 196/200\n",
            "39/39 [==============================] - 1s 36ms/step - loss: 7.3404e-04 - val_loss: 2.9298e-04\n",
            "Epoch 197/200\n",
            "39/39 [==============================] - 1s 33ms/step - loss: 8.3402e-04 - val_loss: 4.1120e-04\n",
            "Epoch 198/200\n",
            "39/39 [==============================] - 1s 36ms/step - loss: 8.6779e-04 - val_loss: 4.1936e-04\n",
            "Epoch 199/200\n",
            "39/39 [==============================] - 1s 35ms/step - loss: 7.3900e-04 - val_loss: 3.0603e-04\n",
            "Epoch 200/200\n",
            "39/39 [==============================] - 1s 34ms/step - loss: 7.8948e-04 - val_loss: 3.1898e-04\n"
          ],
          "name": "stdout"
        }
      ]
    },
    {
      "cell_type": "code",
      "metadata": {
        "colab": {
          "base_uri": "https://localhost:8080/",
          "height": 295
        },
        "id": "NzYcMvMGjBGa",
        "outputId": "7ebf69d7-bb59-4ffb-9d32-a24ae54f2670"
      },
      "source": [
        "visualize_loss(history, \"Training and Validation Loss\")"
      ],
      "execution_count": 132,
      "outputs": [
        {
          "output_type": "display_data",
          "data": {
            "image/png": "[encoded data removed]",
            "text/plain": [
              "<Figure size 432x288 with 1 Axes>"
            ]
          },
          "metadata": {
            "tags": [],
            "needs_background": "light"
          }
        }
      ]
    },
    {
      "cell_type": "code",
      "metadata": {
        "colab": {
          "base_uri": "https://localhost:8080/",
          "height": 281
        },
        "id": "Wld3rKxJZaMf",
        "outputId": "cc488d20-78a1-4e3b-8faf-7e03102a85c2"
      },
      "source": [
        "pred_train=model.predict(train_dataset)\r\n",
        "pred_test=model.predict(test_dataset)\r\n",
        "plt.scatter(pred_train,y_train[past:],alpha=0.05,color='blue')\r\n",
        "plt.scatter(pred_test,y_test[past:],alpha=0.05,color='red')\r\n",
        "plt.title(\"R2 score %0.3f\"%r2_score(y_test[past:],pred_test))\r\n",
        "plt.show()"
      ],
      "execution_count": 133,
      "outputs": [
        {
          "output_type": "display_data",
          "data": {
            "image/png": "[encoded data removed]",
            "text/plain": [
              "<Figure size 432x288 with 1 Axes>"
            ]
          },
          "metadata": {
            "tags": [],
            "needs_background": "light"
          }
        }
      ]
    },
    {
      "cell_type": "code",
      "metadata": {
        "colab": {
          "base_uri": "https://localhost:8080/",
          "height": 308
        },
        "id": "9RHPZq4kZdGd",
        "outputId": "d68eb4d6-9b5b-40e8-f669-b7fa9495169d"
      },
      "source": [
        "results_train=pd.DataFrame(y_train[past:])\r\n",
        "results_train['Preds']=pred_train\r\n",
        "results_train.iloc[-100:].plot()"
      ],
      "execution_count": 134,
      "outputs": [
        {
          "output_type": "execute_result",
          "data": {
            "text/plain": [
              "<matplotlib.axes._subplots.AxesSubplot at 0x7f2e152758d0>"
            ]
          },
          "metadata": {
            "tags": []
          },
          "execution_count": 134
        },
        {
          "output_type": "display_data",
          "data": {
            "image/png": "[encoded data removed]",
            "text/plain": [
              "<Figure size 432x288 with 1 Axes>"
            ]
          },
          "metadata": {
            "tags": [],
            "needs_background": "light"
          }
        }
      ]
    },
    {
      "cell_type": "code",
      "metadata": {
        "colab": {
          "base_uri": "https://localhost:8080/",
          "height": 331
        },
        "id": "VI9bBueGo3vY",
        "outputId": "9be60077-6123-41d1-b037-8af044f89465"
      },
      "source": [
        "results_test=pd.DataFrame(y_test[past:])\r\n",
        "results_test['Preds']=pred_test\r\n",
        "results_test.iloc[-50:].plot()"
      ],
      "execution_count": 135,
      "outputs": [
        {
          "output_type": "execute_result",
          "data": {
            "text/plain": [
              "<matplotlib.axes._subplots.AxesSubplot at 0x7f2e22b7abe0>"
            ]
          },
          "metadata": {
            "tags": []
          },
          "execution_count": 135
        },
        {
          "output_type": "display_data",
          "data": {
            "image/png": "[encoded data removed]",
            "text/plain": [
              "<Figure size 432x288 with 1 Axes>"
            ]
          },
          "metadata": {
            "tags": [],
            "needs_background": "light"
          }
        }
      ]
    },
    {
      "cell_type": "code",
      "metadata": {
        "colab": {
          "base_uri": "https://localhost:8080/",
          "height": 267
        },
        "id": "T0c9l6xFu5nd",
        "outputId": "2968dc5b-c313-4a01-810b-58c28d6c6f25"
      },
      "source": [
        "error_train=y_train[past:].values.ravel()-pred_train.ravel()\r\n",
        "error_test=y_test[past:].values.ravel()-pred_test.ravel()\r\n",
        "plt.hist(error_train,bins=50,color='blue',alpha=0.5)\r\n",
        "\r\n",
        "plt.hist(error_test,bins=50,color='red',alpha=0.5)\r\n",
        "plt.show()"
      ],
      "execution_count": 136,
      "outputs": [
        {
          "output_type": "display_data",
          "data": {
            "image/png": "[encoded data removed]",
            "text/plain": [
              "<Figure size 432x288 with 1 Axes>"
            ]
          },
          "metadata": {
            "tags": [],
            "needs_background": "light"
          }
        }
      ]
    },
    {
      "cell_type": "code",
      "metadata": {
        "id": "8a8sOBl2u5xd"
      },
      "source": [
        ""
      ],
      "execution_count": null,
      "outputs": []
    },
    {
      "cell_type": "code",
      "metadata": {
        "colab": {
          "base_uri": "https://localhost:8080/",
          "height": 1000
        },
        "id": "1IU3ivIZkMCB",
        "outputId": "e76162d4-efc0-4725-8af6-1965ca79a27a"
      },
      "source": [
        "def show_plot(plot_data, delta, title):\r\n",
        "    labels = [\"History\", \"True Future\", \"Model Prediction\"]\r\n",
        "    marker = [\".-\", \"rx\", \"go\"]\r\n",
        "    time_steps = list(range(-(plot_data[0].shape[0]), 0))\r\n",
        "    if delta:\r\n",
        "        future = delta\r\n",
        "    else:\r\n",
        "        future = 0\r\n",
        "\r\n",
        "    plt.title(title)\r\n",
        "    for i, val in enumerate(plot_data):\r\n",
        "        if i:\r\n",
        "            plt.plot(future, plot_data[i], marker[i], markersize=10, label=labels[i])\r\n",
        "        else:\r\n",
        "            plt.plot(time_steps, plot_data[i].flatten(), marker[i], label=labels[i])\r\n",
        "    plt.legend()\r\n",
        "    plt.xlim([time_steps[0], (future + 5) * 2])\r\n",
        "    plt.xlabel(\"Time-Step\")\r\n",
        "    plt.show()\r\n",
        "    return\r\n",
        "\r\n",
        "\r\n",
        "for x, y in dataset_val.take(5):\r\n",
        "    show_plot(\r\n",
        "        [x[0][:, 1].numpy(), y[0].numpy(), model.predict(x)[0]],\r\n",
        "        12,\r\n",
        "        \"Single Step Prediction\",\r\n",
        "    )"
      ],
      "execution_count": null,
      "outputs": [
        {
          "output_type": "display_data",
          "data": {
            "image/png": "[encoded data removed]",
            "text/plain": [
              "<Figure size 432x288 with 1 Axes>"
            ]
          },
          "metadata": {
            "tags": [],
            "needs_background": "light"
          }
        },
        {
          "output_type": "display_data",
          "data": {
            "image/png": "[encoded data removed]",
            "text/plain": [
              "<Figure size 432x288 with 1 Axes>"
            ]
          },
          "metadata": {
            "tags": [],
            "needs_background": "light"
          }
        },
        {
          "output_type": "display_data",
          "data": {
            "image/png": "[encoded data removed]",
            "text/plain": [
              "<Figure size 432x288 with 1 Axes>"
            ]
          },
          "metadata": {
            "tags": [],
            "needs_background": "light"
          }
        },
        {
          "output_type": "display_data",
          "data": {
            "image/png": "[encoded data removed]",
            "text/plain": [
              "<Figure size 432x288 with 1 Axes>"
            ]
          },
          "metadata": {
            "tags": [],
            "needs_background": "light"
          }
        },
        {
          "output_type": "display_data",
          "data": {
            "image/png": "[encoded data removed]",
            "text/plain": [
              "<Figure size 432x288 with 1 Axes>"
            ]
          },
          "metadata": {
            "tags": [],
            "needs_background": "light"
          }
        }
      ]
    },
    {
      "cell_type": "code",
      "metadata": {
        "id": "KDPo8Py2ldlI"
      },
      "source": [
        ""
      ],
      "execution_count": null,
      "outputs": []
    },
    {
      "cell_type": "code",
      "metadata": {
        "colab": {
          "base_uri": "https://localhost:8080/",
          "height": 536
        },
        "id": "uZ5C3xV4kaF7",
        "outputId": "b52323db-f0a3-4020-a14b-61b8f4fef2b0"
      },
      "source": [
        "for batch in dataset_train.take(1):\r\n",
        "  model.predict(print(batch[0][0]))"
      ],
      "execution_count": null,
      "outputs": [
        {
          "output_type": "stream",
          "text": [
            "tf.Tensor(\n",
            "[[0.23072944 0.25359782 0.23867505 0.25819831]\n",
            " [0.2555613  0.26202515 0.26001571 0.26429034]\n",
            " [0.26215727 0.26941527 0.26904949 0.26480881]\n",
            " [0.26603725 0.27136004 0.26813302 0.26584576]\n",
            " [0.26629591 0.26021004 0.26512176 0.26169799]\n",
            " [0.26125194 0.2563205  0.26001571 0.25716137]\n",
            " [0.25750129 0.2613769  0.26368159 0.26727155]\n",
            " [0.26564925 0.26500713 0.26590731 0.26429034]\n",
            " [0.26422659 0.25852457 0.26315789 0.25677252]\n",
            " [0.25775996 0.25243096 0.24666143 0.2404407 ]], shape=(10, 4), dtype=float64)\n"
          ],
          "name": "stdout"
        },
        {
          "output_type": "error",
          "ename": "ValueError",
          "evalue": "ignored",
          "traceback": [
            "\u001b[0;31m---------------------------------------------------------------------------\u001b[0m",
            "\u001b[0;31mValueError\u001b[0m                                Traceback (most recent call last)",
            "\u001b[0;32m<ipython-input-233-3efcf28e6e82>\u001b[0m in \u001b[0;36m<module>\u001b[0;34m()\u001b[0m\n\u001b[1;32m      1\u001b[0m \u001b[0;32mfor\u001b[0m \u001b[0mbatch\u001b[0m \u001b[0;32min\u001b[0m \u001b[0mdataset_train\u001b[0m\u001b[0;34m.\u001b[0m\u001b[0mtake\u001b[0m\u001b[0;34m(\u001b[0m\u001b[0;36m1\u001b[0m\u001b[0;34m)\u001b[0m\u001b[0;34m:\u001b[0m\u001b[0;34m\u001b[0m\u001b[0;34m\u001b[0m\u001b[0m\n\u001b[0;32m----> 2\u001b[0;31m   \u001b[0mmodel\u001b[0m\u001b[0;34m.\u001b[0m\u001b[0mpredict\u001b[0m\u001b[0;34m(\u001b[0m\u001b[0mprint\u001b[0m\u001b[0;34m(\u001b[0m\u001b[0mbatch\u001b[0m\u001b[0;34m[\u001b[0m\u001b[0;36m0\u001b[0m\u001b[0;34m]\u001b[0m\u001b[0;34m[\u001b[0m\u001b[0;36m0\u001b[0m\u001b[0;34m]\u001b[0m\u001b[0;34m)\u001b[0m\u001b[0;34m)\u001b[0m\u001b[0;34m\u001b[0m\u001b[0;34m\u001b[0m\u001b[0m\n\u001b[0m",
            "\u001b[0;32m/usr/local/lib/python3.6/dist-packages/tensorflow/python/keras/engine/training.py\u001b[0m in \u001b[0;36mpredict\u001b[0;34m(self, x, batch_size, verbose, steps, callbacks, max_queue_size, workers, use_multiprocessing)\u001b[0m\n\u001b[1;32m   1606\u001b[0m           \u001b[0muse_multiprocessing\u001b[0m\u001b[0;34m=\u001b[0m\u001b[0muse_multiprocessing\u001b[0m\u001b[0;34m,\u001b[0m\u001b[0;34m\u001b[0m\u001b[0;34m\u001b[0m\u001b[0m\n\u001b[1;32m   1607\u001b[0m           \u001b[0mmodel\u001b[0m\u001b[0;34m=\u001b[0m\u001b[0mself\u001b[0m\u001b[0;34m,\u001b[0m\u001b[0;34m\u001b[0m\u001b[0;34m\u001b[0m\u001b[0m\n\u001b[0;32m-> 1608\u001b[0;31m           steps_per_execution=self._steps_per_execution)\n\u001b[0m\u001b[1;32m   1609\u001b[0m \u001b[0;34m\u001b[0m\u001b[0m\n\u001b[1;32m   1610\u001b[0m       \u001b[0;31m# Container that configures and calls `tf.keras.Callback`s.\u001b[0m\u001b[0;34m\u001b[0m\u001b[0;34m\u001b[0m\u001b[0;34m\u001b[0m\u001b[0m\n",
            "\u001b[0;32m/usr/local/lib/python3.6/dist-packages/tensorflow/python/keras/engine/data_adapter.py\u001b[0m in \u001b[0;36m__init__\u001b[0;34m(self, x, y, sample_weight, batch_size, steps_per_epoch, initial_epoch, epochs, shuffle, class_weight, max_queue_size, workers, use_multiprocessing, model, steps_per_execution)\u001b[0m\n\u001b[1;32m   1097\u001b[0m       \u001b[0mself\u001b[0m\u001b[0;34m.\u001b[0m\u001b[0m_steps_per_execution_value\u001b[0m \u001b[0;34m=\u001b[0m \u001b[0msteps_per_execution\u001b[0m\u001b[0;34m.\u001b[0m\u001b[0mnumpy\u001b[0m\u001b[0;34m(\u001b[0m\u001b[0;34m)\u001b[0m\u001b[0;34m.\u001b[0m\u001b[0mitem\u001b[0m\u001b[0;34m(\u001b[0m\u001b[0;34m)\u001b[0m\u001b[0;34m\u001b[0m\u001b[0;34m\u001b[0m\u001b[0m\n\u001b[1;32m   1098\u001b[0m \u001b[0;34m\u001b[0m\u001b[0m\n\u001b[0;32m-> 1099\u001b[0;31m     \u001b[0madapter_cls\u001b[0m \u001b[0;34m=\u001b[0m \u001b[0mselect_data_adapter\u001b[0m\u001b[0;34m(\u001b[0m\u001b[0mx\u001b[0m\u001b[0;34m,\u001b[0m \u001b[0my\u001b[0m\u001b[0;34m)\u001b[0m\u001b[0;34m\u001b[0m\u001b[0;34m\u001b[0m\u001b[0m\n\u001b[0m\u001b[1;32m   1100\u001b[0m     self._adapter = adapter_cls(\n\u001b[1;32m   1101\u001b[0m         \u001b[0mx\u001b[0m\u001b[0;34m,\u001b[0m\u001b[0;34m\u001b[0m\u001b[0;34m\u001b[0m\u001b[0m\n",
            "\u001b[0;32m/usr/local/lib/python3.6/dist-packages/tensorflow/python/keras/engine/data_adapter.py\u001b[0m in \u001b[0;36mselect_data_adapter\u001b[0;34m(x, y)\u001b[0m\n\u001b[1;32m    962\u001b[0m         \u001b[0;34m\"Failed to find data adapter that can handle \"\u001b[0m\u001b[0;34m\u001b[0m\u001b[0;34m\u001b[0m\u001b[0m\n\u001b[1;32m    963\u001b[0m         \"input: {}, {}\".format(\n\u001b[0;32m--> 964\u001b[0;31m             _type_name(x), _type_name(y)))\n\u001b[0m\u001b[1;32m    965\u001b[0m   \u001b[0;32melif\u001b[0m \u001b[0mlen\u001b[0m\u001b[0;34m(\u001b[0m\u001b[0madapter_cls\u001b[0m\u001b[0;34m)\u001b[0m \u001b[0;34m>\u001b[0m \u001b[0;36m1\u001b[0m\u001b[0;34m:\u001b[0m\u001b[0;34m\u001b[0m\u001b[0;34m\u001b[0m\u001b[0m\n\u001b[1;32m    966\u001b[0m     raise RuntimeError(\n",
            "\u001b[0;31mValueError\u001b[0m: Failed to find data adapter that can handle input: <class 'NoneType'>, <class 'NoneType'>"
          ]
        }
      ]
    },
    {
      "cell_type": "code",
      "metadata": {
        "colab": {
          "base_uri": "https://localhost:8080/",
          "height": 165
        },
        "id": "nKkwp3xGnyHo",
        "outputId": "5cc9bcd6-c4c5-4932-9101-66f9b3152920"
      },
      "source": [
        "y_pred=model.predict(x_val[0].reshape(1,20,4))"
      ],
      "execution_count": null,
      "outputs": [
        {
          "output_type": "error",
          "ename": "ValueError",
          "evalue": "ignored",
          "traceback": [
            "\u001b[0;31m---------------------------------------------------------------------------\u001b[0m",
            "\u001b[0;31mValueError\u001b[0m                                Traceback (most recent call last)",
            "\u001b[0;32m<ipython-input-206-48ed09d32031>\u001b[0m in \u001b[0;36m<module>\u001b[0;34m()\u001b[0m\n\u001b[0;32m----> 1\u001b[0;31m \u001b[0my_pred\u001b[0m\u001b[0;34m=\u001b[0m\u001b[0mmodel\u001b[0m\u001b[0;34m.\u001b[0m\u001b[0mpredict\u001b[0m\u001b[0;34m(\u001b[0m\u001b[0mx_val\u001b[0m\u001b[0;34m[\u001b[0m\u001b[0;36m0\u001b[0m\u001b[0;34m]\u001b[0m\u001b[0;34m.\u001b[0m\u001b[0mreshape\u001b[0m\u001b[0;34m(\u001b[0m\u001b[0;36m1\u001b[0m\u001b[0;34m,\u001b[0m\u001b[0;36m20\u001b[0m\u001b[0;34m,\u001b[0m\u001b[0;36m4\u001b[0m\u001b[0;34m)\u001b[0m\u001b[0;34m)\u001b[0m\u001b[0;34m\u001b[0m\u001b[0;34m\u001b[0m\u001b[0m\n\u001b[0m",
            "\u001b[0;31mValueError\u001b[0m: cannot reshape array of size 4 into shape (1,20,4)"
          ]
        }
      ]
    },
    {
      "cell_type": "code",
      "metadata": {
        "colab": {
          "base_uri": "https://localhost:8080/"
        },
        "id": "TBOAunanunTw",
        "outputId": "9451e38f-19d7-4be8-98e2-5e8482426361"
      },
      "source": [
        "np.shape(x_train)"
      ],
      "execution_count": null,
      "outputs": [
        {
          "output_type": "execute_result",
          "data": {
            "text/plain": [
              "(5225, 4)"
            ]
          },
          "metadata": {
            "tags": []
          },
          "execution_count": 225
        }
      ]
    },
    {
      "cell_type": "code",
      "metadata": {
        "colab": {
          "base_uri": "https://localhost:8080/",
          "height": 900
        },
        "id": "8yIzYYYfoR4U",
        "outputId": "9b1cd18b-c0d7-4ed2-d9ae-17c6b9fb7183"
      },
      "source": [
        "y_pred=[]\r\n",
        "y_target=[]\r\n",
        "for batch in dataset_val.take(100):\r\n",
        "  x,y=batch\r\n",
        "  y_target.append(y.numpy())\r\n",
        "  y_pred.append(model.predict(x[0]))\r\n",
        "y_pred=np.array(y_pred).ravel()\r\n",
        "y_target=np.array(y_target).ravel()"
      ],
      "execution_count": null,
      "outputs": [
        {
          "output_type": "error",
          "ename": "ValueError",
          "evalue": "ignored",
          "traceback": [
            "\u001b[0;31m---------------------------------------------------------------------------\u001b[0m",
            "\u001b[0;31mValueError\u001b[0m                                Traceback (most recent call last)",
            "\u001b[0;32m<ipython-input-189-80c6e82aa588>\u001b[0m in \u001b[0;36m<module>\u001b[0;34m()\u001b[0m\n\u001b[1;32m      4\u001b[0m   \u001b[0mx\u001b[0m\u001b[0;34m,\u001b[0m\u001b[0my\u001b[0m\u001b[0;34m=\u001b[0m\u001b[0mbatch\u001b[0m\u001b[0;34m\u001b[0m\u001b[0;34m\u001b[0m\u001b[0m\n\u001b[1;32m      5\u001b[0m   \u001b[0my_target\u001b[0m\u001b[0;34m.\u001b[0m\u001b[0mappend\u001b[0m\u001b[0;34m(\u001b[0m\u001b[0my\u001b[0m\u001b[0;34m.\u001b[0m\u001b[0mnumpy\u001b[0m\u001b[0;34m(\u001b[0m\u001b[0;34m)\u001b[0m\u001b[0;34m)\u001b[0m\u001b[0;34m\u001b[0m\u001b[0;34m\u001b[0m\u001b[0m\n\u001b[0;32m----> 6\u001b[0;31m   \u001b[0my_pred\u001b[0m\u001b[0;34m.\u001b[0m\u001b[0mappend\u001b[0m\u001b[0;34m(\u001b[0m\u001b[0mmodel\u001b[0m\u001b[0;34m.\u001b[0m\u001b[0mpredict\u001b[0m\u001b[0;34m(\u001b[0m\u001b[0mx\u001b[0m\u001b[0;34m[\u001b[0m\u001b[0;36m0\u001b[0m\u001b[0;34m]\u001b[0m\u001b[0;34m)\u001b[0m\u001b[0;34m)\u001b[0m\u001b[0;34m\u001b[0m\u001b[0;34m\u001b[0m\u001b[0m\n\u001b[0m\u001b[1;32m      7\u001b[0m \u001b[0my_pred\u001b[0m\u001b[0;34m=\u001b[0m\u001b[0mnp\u001b[0m\u001b[0;34m.\u001b[0m\u001b[0marray\u001b[0m\u001b[0;34m(\u001b[0m\u001b[0my_pred\u001b[0m\u001b[0;34m)\u001b[0m\u001b[0;34m.\u001b[0m\u001b[0mravel\u001b[0m\u001b[0;34m(\u001b[0m\u001b[0;34m)\u001b[0m\u001b[0;34m\u001b[0m\u001b[0;34m\u001b[0m\u001b[0m\n\u001b[1;32m      8\u001b[0m \u001b[0my_target\u001b[0m\u001b[0;34m=\u001b[0m\u001b[0mnp\u001b[0m\u001b[0;34m.\u001b[0m\u001b[0marray\u001b[0m\u001b[0;34m(\u001b[0m\u001b[0my_target\u001b[0m\u001b[0;34m)\u001b[0m\u001b[0;34m.\u001b[0m\u001b[0mravel\u001b[0m\u001b[0;34m(\u001b[0m\u001b[0;34m)\u001b[0m\u001b[0;34m\u001b[0m\u001b[0;34m\u001b[0m\u001b[0m\n",
            "\u001b[0;32m/usr/local/lib/python3.6/dist-packages/tensorflow/python/keras/engine/training.py\u001b[0m in \u001b[0;36mpredict\u001b[0;34m(self, x, batch_size, verbose, steps, callbacks, max_queue_size, workers, use_multiprocessing)\u001b[0m\n\u001b[1;32m   1627\u001b[0m           \u001b[0;32mfor\u001b[0m \u001b[0mstep\u001b[0m \u001b[0;32min\u001b[0m \u001b[0mdata_handler\u001b[0m\u001b[0;34m.\u001b[0m\u001b[0msteps\u001b[0m\u001b[0;34m(\u001b[0m\u001b[0;34m)\u001b[0m\u001b[0;34m:\u001b[0m\u001b[0;34m\u001b[0m\u001b[0;34m\u001b[0m\u001b[0m\n\u001b[1;32m   1628\u001b[0m             \u001b[0mcallbacks\u001b[0m\u001b[0;34m.\u001b[0m\u001b[0mon_predict_batch_begin\u001b[0m\u001b[0;34m(\u001b[0m\u001b[0mstep\u001b[0m\u001b[0;34m)\u001b[0m\u001b[0;34m\u001b[0m\u001b[0;34m\u001b[0m\u001b[0m\n\u001b[0;32m-> 1629\u001b[0;31m             \u001b[0mtmp_batch_outputs\u001b[0m \u001b[0;34m=\u001b[0m \u001b[0mself\u001b[0m\u001b[0;34m.\u001b[0m\u001b[0mpredict_function\u001b[0m\u001b[0;34m(\u001b[0m\u001b[0miterator\u001b[0m\u001b[0;34m)\u001b[0m\u001b[0;34m\u001b[0m\u001b[0;34m\u001b[0m\u001b[0m\n\u001b[0m\u001b[1;32m   1630\u001b[0m             \u001b[0;32mif\u001b[0m \u001b[0mdata_handler\u001b[0m\u001b[0;34m.\u001b[0m\u001b[0mshould_sync\u001b[0m\u001b[0;34m:\u001b[0m\u001b[0;34m\u001b[0m\u001b[0;34m\u001b[0m\u001b[0m\n\u001b[1;32m   1631\u001b[0m               \u001b[0mcontext\u001b[0m\u001b[0;34m.\u001b[0m\u001b[0masync_wait\u001b[0m\u001b[0;34m(\u001b[0m\u001b[0;34m)\u001b[0m\u001b[0;34m\u001b[0m\u001b[0;34m\u001b[0m\u001b[0m\n",
            "\u001b[0;32m/usr/local/lib/python3.6/dist-packages/tensorflow/python/eager/def_function.py\u001b[0m in \u001b[0;36m__call__\u001b[0;34m(self, *args, **kwds)\u001b[0m\n\u001b[1;32m    826\u001b[0m     \u001b[0mtracing_count\u001b[0m \u001b[0;34m=\u001b[0m \u001b[0mself\u001b[0m\u001b[0;34m.\u001b[0m\u001b[0mexperimental_get_tracing_count\u001b[0m\u001b[0;34m(\u001b[0m\u001b[0;34m)\u001b[0m\u001b[0;34m\u001b[0m\u001b[0;34m\u001b[0m\u001b[0m\n\u001b[1;32m    827\u001b[0m     \u001b[0;32mwith\u001b[0m \u001b[0mtrace\u001b[0m\u001b[0;34m.\u001b[0m\u001b[0mTrace\u001b[0m\u001b[0;34m(\u001b[0m\u001b[0mself\u001b[0m\u001b[0;34m.\u001b[0m\u001b[0m_name\u001b[0m\u001b[0;34m)\u001b[0m \u001b[0;32mas\u001b[0m \u001b[0mtm\u001b[0m\u001b[0;34m:\u001b[0m\u001b[0;34m\u001b[0m\u001b[0;34m\u001b[0m\u001b[0m\n\u001b[0;32m--> 828\u001b[0;31m       \u001b[0mresult\u001b[0m \u001b[0;34m=\u001b[0m \u001b[0mself\u001b[0m\u001b[0;34m.\u001b[0m\u001b[0m_call\u001b[0m\u001b[0;34m(\u001b[0m\u001b[0;34m*\u001b[0m\u001b[0margs\u001b[0m\u001b[0;34m,\u001b[0m \u001b[0;34m**\u001b[0m\u001b[0mkwds\u001b[0m\u001b[0;34m)\u001b[0m\u001b[0;34m\u001b[0m\u001b[0;34m\u001b[0m\u001b[0m\n\u001b[0m\u001b[1;32m    829\u001b[0m       \u001b[0mcompiler\u001b[0m \u001b[0;34m=\u001b[0m \u001b[0;34m\"xla\"\u001b[0m \u001b[0;32mif\u001b[0m \u001b[0mself\u001b[0m\u001b[0;34m.\u001b[0m\u001b[0m_experimental_compile\u001b[0m \u001b[0;32melse\u001b[0m \u001b[0;34m\"nonXla\"\u001b[0m\u001b[0;34m\u001b[0m\u001b[0;34m\u001b[0m\u001b[0m\n\u001b[1;32m    830\u001b[0m       \u001b[0mnew_tracing_count\u001b[0m \u001b[0;34m=\u001b[0m \u001b[0mself\u001b[0m\u001b[0;34m.\u001b[0m\u001b[0mexperimental_get_tracing_count\u001b[0m\u001b[0;34m(\u001b[0m\u001b[0;34m)\u001b[0m\u001b[0;34m\u001b[0m\u001b[0;34m\u001b[0m\u001b[0m\n",
            "\u001b[0;32m/usr/local/lib/python3.6/dist-packages/tensorflow/python/eager/def_function.py\u001b[0m in \u001b[0;36m_call\u001b[0;34m(self, *args, **kwds)\u001b[0m\n\u001b[1;32m    860\u001b[0m       \u001b[0;31m# In this case we have not created variables on the first call. So we can\u001b[0m\u001b[0;34m\u001b[0m\u001b[0;34m\u001b[0m\u001b[0;34m\u001b[0m\u001b[0m\n\u001b[1;32m    861\u001b[0m       \u001b[0;31m# run the first trace but we should fail if variables are created.\u001b[0m\u001b[0;34m\u001b[0m\u001b[0;34m\u001b[0m\u001b[0;34m\u001b[0m\u001b[0m\n\u001b[0;32m--> 862\u001b[0;31m       \u001b[0mresults\u001b[0m \u001b[0;34m=\u001b[0m \u001b[0mself\u001b[0m\u001b[0;34m.\u001b[0m\u001b[0m_stateful_fn\u001b[0m\u001b[0;34m(\u001b[0m\u001b[0;34m*\u001b[0m\u001b[0margs\u001b[0m\u001b[0;34m,\u001b[0m \u001b[0;34m**\u001b[0m\u001b[0mkwds\u001b[0m\u001b[0;34m)\u001b[0m\u001b[0;34m\u001b[0m\u001b[0;34m\u001b[0m\u001b[0m\n\u001b[0m\u001b[1;32m    863\u001b[0m       \u001b[0;32mif\u001b[0m \u001b[0mself\u001b[0m\u001b[0;34m.\u001b[0m\u001b[0m_created_variables\u001b[0m\u001b[0;34m:\u001b[0m\u001b[0;34m\u001b[0m\u001b[0;34m\u001b[0m\u001b[0m\n\u001b[1;32m    864\u001b[0m         raise ValueError(\"Creating variables on a non-first call to a function\"\n",
            "\u001b[0;32m/usr/local/lib/python3.6/dist-packages/tensorflow/python/eager/function.py\u001b[0m in \u001b[0;36m__call__\u001b[0;34m(self, *args, **kwargs)\u001b[0m\n\u001b[1;32m   2939\u001b[0m     \u001b[0;32mwith\u001b[0m \u001b[0mself\u001b[0m\u001b[0;34m.\u001b[0m\u001b[0m_lock\u001b[0m\u001b[0;34m:\u001b[0m\u001b[0;34m\u001b[0m\u001b[0;34m\u001b[0m\u001b[0m\n\u001b[1;32m   2940\u001b[0m       (graph_function,\n\u001b[0;32m-> 2941\u001b[0;31m        filtered_flat_args) = self._maybe_define_function(args, kwargs)\n\u001b[0m\u001b[1;32m   2942\u001b[0m     return graph_function._call_flat(\n\u001b[1;32m   2943\u001b[0m         filtered_flat_args, captured_inputs=graph_function.captured_inputs)  # pylint: disable=protected-access\n",
            "\u001b[0;32m/usr/local/lib/python3.6/dist-packages/tensorflow/python/eager/function.py\u001b[0m in \u001b[0;36m_maybe_define_function\u001b[0;34m(self, args, kwargs)\u001b[0m\n\u001b[1;32m   3356\u001b[0m               call_context_key in self._function_cache.missed):\n\u001b[1;32m   3357\u001b[0m             return self._define_function_with_shape_relaxation(\n\u001b[0;32m-> 3358\u001b[0;31m                 args, kwargs, flat_args, filtered_flat_args, cache_key_context)\n\u001b[0m\u001b[1;32m   3359\u001b[0m \u001b[0;34m\u001b[0m\u001b[0m\n\u001b[1;32m   3360\u001b[0m           \u001b[0mself\u001b[0m\u001b[0;34m.\u001b[0m\u001b[0m_function_cache\u001b[0m\u001b[0;34m.\u001b[0m\u001b[0mmissed\u001b[0m\u001b[0;34m.\u001b[0m\u001b[0madd\u001b[0m\u001b[0;34m(\u001b[0m\u001b[0mcall_context_key\u001b[0m\u001b[0;34m)\u001b[0m\u001b[0;34m\u001b[0m\u001b[0;34m\u001b[0m\u001b[0m\n",
            "\u001b[0;32m/usr/local/lib/python3.6/dist-packages/tensorflow/python/eager/function.py\u001b[0m in \u001b[0;36m_define_function_with_shape_relaxation\u001b[0;34m(self, args, kwargs, flat_args, filtered_flat_args, cache_key_context)\u001b[0m\n\u001b[1;32m   3278\u001b[0m \u001b[0;34m\u001b[0m\u001b[0m\n\u001b[1;32m   3279\u001b[0m     graph_function = self._create_graph_function(\n\u001b[0;32m-> 3280\u001b[0;31m         args, kwargs, override_flat_arg_shapes=relaxed_arg_shapes)\n\u001b[0m\u001b[1;32m   3281\u001b[0m     \u001b[0mself\u001b[0m\u001b[0;34m.\u001b[0m\u001b[0m_function_cache\u001b[0m\u001b[0;34m.\u001b[0m\u001b[0marg_relaxed\u001b[0m\u001b[0;34m[\u001b[0m\u001b[0mrank_only_cache_key\u001b[0m\u001b[0;34m]\u001b[0m \u001b[0;34m=\u001b[0m \u001b[0mgraph_function\u001b[0m\u001b[0;34m\u001b[0m\u001b[0;34m\u001b[0m\u001b[0m\n\u001b[1;32m   3282\u001b[0m \u001b[0;34m\u001b[0m\u001b[0m\n",
            "\u001b[0;32m/usr/local/lib/python3.6/dist-packages/tensorflow/python/eager/function.py\u001b[0m in \u001b[0;36m_create_graph_function\u001b[0;34m(self, args, kwargs, override_flat_arg_shapes)\u001b[0m\n\u001b[1;32m   3204\u001b[0m             \u001b[0marg_names\u001b[0m\u001b[0;34m=\u001b[0m\u001b[0marg_names\u001b[0m\u001b[0;34m,\u001b[0m\u001b[0;34m\u001b[0m\u001b[0;34m\u001b[0m\u001b[0m\n\u001b[1;32m   3205\u001b[0m             \u001b[0moverride_flat_arg_shapes\u001b[0m\u001b[0;34m=\u001b[0m\u001b[0moverride_flat_arg_shapes\u001b[0m\u001b[0;34m,\u001b[0m\u001b[0;34m\u001b[0m\u001b[0;34m\u001b[0m\u001b[0m\n\u001b[0;32m-> 3206\u001b[0;31m             capture_by_value=self._capture_by_value),\n\u001b[0m\u001b[1;32m   3207\u001b[0m         \u001b[0mself\u001b[0m\u001b[0;34m.\u001b[0m\u001b[0m_function_attributes\u001b[0m\u001b[0;34m,\u001b[0m\u001b[0;34m\u001b[0m\u001b[0;34m\u001b[0m\u001b[0m\n\u001b[1;32m   3208\u001b[0m         \u001b[0mfunction_spec\u001b[0m\u001b[0;34m=\u001b[0m\u001b[0mself\u001b[0m\u001b[0;34m.\u001b[0m\u001b[0mfunction_spec\u001b[0m\u001b[0;34m,\u001b[0m\u001b[0;34m\u001b[0m\u001b[0;34m\u001b[0m\u001b[0m\n",
            "\u001b[0;32m/usr/local/lib/python3.6/dist-packages/tensorflow/python/framework/func_graph.py\u001b[0m in \u001b[0;36mfunc_graph_from_py_func\u001b[0;34m(name, python_func, args, kwargs, signature, func_graph, autograph, autograph_options, add_control_dependencies, arg_names, op_return_value, collections, capture_by_value, override_flat_arg_shapes)\u001b[0m\n\u001b[1;32m    988\u001b[0m         \u001b[0m_\u001b[0m\u001b[0;34m,\u001b[0m \u001b[0moriginal_func\u001b[0m \u001b[0;34m=\u001b[0m \u001b[0mtf_decorator\u001b[0m\u001b[0;34m.\u001b[0m\u001b[0munwrap\u001b[0m\u001b[0;34m(\u001b[0m\u001b[0mpython_func\u001b[0m\u001b[0;34m)\u001b[0m\u001b[0;34m\u001b[0m\u001b[0;34m\u001b[0m\u001b[0m\n\u001b[1;32m    989\u001b[0m \u001b[0;34m\u001b[0m\u001b[0m\n\u001b[0;32m--> 990\u001b[0;31m       \u001b[0mfunc_outputs\u001b[0m \u001b[0;34m=\u001b[0m \u001b[0mpython_func\u001b[0m\u001b[0;34m(\u001b[0m\u001b[0;34m*\u001b[0m\u001b[0mfunc_args\u001b[0m\u001b[0;34m,\u001b[0m \u001b[0;34m**\u001b[0m\u001b[0mfunc_kwargs\u001b[0m\u001b[0;34m)\u001b[0m\u001b[0;34m\u001b[0m\u001b[0;34m\u001b[0m\u001b[0m\n\u001b[0m\u001b[1;32m    991\u001b[0m \u001b[0;34m\u001b[0m\u001b[0m\n\u001b[1;32m    992\u001b[0m       \u001b[0;31m# invariant: `func_outputs` contains only Tensors, CompositeTensors,\u001b[0m\u001b[0;34m\u001b[0m\u001b[0;34m\u001b[0m\u001b[0;34m\u001b[0m\u001b[0m\n",
            "\u001b[0;32m/usr/local/lib/python3.6/dist-packages/tensorflow/python/eager/def_function.py\u001b[0m in \u001b[0;36mwrapped_fn\u001b[0;34m(*args, **kwds)\u001b[0m\n\u001b[1;32m    632\u001b[0m             \u001b[0mxla_context\u001b[0m\u001b[0;34m.\u001b[0m\u001b[0mExit\u001b[0m\u001b[0;34m(\u001b[0m\u001b[0;34m)\u001b[0m\u001b[0;34m\u001b[0m\u001b[0;34m\u001b[0m\u001b[0m\n\u001b[1;32m    633\u001b[0m         \u001b[0;32melse\u001b[0m\u001b[0;34m:\u001b[0m\u001b[0;34m\u001b[0m\u001b[0;34m\u001b[0m\u001b[0m\n\u001b[0;32m--> 634\u001b[0;31m           \u001b[0mout\u001b[0m \u001b[0;34m=\u001b[0m \u001b[0mweak_wrapped_fn\u001b[0m\u001b[0;34m(\u001b[0m\u001b[0;34m)\u001b[0m\u001b[0;34m.\u001b[0m\u001b[0m__wrapped__\u001b[0m\u001b[0;34m(\u001b[0m\u001b[0;34m*\u001b[0m\u001b[0margs\u001b[0m\u001b[0;34m,\u001b[0m \u001b[0;34m**\u001b[0m\u001b[0mkwds\u001b[0m\u001b[0;34m)\u001b[0m\u001b[0;34m\u001b[0m\u001b[0;34m\u001b[0m\u001b[0m\n\u001b[0m\u001b[1;32m    635\u001b[0m         \u001b[0;32mreturn\u001b[0m \u001b[0mout\u001b[0m\u001b[0;34m\u001b[0m\u001b[0;34m\u001b[0m\u001b[0m\n\u001b[1;32m    636\u001b[0m \u001b[0;34m\u001b[0m\u001b[0m\n",
            "\u001b[0;32m/usr/local/lib/python3.6/dist-packages/tensorflow/python/framework/func_graph.py\u001b[0m in \u001b[0;36mwrapper\u001b[0;34m(*args, **kwargs)\u001b[0m\n\u001b[1;32m    975\u001b[0m           \u001b[0;32mexcept\u001b[0m \u001b[0mException\u001b[0m \u001b[0;32mas\u001b[0m \u001b[0me\u001b[0m\u001b[0;34m:\u001b[0m  \u001b[0;31m# pylint:disable=broad-except\u001b[0m\u001b[0;34m\u001b[0m\u001b[0;34m\u001b[0m\u001b[0m\n\u001b[1;32m    976\u001b[0m             \u001b[0;32mif\u001b[0m \u001b[0mhasattr\u001b[0m\u001b[0;34m(\u001b[0m\u001b[0me\u001b[0m\u001b[0;34m,\u001b[0m \u001b[0;34m\"ag_error_metadata\"\u001b[0m\u001b[0;34m)\u001b[0m\u001b[0;34m:\u001b[0m\u001b[0;34m\u001b[0m\u001b[0;34m\u001b[0m\u001b[0m\n\u001b[0;32m--> 977\u001b[0;31m               \u001b[0;32mraise\u001b[0m \u001b[0me\u001b[0m\u001b[0;34m.\u001b[0m\u001b[0mag_error_metadata\u001b[0m\u001b[0;34m.\u001b[0m\u001b[0mto_exception\u001b[0m\u001b[0;34m(\u001b[0m\u001b[0me\u001b[0m\u001b[0;34m)\u001b[0m\u001b[0;34m\u001b[0m\u001b[0;34m\u001b[0m\u001b[0m\n\u001b[0m\u001b[1;32m    978\u001b[0m             \u001b[0;32melse\u001b[0m\u001b[0;34m:\u001b[0m\u001b[0;34m\u001b[0m\u001b[0;34m\u001b[0m\u001b[0m\n\u001b[1;32m    979\u001b[0m               \u001b[0;32mraise\u001b[0m\u001b[0;34m\u001b[0m\u001b[0;34m\u001b[0m\u001b[0m\n",
            "\u001b[0;31mValueError\u001b[0m: in user code:\n\n    /usr/local/lib/python3.6/dist-packages/tensorflow/python/keras/engine/training.py:1478 predict_function  *\n        return step_function(self, iterator)\n    /usr/local/lib/python3.6/dist-packages/tensorflow/python/keras/engine/training.py:1468 step_function  **\n        outputs = model.distribute_strategy.run(run_step, args=(data,))\n    /usr/local/lib/python3.6/dist-packages/tensorflow/python/distribute/distribute_lib.py:1259 run\n        return self._extended.call_for_each_replica(fn, args=args, kwargs=kwargs)\n    /usr/local/lib/python3.6/dist-packages/tensorflow/python/distribute/distribute_lib.py:2730 call_for_each_replica\n        return self._call_for_each_replica(fn, args, kwargs)\n    /usr/local/lib/python3.6/dist-packages/tensorflow/python/distribute/distribute_lib.py:3417 _call_for_each_replica\n        return fn(*args, **kwargs)\n    /usr/local/lib/python3.6/dist-packages/tensorflow/python/keras/engine/training.py:1461 run_step  **\n        outputs = model.predict_step(data)\n    /usr/local/lib/python3.6/dist-packages/tensorflow/python/keras/engine/training.py:1434 predict_step\n        return self(x, training=False)\n    /usr/local/lib/python3.6/dist-packages/tensorflow/python/keras/engine/base_layer.py:998 __call__\n        input_spec.assert_input_compatibility(self.input_spec, inputs, self.name)\n    /usr/local/lib/python3.6/dist-packages/tensorflow/python/keras/engine/input_spec.py:274 assert_input_compatibility\n        ', found shape=' + display_shape(x.shape))\n\n    ValueError: Input 0 is incompatible with layer model_3: expected shape=(None, 20, 4), found shape=(None, 4)\n"
          ]
        }
      ]
    },
    {
      "cell_type": "code",
      "metadata": {
        "colab": {
          "base_uri": "https://localhost:8080/",
          "height": 183
        },
        "id": "nibIB_wLoee7",
        "outputId": "b91a4f41-7389-41c1-aa32-23132c613290"
      },
      "source": [
        "x,y=dataset_val.take(0)\r\n",
        "model.predict(x[0])"
      ],
      "execution_count": null,
      "outputs": [
        {
          "output_type": "error",
          "ename": "ValueError",
          "evalue": "ignored",
          "traceback": [
            "\u001b[0;31m---------------------------------------------------------------------------\u001b[0m",
            "\u001b[0;31mValueError\u001b[0m                                Traceback (most recent call last)",
            "\u001b[0;32m<ipython-input-194-b0385ef1ca30>\u001b[0m in \u001b[0;36m<module>\u001b[0;34m()\u001b[0m\n\u001b[0;32m----> 1\u001b[0;31m \u001b[0mx\u001b[0m\u001b[0;34m,\u001b[0m\u001b[0my\u001b[0m\u001b[0;34m=\u001b[0m\u001b[0mdataset_val\u001b[0m\u001b[0;34m.\u001b[0m\u001b[0mtake\u001b[0m\u001b[0;34m(\u001b[0m\u001b[0;36m0\u001b[0m\u001b[0;34m)\u001b[0m\u001b[0;34m\u001b[0m\u001b[0;34m\u001b[0m\u001b[0m\n\u001b[0m\u001b[1;32m      2\u001b[0m \u001b[0mmodel\u001b[0m\u001b[0;34m.\u001b[0m\u001b[0mpredict\u001b[0m\u001b[0;34m(\u001b[0m\u001b[0mx\u001b[0m\u001b[0;34m[\u001b[0m\u001b[0;36m0\u001b[0m\u001b[0;34m]\u001b[0m\u001b[0;34m)\u001b[0m\u001b[0;34m\u001b[0m\u001b[0;34m\u001b[0m\u001b[0m\n",
            "\u001b[0;31mValueError\u001b[0m: not enough values to unpack (expected 2, got 0)"
          ]
        }
      ]
    },
    {
      "cell_type": "code",
      "metadata": {
        "colab": {
          "base_uri": "https://localhost:8080/",
          "height": 165
        },
        "id": "S4CYHKsIpKto",
        "outputId": "e62e53cb-62da-4283-bb08-67a9eb0b7ca9"
      },
      "source": [
        "model.predict(x_train[0].expand_dim(1))"
      ],
      "execution_count": null,
      "outputs": [
        {
          "output_type": "error",
          "ename": "AttributeError",
          "evalue": "ignored",
          "traceback": [
            "\u001b[0;31m---------------------------------------------------------------------------\u001b[0m",
            "\u001b[0;31mAttributeError\u001b[0m                            Traceback (most recent call last)",
            "\u001b[0;32m<ipython-input-201-d78569a9c04a>\u001b[0m in \u001b[0;36m<module>\u001b[0;34m()\u001b[0m\n\u001b[0;32m----> 1\u001b[0;31m \u001b[0mmodel\u001b[0m\u001b[0;34m.\u001b[0m\u001b[0mpredict\u001b[0m\u001b[0;34m(\u001b[0m\u001b[0mx_train\u001b[0m\u001b[0;34m[\u001b[0m\u001b[0;36m0\u001b[0m\u001b[0;34m]\u001b[0m\u001b[0;34m.\u001b[0m\u001b[0mexpand_dim\u001b[0m\u001b[0;34m(\u001b[0m\u001b[0;36m1\u001b[0m\u001b[0;34m)\u001b[0m\u001b[0;34m)\u001b[0m\u001b[0;34m\u001b[0m\u001b[0;34m\u001b[0m\u001b[0m\n\u001b[0m",
            "\u001b[0;31mAttributeError\u001b[0m: 'numpy.ndarray' object has no attribute 'expand_dim'"
          ]
        }
      ]
    },
    {
      "cell_type": "code",
      "metadata": {
        "colab": {
          "base_uri": "https://localhost:8080/",
          "height": 165
        },
        "id": "-5_pktgjqBwY",
        "outputId": "39d94f3f-8616-4d22-e892-b9d989831a28"
      },
      "source": [
        "x,y=batch"
      ],
      "execution_count": null,
      "outputs": [
        {
          "output_type": "error",
          "ename": "ValueError",
          "evalue": "ignored",
          "traceback": [
            "\u001b[0;31m---------------------------------------------------------------------------\u001b[0m",
            "\u001b[0;31mValueError\u001b[0m                                Traceback (most recent call last)",
            "\u001b[0;32m<ipython-input-198-33ee2ffb8458>\u001b[0m in \u001b[0;36m<module>\u001b[0;34m()\u001b[0m\n\u001b[0;32m----> 1\u001b[0;31m \u001b[0mx\u001b[0m\u001b[0;34m,\u001b[0m\u001b[0my\u001b[0m\u001b[0;34m=\u001b[0m\u001b[0mbatch\u001b[0m\u001b[0;34m\u001b[0m\u001b[0;34m\u001b[0m\u001b[0m\n\u001b[0m",
            "\u001b[0;31mValueError\u001b[0m: not enough values to unpack (expected 2, got 0)"
          ]
        }
      ]
    },
    {
      "cell_type": "code",
      "metadata": {
        "id": "Q805F_ZJt1Gh"
      },
      "source": [
        ""
      ],
      "execution_count": null,
      "outputs": []
    }
  ]
}