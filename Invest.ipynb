{
  "nbformat": 4,
  "nbformat_minor": 0,
  "metadata": {
    "colab": {
      "name": "Invest 2.ipynb",
      "provenance": [],
      "collapsed_sections": [],
      "include_colab_link": true
    },
    "kernelspec": {
      "display_name": "Python 3",
      "language": "python",
      "name": "python3"
    },
    "language_info": {
      "codemirror_mode": {
        "name": "ipython",
        "version": 3
      },
      "file_extension": ".py",
      "mimetype": "text/x-python",
      "name": "python",
      "nbconvert_exporter": "python",
      "pygments_lexer": "ipython3",
      "version": "3.6.2"
    }
  },
  "cells": [
    {
      "cell_type": "markdown",
      "metadata": {
        "id": "view-in-github",
        "colab_type": "text"
      },
      "source": [
        "<a href=\"https://colab.research.google.com/github/Smartsie/Invest/blob/master/Invest.ipynb\" target=\"_parent\"><img src=\"https://colab.research.google.com/assets/colab-badge.svg\" alt=\"Open In Colab\"/></a>"
      ]
    },
    {
      "cell_type": "code",
      "metadata": {
        "id": "iQkgsW4cS4_J",
        "colab_type": "code",
        "colab": {
          "base_uri": "https://localhost:8080/",
          "height": 531
        },
        "outputId": "5eec77ab-3ae4-4d4f-ca1a-62269ed90afc"
      },
      "source": [
        "!pip install investpy==0.9.14"
      ],
      "execution_count": 1,
      "outputs": [
        {
          "output_type": "stream",
          "text": [
            "Collecting investpy==0.9.14\n",
            "\u001b[?25l  Downloading https://files.pythonhosted.org/packages/21/67/0488de1558cf159260046521dcba0bb1304f6c1190372bfb4ac709e994f3/investpy-0.9.14.tar.gz (4.4MB)\n",
            "\u001b[K     |████████████████████████████████| 4.4MB 2.7MB/s \n",
            "\u001b[?25hCollecting Unidecode>=1.1.1\n",
            "\u001b[?25l  Downloading https://files.pythonhosted.org/packages/d0/42/d9edfed04228bacea2d824904cae367ee9efd05e6cce7ceaaedd0b0ad964/Unidecode-1.1.1-py2.py3-none-any.whl (238kB)\n",
            "\u001b[K     |████████████████████████████████| 245kB 28.2MB/s \n",
            "\u001b[?25hRequirement already satisfied: setuptools>=41.2.0 in /usr/local/lib/python3.6/dist-packages (from investpy==0.9.14) (49.2.0)\n",
            "Requirement already satisfied: numpy>=1.17.2 in /usr/local/lib/python3.6/dist-packages (from investpy==0.9.14) (1.18.5)\n",
            "Requirement already satisfied: pandas>=0.25.1 in /usr/local/lib/python3.6/dist-packages (from investpy==0.9.14) (1.0.5)\n",
            "Collecting lxml>=4.4.1\n",
            "\u001b[?25l  Downloading https://files.pythonhosted.org/packages/79/37/d420b7fdc9a550bd29b8cfeacff3b38502d9600b09d7dfae9a69e623b891/lxml-4.5.2-cp36-cp36m-manylinux1_x86_64.whl (5.5MB)\n",
            "\u001b[K     |████████████████████████████████| 5.5MB 24.1MB/s \n",
            "\u001b[?25hRequirement already satisfied: requests>=2.22.0 in /usr/local/lib/python3.6/dist-packages (from investpy==0.9.14) (2.23.0)\n",
            "Requirement already satisfied: pytz>=2017.2 in /usr/local/lib/python3.6/dist-packages (from pandas>=0.25.1->investpy==0.9.14) (2018.9)\n",
            "Requirement already satisfied: python-dateutil>=2.6.1 in /usr/local/lib/python3.6/dist-packages (from pandas>=0.25.1->investpy==0.9.14) (2.8.1)\n",
            "Requirement already satisfied: idna<3,>=2.5 in /usr/local/lib/python3.6/dist-packages (from requests>=2.22.0->investpy==0.9.14) (2.10)\n",
            "Requirement already satisfied: certifi>=2017.4.17 in /usr/local/lib/python3.6/dist-packages (from requests>=2.22.0->investpy==0.9.14) (2020.6.20)\n",
            "Requirement already satisfied: chardet<4,>=3.0.2 in /usr/local/lib/python3.6/dist-packages (from requests>=2.22.0->investpy==0.9.14) (3.0.4)\n",
            "Requirement already satisfied: urllib3!=1.25.0,!=1.25.1,<1.26,>=1.21.1 in /usr/local/lib/python3.6/dist-packages (from requests>=2.22.0->investpy==0.9.14) (1.24.3)\n",
            "Requirement already satisfied: six>=1.5 in /usr/local/lib/python3.6/dist-packages (from python-dateutil>=2.6.1->pandas>=0.25.1->investpy==0.9.14) (1.15.0)\n",
            "Building wheels for collected packages: investpy\n",
            "  Building wheel for investpy (setup.py) ... \u001b[?25l\u001b[?25hdone\n",
            "  Created wheel for investpy: filename=investpy-0.9.14-cp36-none-any.whl size=4469457 sha256=9dbc615c0f26a53835422b7be6cb0aaed902a3e27408add72836963820f46027\n",
            "  Stored in directory: /root/.cache/pip/wheels/86/35/ee/fc38f22f1353037b5118cff64b62aeed42f63f2c84135eaaaa\n",
            "Successfully built investpy\n",
            "Installing collected packages: Unidecode, lxml, investpy\n",
            "  Found existing installation: lxml 4.2.6\n",
            "    Uninstalling lxml-4.2.6:\n",
            "      Successfully uninstalled lxml-4.2.6\n",
            "Successfully installed Unidecode-1.1.1 investpy-0.9.14 lxml-4.5.2\n"
          ],
          "name": "stdout"
        }
      ]
    },
    {
      "cell_type": "code",
      "metadata": {
        "colab_type": "code",
        "id": "4hjgq2IxsJCv",
        "colab": {}
      },
      "source": [
        "import numpy as np\n",
        "import pandas as pd\n",
        "import matplotlib.pyplot as plt\n",
        "import plotly.express as px"
      ],
      "execution_count": 22,
      "outputs": []
    },
    {
      "cell_type": "code",
      "metadata": {
        "colab_type": "code",
        "id": "SdJXj5K8sFO8",
        "colab": {
          "base_uri": "https://localhost:8080/",
          "height": 130
        },
        "outputId": "73b0265a-1bac-4320-9006-8daee6138694"
      },
      "source": [
        "\n",
        "ING (B) Collect Portfolio - ING Core Fund Balanced - Euro\n",
        "BE6247121302\n",
        "Risk 4\n",
        "\n",
        "ING (B) Collect Portfolio - ING Core Fund Moderated - Euro\n",
        "BE6282431327\n",
        "Risk 3\n",
        "\n",
        "\n",
        "ING (B) Collect Portfolio - ING Core Fund Dynamic - Euro\n",
        "BE6282433349\n",
        "Risk 5\n",
        "\n",
        "ING (B) Collect Portfolio - ING Stability Fund - Euro\n",
        "BE6288613068\n",
        "Risk 2\n",
        "\n",
        "ING (B) Fund - Index Portfolio Fund Moderated - Euro\n",
        "BE6264506526\n",
        "Risk 3\n",
        "ING (B) Fund - Index Portfolio Fund Dynamic - Euro\n",
        "BE6264508548\n",
        "Risk 5\n",
        "\n",
        "ING Fund - ING Sustainable Conservative - Euro\n",
        "Risk 3\n",
        "LU1860911087\n",
        "\n",
        "\n",
        "ING Fund - ING Sustainable Moderate - Euro\n",
        "LU1860911913\n",
        "Risk 3\n",
        "\n",
        "ING Fund - ING Sustainable Balanced - Euro\n",
        "LU1860912721\n",
        "\n",
        "\n",
        "ING Fund - ING Sustainable Active - Euro\n",
        "LU2075804901\n",
        "Risk 5\n",
        "\n",
        "ING Fund - ING Sustainable Dynamic - Euro\n",
        "LU1860913703\n",
        "Risk 5\n",
        "\n",
        "ING Fund - ING Multi-Asset Income Fund Moderate - Euro\n",
        "LU1857284985\n",
        "Risk 4\n",
        "\n",
        "ING Fund - ING Multi-Asset Income Fund Balanced - Euro\n",
        "LU1857284985\n",
        "Risk 4\n",
        "\n",
        "ING Fund - ING Multi-Asset Income Fund Active - Euro\n",
        "LU1857284985\n",
        "Risk 4\n",
        "\n",
        "AXA World Funds - Global Optimal Income - Euro\n",
        "LU0465917044\n",
        "Risk 5\n",
        "\n",
        "NN (L) Patrimonial - Balanced - Euro\n",
        "LU0119195963\n",
        "Risk 4\n",
        "\n",
        "\n"
      ],
      "execution_count": 3,
      "outputs": [
        {
          "output_type": "error",
          "ename": "SyntaxError",
          "evalue": "ignored",
          "traceback": [
            "\u001b[0;36m  File \u001b[0;32m\"<ipython-input-3-e60930805790>\"\u001b[0;36m, line \u001b[0;32m2\u001b[0m\n\u001b[0;31m    ING (B) Collect Portfolio - ING Core Fund Balanced - Euro\u001b[0m\n\u001b[0m                  ^\u001b[0m\n\u001b[0;31mSyntaxError\u001b[0m\u001b[0;31m:\u001b[0m invalid syntax\n"
          ]
        }
      ]
    },
    {
      "cell_type": "code",
      "metadata": {
        "id": "IDlpkDVoUSte",
        "colab_type": "code",
        "colab": {}
      },
      "source": [
        "import investpy\n",
        "\n",
        "funds_list=['BE6247121302',\n",
        "'BE6282431327',\n",
        "'BE6282433349',\n",
        "'BE6288613068',\n",
        "'BE6264506526',\n",
        "'BE6264508548',\n",
        "'LU1860911087',\n",
        "'LU1860911913',\n",
        "'LU1860912721',\n",
        "'LU2075804901',\n",
        "'LU1860913703',\n",
        "'LU1857284985',\n",
        "'LU1857284985',\n",
        "'LU1857284985',\n",
        "'LU0465917044',\n",
        "'LU0119195963'\n",
        "]\n",
        "\n"
      ],
      "execution_count": 4,
      "outputs": []
    },
    {
      "cell_type": "code",
      "metadata": {
        "id": "og-t6m1_aIwh",
        "colab_type": "code",
        "colab": {}
      },
      "source": [
        "funds_df = investpy.get_funds(country=None)\n",
        "funds_dict = investpy.get_funds_dict(country=None)"
      ],
      "execution_count": 5,
      "outputs": []
    },
    {
      "cell_type": "code",
      "metadata": {
        "id": "tlqAOPV5SibH",
        "colab_type": "code",
        "colab": {}
      },
      "source": [
        "def search(isin, funds):\n",
        "    fund=[element for element in funds if element['isin'] == isin]\n",
        "    fund=fund[0]\n",
        "    return fund['name'],fund['country']"
      ],
      "execution_count": 6,
      "outputs": []
    },
    {
      "cell_type": "code",
      "metadata": {
        "id": "AlJrkmQITlBK",
        "colab_type": "code",
        "colab": {
          "base_uri": "https://localhost:8080/",
          "height": 565
        },
        "outputId": "ccdfe3b3-9dae-4dc6-f871-7c9fbfd13e57"
      },
      "source": [
        "fonds=[]\n",
        "for isin in funds_list:\n",
        "  try:\n",
        "    fund_name,fund_country=search(isin,funds_dict)\n",
        "    df = investpy.get_fund_historical_data(fund=fund_name, country=fund_country, from_date='01/01/2000', to_date='09/08/2020')\n",
        "    # Resample by week.\n",
        "    df=df.resample('M').mean()\n",
        "    # Calculate the ratio \n",
        "    df['Variation']=df['Close']/(df['Close'].shift(1))\n",
        "    mean_=df['Variation'].mean()\n",
        "    std_=df['Variation'].std()\n",
        "    fonds.append([isin,mean_,std_])\n",
        "    print(isin,' found')\n",
        "    df.Variation.plot()\n",
        "  except:\n",
        "    print(isin,' not found')\n",
        "fonds=pd.DataFrame(fonds,columns=['isin','mean','std'])"
      ],
      "execution_count": 99,
      "outputs": [
        {
          "output_type": "stream",
          "text": [
            "BE6247121302  found\n",
            "BE6282431327  not found\n",
            "BE6282433349  not found\n",
            "BE6288613068  not found\n",
            "BE6264506526  not found\n",
            "BE6264508548  not found\n",
            "LU1860911087  not found\n",
            "LU1860911913  not found\n",
            "LU1860912721  not found\n",
            "LU2075804901  not found\n",
            "LU1860913703  not found\n",
            "LU1857284985  not found\n",
            "LU1857284985  not found\n",
            "LU1857284985  not found\n",
            "LU0465917044  found\n",
            "LU0119195963  found\n"
          ],
          "name": "stdout"
        },
        {
          "output_type": "display_data",
          "data": {
            "image/png": "[encoded data removed]",
            "text/plain": [
              "<Figure size 432x288 with 1 Axes>"
            ]
          },
          "metadata": {
            "tags": [],
            "needs_background": "light"
          }
        }
      ]
    },
    {
      "cell_type": "code",
      "metadata": {
        "id": "UjlZr23vdPsr",
        "colab_type": "code",
        "colab": {
          "base_uri": "https://localhost:8080/",
          "height": 141
        },
        "outputId": "ea6ff964-c380-4fa0-b6f8-9408fcf74c4a"
      },
      "source": [
        "fonds"
      ],
      "execution_count": 100,
      "outputs": [
        {
          "output_type": "execute_result",
          "data": {
            "text/html": [
              "<div>\n",
              "<style scoped>\n",
              "    .dataframe tbody tr th:only-of-type {\n",
              "        vertical-align: middle;\n",
              "    }\n",
              "\n",
              "    .dataframe tbody tr th {\n",
              "        vertical-align: top;\n",
              "    }\n",
              "\n",
              "    .dataframe thead th {\n",
              "        text-align: right;\n",
              "    }\n",
              "</style>\n",
              "<table border=\"1\" class=\"dataframe\">\n",
              "  <thead>\n",
              "    <tr style=\"text-align: right;\">\n",
              "      <th></th>\n",
              "      <th>isin</th>\n",
              "      <th>mean</th>\n",
              "      <th>std</th>\n",
              "    </tr>\n",
              "  </thead>\n",
              "  <tbody>\n",
              "    <tr>\n",
              "      <th>0</th>\n",
              "      <td>BE6247121302</td>\n",
              "      <td>1.001865</td>\n",
              "      <td>0.025060</td>\n",
              "    </tr>\n",
              "    <tr>\n",
              "      <th>1</th>\n",
              "      <td>LU0465917044</td>\n",
              "      <td>1.001198</td>\n",
              "      <td>0.027710</td>\n",
              "    </tr>\n",
              "    <tr>\n",
              "      <th>2</th>\n",
              "      <td>LU0119195963</td>\n",
              "      <td>1.003983</td>\n",
              "      <td>0.024979</td>\n",
              "    </tr>\n",
              "  </tbody>\n",
              "</table>\n",
              "</div>"
            ],
            "text/plain": [
              "           isin      mean       std\n",
              "0  BE6247121302  1.001865  0.025060\n",
              "1  LU0465917044  1.001198  0.027710\n",
              "2  LU0119195963  1.003983  0.024979"
            ]
          },
          "metadata": {
            "tags": []
          },
          "execution_count": 100
        }
      ]
    },
    {
      "cell_type": "code",
      "metadata": {
        "colab_type": "code",
        "id": "n8oDwaBbI1HZ",
        "colab": {}
      },
      "source": [
        "# BE6247121302 ING CP CFB C\n",
        "#   0P0000XZ4E Historical Data.csv\n",
        "#   Mean return:  1.0266246831647217\n",
        "#   Return Deviation 0.05830390458402494\n",
        "# LU0119195963 NN L Pat Bal PC\n",
        "#   0P00000BFP Historische Data.csv\n",
        "#   Mean return:  1.0386802046259886\n",
        "#   Return Deviation 0.05287636012575688"
      ],
      "execution_count": 101,
      "outputs": []
    },
    {
      "cell_type": "code",
      "metadata": {
        "colab_type": "code",
        "id": "Bx15NAzFJhZb",
        "colab": {}
      },
      "source": [
        "def generate_interest(interest,variation, month):\n",
        "  x=np.random.normal(interest, variation,month)\n",
        "  return np.cumprod(x)"
      ],
      "execution_count": 102,
      "outputs": []
    },
    {
      "cell_type": "code",
      "metadata": {
        "colab_type": "code",
        "id": "le3t4KJWsJV9",
        "colab": {}
      },
      "source": [
        "Cash=10000\n",
        "interet=fonds['mean']\n",
        "variation_interet_par_mois=fonds['std']"
      ],
      "execution_count": 103,
      "outputs": []
    },
    {
      "cell_type": "code",
      "metadata": {
        "colab_type": "code",
        "id": "We5zkttdvKoH",
        "colab": {}
      },
      "source": [
        "# What is best combination of portfolio which will minimize risk and maximize profit\n",
        "experiments=1000\n",
        "a=np.random.random(experiments)\n",
        "b=np.random.random(experiments)\n",
        "c=np.random.random(experiments)\n",
        "d=a+b+c\n",
        "a=a/d*Cash*0.97 #3% de frais d'entrée...\n",
        "b=b/d*Cash*0.97 #3% de frais d'entrée...\n",
        "c=c/d*Cash*0.97 #3% de frais d'entrée..."
      ],
      "execution_count": 138,
      "outputs": []
    },
    {
      "cell_type": "code",
      "metadata": {
        "id": "RRdvWs9pzUS8",
        "colab_type": "code",
        "colab": {
          "base_uri": "https://localhost:8080/",
          "height": 34
        },
        "outputId": "65409a07-6fba-4a9e-c830-d449ee2d8ce4"
      },
      "source": [
        "evaluation_period"
      ],
      "execution_count": 139,
      "outputs": [
        {
          "output_type": "execute_result",
          "data": {
            "text/plain": [
              "240"
            ]
          },
          "metadata": {
            "tags": []
          },
          "execution_count": 139
        }
      ]
    },
    {
      "cell_type": "code",
      "metadata": {
        "id": "L572unoS3Y7l",
        "colab_type": "code",
        "colab": {}
      },
      "source": [
        ""
      ],
      "execution_count": 139,
      "outputs": []
    },
    {
      "cell_type": "code",
      "metadata": {
        "colab_type": "code",
        "id": "UqHSVPr-GxRK",
        "colab": {}
      },
      "source": [
        "N=experiments\n",
        "evaluation_period=120*2\n",
        "# if sampling is W, then evaluation_period=10*52=520\n",
        "# is samplinf is M, then evaluation_period=10*12=120\n",
        "# if sampling is 2W, then evaluation_period=10*52/2=260\n",
        "z=[]\n",
        "for C1,C2,C3 in zip(a,b,c):\n",
        "  perc=[]\n",
        "  for j in range(0,N):\n",
        "    trace_a=np.multiply(C1,generate_interest(interet[0],variation_interet_par_mois[0],evaluation_period))\n",
        "    trace_b=np.multiply(C2,generate_interest(interet[1],variation_interet_par_mois[1],evaluation_period))\n",
        "    trace_c=np.multiply(C3,generate_interest(interet[2],variation_interet_par_mois[2],evaluation_period))\n",
        "    total=trace_a+trace_b+trace_c\n",
        "    plt.plot(total, color='blue',alpha=0.01)\n",
        "    perc.append(total[-1])\n",
        "  z.append([C1,C2,C3,np.percentile(perc,50),np.percentile(perc,10),np.percentile(perc,90)])\n",
        "plt.show()"
      ],
      "execution_count": null,
      "outputs": []
    },
    {
      "cell_type": "code",
      "metadata": {
        "id": "lSYeP9mpojmj",
        "colab_type": "code",
        "colab": {}
      },
      "source": [
        ""
      ],
      "execution_count": null,
      "outputs": []
    },
    {
      "cell_type": "code",
      "metadata": {
        "colab_type": "code",
        "id": "hbfBnzdhvwoA",
        "colab": {}
      },
      "source": [
        "# Which is a and b which gives the highest min value for confidence interval?\n",
        "df=pd.DataFrame(z,columns=['a','b','c','median','low','high'])"
      ],
      "execution_count": null,
      "outputs": []
    },
    {
      "cell_type": "code",
      "metadata": {
        "colab_type": "code",
        "id": "9cx4SlZnHHxm",
        "colab": {}
      },
      "source": [
        "plt.scatter(df['a'],df['median'],color=\"red\",alpha=0.5)\n",
        "plt.fill_between(df['a'],df['low'],df['high'],color=\"blue\",alpha=0.1)"
      ],
      "execution_count": null,
      "outputs": []
    },
    {
      "cell_type": "code",
      "metadata": {
        "colab_type": "code",
        "id": "IwxdXJ6OHH7t",
        "colab": {}
      },
      "source": [
        "px.scatter(df,x='low',y='high',color=\"high\",hover_data=[\"a\", \"b\",\"c\"])"
      ],
      "execution_count": null,
      "outputs": []
    },
    {
      "cell_type": "code",
      "metadata": {
        "colab_type": "code",
        "id": "PcMt4VAP-7GC",
        "colab": {}
      },
      "source": [
        "df['sum all']=(df['median']+df['low']+df['high'])/3\n",
        "#df['sum all2']=(df['median']**2+df['low']**2+df['high']**2)\n",
        "best=np.argmax(df['sum all'])\n",
        "print(df.iloc[best])\n"
      ],
      "execution_count": null,
      "outputs": []
    },
    {
      "cell_type": "code",
      "metadata": {
        "id": "uMuP_bWB3IYn",
        "colab_type": "code",
        "colab": {}
      },
      "source": [
        "median=df.iloc[best][['high','median','low']]\n",
        "frais=median*0.0175*10 # frais de gestion de 1.75% par an\n",
        "inflation=1.02**10 #2% inflation par an \n"
      ],
      "execution_count": null,
      "outputs": []
    },
    {
      "cell_type": "code",
      "metadata": {
        "id": "n33m4a5T3YHF",
        "colab_type": "code",
        "colab": {}
      },
      "source": [
        "benef=(median-Cash/inflation-frais)*0.7 # Retirer 30% de frais sur la plus value\n",
        "print(\"Benef=\")\n",
        "print(benef)"
      ],
      "execution_count": null,
      "outputs": []
    },
    {
      "cell_type": "code",
      "metadata": {
        "id": "em4rvQW5675R",
        "colab_type": "code",
        "colab": {}
      },
      "source": [
        "print(benef/Cash)"
      ],
      "execution_count": null,
      "outputs": []
    },
    {
      "cell_type": "code",
      "metadata": {
        "colab_type": "code",
        "id": "wQpSTrxI3QgK",
        "colab": {
          "base_uri": "https://localhost:8080/",
          "height": 542
        },
        "outputId": "a7e866e2-0042-4161-e8fb-093f1a071063"
      },
      "source": [
        "px.scatter_3d(df,x='low',y='median',z=\"high\",color=\"a\",hover_data=[\"a\", \"b\",\"c\",\"sum all\"])"
      ],
      "execution_count": 92,
      "outputs": [
        {
          "output_type": "display_data",
          "data": {
            "text/html": [
              "<html>\n",
              "<head><meta charset=\"utf-8\" /></head>\n",
              "<body>\n",
              "    <div>\n",
              "            <script src=\"https://cdnjs.cloudflare.com/ajax/libs/mathjax/2.7.5/MathJax.js?config=TeX-AMS-MML_SVG\"></script><script type=\"text/javascript\">if (window.MathJax) {MathJax.Hub.Config({SVG: {font: \"STIX-Web\"}});}</script>\n",
              "                <script type=\"text/javascript\">window.PlotlyConfig = {MathJaxConfig: 'local'};</script>\n",
              "        <script src=\"https://cdn.plot.ly/plotly-latest.min.js\"></script>    \n",
              "            <div id=\"1b4d0387-877b-4c4c-b066-fe8994062823\" class=\"plotly-graph-div\" style=\"height:525px; width:100%;\"></div>\n",
              "            <script type=\"text/javascript\">\n",
              "                \n",
              "                    window.PLOTLYENV=window.PLOTLYENV || {};\n",
              "                    \n",
              "                if (document.getElementById(\"1b4d0387-877b-4c4c-b066-fe8994062823\")) {\n",
              "                    Plotly.newPlot(\n",
              "                        '1b4d0387-877b-4c4c-b066-fe8994062823',\n",
              "                        [{\"customdata\": [[3477.886343037862, 3978.7890924577528, 2243.324564504384, 12461.361740519902], [7148.71799336219, 51.9337946215296, 2499.3482120162803, 12802.368493213778], [2042.1963031362534, 4806.417913940551, 2851.3857829231943, 12531.272337233435], [1678.5349233894121, 4598.494851246734, 3422.970225363854, 12570.147516845589], [2738.2889521297293, 2739.463566929924, 4222.247480940347, 13303.044866798266], [4312.312404373453, 331.09647134762974, 5056.591124278916, 13877.43074386804], [2009.6705476853947, 3390.451278622222, 4299.878173692382, 13231.874903504475], [4096.308888462663, 2854.7684734948043, 2748.9226380425325, 12704.989052355886], [824.6510950957379, 5292.328204666471, 3583.0207002377906, 12965.854118171648], [2199.652802486345, 3982.949986334015, 3517.3972111796397, 13033.57166568715], [2299.8257563480365, 5815.886290956368, 1584.2879526955953, 11939.29404492599], [4781.078261117166, 2733.053578729002, 2185.8681601538324, 12394.009432622852], [2931.616793384615, 91.09463347313283, 6677.288573142251, 14888.812743824163], [3880.332448912355, 54.5799314642157, 5765.087619623428, 14302.541179575186], [1970.8641154953534, 943.7160672293061, 6785.419817275341, 14232.499377615017], [2817.836866682107, 3505.607166452529, 3376.5559668653646, 12811.628265871952], [2603.2116166982714, 7088.829994276542, 7.958389025186909, 11318.610011636396], [4286.619781242964, 2667.44229336945, 2745.937925387586, 12547.688792544877], [4498.556472681693, 4032.4761587739245, 1168.9673685443815, 11842.763600474049], [3915.197686963079, 2748.966326302124, 3035.8359867347967, 12852.646929230114], [3991.555070115534, 2063.2960672560816, 3645.1488626283844, 13140.200217775278], [3086.8957497574647, 5311.391348652188, 1301.7129015903454, 12016.141549392114], [2224.4979881978998, 3941.6383956241007, 3533.863616177999, 12857.637630710211], [6254.717517616252, 2936.454446145553, 508.828036238195, 11837.59815807482], [5333.215752842554, 1876.565349988312, 2490.218897169135, 12816.628803889544], [1211.9115963473664, 741.5174334192241, 7746.570970233409, 14492.394813886529], [2266.429295802444, 3112.6330417500917, 4320.937662447464, 13276.731783475387], [4129.4726126827945, 238.73034131502556, 5331.79704600218, 14047.061800704934], [4722.715806577146, 820.2684832921686, 4157.015710130685, 13391.37691635624], [3498.4331131977906, 2522.759521343169, 3678.807365459041, 12813.203852518856], [5809.377815831286, 1835.5176316110205, 2055.1045525576938, 12509.645734828378], [2809.362214980268, 3131.777047139791, 3758.86073787994, 13300.67842445267], [3525.4455396251096, 3690.514832905123, 2484.039627469767, 12615.717488458837], [4717.772826457589, 2273.167925310132, 2709.059248232279, 12750.572507236311], [2976.5531343460307, 2922.4004050680014, 3801.046460585967, 13078.24554070338], [2175.345304798691, 3624.3008264640375, 3900.353868737272, 13118.763857287175], [3833.8888674859304, 1775.7205862719056, 4090.390546242164, 13444.430270836156], [3038.4150810894002, 3366.35422920868, 3295.230689701921, 12934.754837918126], [6157.335127200213, 2488.052054977364, 1054.612817822421, 12149.718913793506], [4914.104346784948, 1481.1625636582069, 3304.7330895568452, 12982.837903894813], [7361.32989510712, 1545.4570280398402, 793.2130768530394, 11953.23516171684], [1260.9092083597366, 499.3063768444007, 7939.784414795862, 14855.959902821458], [222.5421703030851, 4432.712079938996, 5044.745749757919, 13724.449603371986], [2276.5372888791367, 2459.100674023584, 4964.362037097279, 13556.495061293632], [3209.116046906197, 3920.0669491160193, 2570.817003977784, 12596.010065967917], [3337.520034545078, 3276.101507448561, 3086.3784580063607, 12853.325496857811], [4146.020532473088, 4466.117253816556, 1087.8622137103548, 11807.47694193775], [6961.335035299175, 320.4494229010168, 2418.215541799808, 12576.115052313084], [1788.1006224543646, 888.5548439389812, 7023.344533606654, 14642.899046605322], [2529.402411844262, 3174.0385857435244, 3996.559002412213, 13304.101994393668], [2568.899016960195, 3951.149871198032, 3179.9511118417727, 12928.980606414638], [512.0760467001277, 4338.871818351453, 4849.052134948419, 13692.310374256056], [4518.442535626961, 131.31127660259654, 5050.246187770442, 14119.110493442511], [4123.879564720616, 161.34970357583168, 5414.770731703552, 14184.570117666832], [3158.6030584048394, 3945.1180719598497, 2596.278869635311, 12598.770548248123], [1947.5769753885259, 4332.821022558258, 3419.602002053217, 12893.011269758483], [2855.745713260978, 2925.4396449390406, 3918.81464179998, 13105.471746531251], [2048.3875612573943, 3760.0920039992857, 3891.520434743319, 13034.368587425144], [1731.1957463502406, 3493.8538995868466, 4474.950354062911, 13543.878260345786], [2480.3505898106337, 3370.044710432115, 3849.6046997572516, 13010.179502880332], [4562.176687952268, 4569.671560268063, 568.1517517796684, 11794.47082233802], [195.36892912075743, 5296.0379504266275, 4208.593120452615, 13217.204839222046], [4732.2823668208175, 2663.8414457751433, 2303.8761874040392, 12797.040257730827], [4215.1597074042365, 4144.588540894592, 1340.2517517011713, 12129.639715796853], [318.7322673044091, 5538.813963251403, 3842.453769444188, 12875.042689922755], [3161.49090617092, 6480.642309017797, 57.86678481128354, 11425.781322819981], [2381.9601172939056, 3611.5146364799166, 3706.5252462261783, 13281.872104310407], [2332.9130954960515, 4968.890918704699, 2398.1959857992492, 12332.066063530141], [2117.7355370238206, 3520.30216504938, 4061.9622979267997, 13225.250763216289], [3399.8655894575386, 4927.344737131251, 1372.78967341121, 12067.666460585917], [3638.495903744837, 3814.0712732210513, 2247.4328230341107, 12559.565173055025], [2426.6661096317557, 3790.6681582032656, 3482.665732164978, 13024.702521700798], [414.4840706764559, 4644.272339786975, 4641.243589536569, 13286.555161892713], [4463.975455753723, 1153.9573647134648, 4082.0671795328135, 13360.997791912], [2030.5272921436283, 4423.701526802211, 3245.771181054159, 12807.51417644952], [2870.912006556627, 6457.686761848406, 371.4012315949664, 11405.980438349341], [4092.1240100141013, 4435.1744937111625, 1172.701496274736, 11934.42962530529], [4987.42141694789, 2405.3213621305663, 2307.257220921543, 12473.287158290119], [3735.121482303464, 3219.8700960775805, 2745.0084216189566, 12767.614400754908], [1063.7074020162588, 7084.711938501075, 1551.580659482666, 11723.42300606867], [6111.09277862942, 239.5037033228387, 3349.4035180477417, 13375.711492111928], [2708.825814543218, 6283.143436491341, 708.0307489654396, 11649.389240518678], [4335.869446769959, 5081.1201869314455, 283.01036629859436, 11582.638861731435], [677.5395584823997, 6412.961972600814, 2609.4984689167873, 12110.435897138284], [2394.3149378192893, 1637.1738216285166, 5668.511240552193, 14015.847723040715], [6058.337189962897, 3327.2491965265253, 314.41361351057583, 11920.98668101865], [109.87543400283622, 8060.341819667993, 1529.7827463291703, 11692.55660465751], [3051.5112779633173, 4601.822496772761, 2046.6662252639208, 12408.835209762163], [5436.289754740487, 484.4767215905136, 3779.233523668999, 13320.45050458742], [2273.9828708549526, 1992.2063137050798, 5433.810815439968, 13795.263509864593], [1580.5522873264974, 5766.195069960488, 2353.252642713015, 12349.063685747353], [727.1006111320473, 4176.979239532246, 4795.920149335706, 13019.503505183266], [1405.6025035445257, 3419.673883830314, 4874.72361262516, 13555.089948372137], [3382.2780440830347, 5255.420148393791, 1062.3018075231732, 11844.286007856886], [3750.0616040319496, 5252.793627433217, 697.1447685348311, 11786.237045099531], [1970.1241427286254, 3280.2194068235253, 4449.656450447848, 13399.914861595194], [346.2925392747363, 3051.9195758167834, 6301.78788490848, 13843.490649969724], [5356.852933613521, 3195.4115729574182, 1147.7354934290613, 12036.181299031376], [5070.510257610159, 3927.78160339279, 701.7081389970504, 11972.717643329888], [7852.145348804252, 34.49678846343956, 1813.3578627323081, 12524.085534225467], [815.2196655857795, 3815.9932144426793, 5068.787119971542, 13590.323822876404], [1738.7540179383184, 5773.198045036196, 2188.0479370254843, 12107.102363495542], [6295.774579936817, 438.2541210651453, 2965.9712989980385, 13131.097278862415], [2537.405218167676, 2093.128865994026, 5069.465915838297, 13748.575174360987], [3585.689558171733, 2467.561533480618, 3646.7489083476494, 13271.883228311315], [905.6317561142121, 5435.633874808188, 3358.7343690775997, 12670.508926426586], [3076.220464774654, 3371.2021220785005, 3252.5774131468456, 12959.568852113583], [5459.100496124497, 645.2489983607369, 3595.6505055147654, 13288.285392353297], [1376.5271140105995, 3695.8574182620378, 4627.615467727362, 13409.475144777776], [2767.4373740569886, 3604.0949505281014, 3328.4676754149104, 13017.797473615969], [80.45529586601639, 4125.332859971393, 5494.211844162591, 13571.699227813586], [7298.753146133871, 1712.7648796363367, 688.4819742297922, 11986.396746583216], [105.42414164073614, 5079.922834709334, 4514.6530236499275, 13242.394070218774], [5903.438076701586, 2314.4439688468037, 1482.1179544516099, 12467.662250749723], [1879.6043686958556, 4648.940757331139, 3171.454873973005, 12694.905162596455], [3153.5380969469124, 339.33989046477467, 6207.122012588314, 14419.717543184466], [2516.843614540979, 1420.1948582655036, 5762.961527193516, 14161.134677761387], [6003.434043330654, 121.8841358384209, 3574.6818208309237, 13682.029392504259], [3164.8386201349203, 4507.723265032653, 2027.4381148324264, 12063.577146337173], [3096.7817148842437, 4194.628863008447, 2408.5894221073086, 12688.376011476137], [1939.264849103399, 4031.3223372721227, 3729.412813624478, 12995.37614859645], [5517.127408842849, 668.9426173087315, 3513.9299738484187, 12997.578326912442], [2583.339385956689, 5757.190866226431, 1359.46974781688, 11905.397298287367], [5024.481580960709, 3645.4652251191355, 1030.0531939201555, 11960.700391416833], [3361.5416251377146, 2093.148175296197, 4245.310199566087, 13521.432873975617], [2386.8888008954914, 4598.6428256637555, 2714.468373440753, 12522.059382363885], [4191.792118636943, 3610.1189202790847, 1898.088961083972, 12332.21691108313], [3758.0719092029817, 1884.446491988548, 4057.4815988084697, 13332.646332181735], [6043.076348397974, 3285.7360738106695, 371.18757779135643, 11590.268789275166], [4201.581299428385, 2715.470217692558, 2782.9484828790564, 12882.818185722552], [5295.209526272047, 1757.4713395997678, 2647.319134128186, 12944.06515439882], [3329.3037942214664, 2232.7252787456237, 4137.9709270329095, 13129.47935948438], [4345.421632054021, 1854.3231666780387, 3500.2552012679394, 13018.438862616138], [4676.222893023845, 853.5169617215718, 4170.260145254583, 13419.650061732922], [4409.130179145596, 2850.035336023295, 2440.8344848311085, 12554.327263952253], [2575.4140347881075, 3039.135756433672, 4085.4502087782216, 13064.118246070992], [3339.2772615646027, 2440.4213518012316, 3920.301386634165, 13149.420389870329], [309.67988635865623, 2884.9995088029937, 6505.320604838349, 13997.685083341998], [6220.290459173967, 841.0428519284429, 2638.666688897591, 12899.902652647737], [3514.410297659347, 5647.697500053862, 537.8922022867913, 11544.938338249643], [5848.677502531713, 531.7909730965764, 3319.5315243717105, 13475.793405470264], [5918.74957487592, 264.677262433068, 3516.5731626910124, 13453.689799005408], [1199.5894138483054, 3850.8846749963004, 4649.525911155393, 13456.233365411133], [6724.249961945209, 94.68210434998504, 2881.0679337048055, 13161.412894157873], [4754.9795521087935, 3979.590358013735, 965.4300898774704, 11699.814058035374], [5816.944014980482, 3038.6138582945064, 844.4421267250111, 11913.883989465778], [2528.087361272048, 4817.898908493272, 2354.01373023468, 12555.508667127251], [3652.034279289404, 2777.753858426455, 3270.2118622841426, 12804.895199945817], [3117.9552631360525, 1476.3506689571332, 5105.694067906814, 13791.397137722552], [5029.341048769618, 818.275037178843, 3852.3839140515397, 13332.160263644399], [3936.273646180505, 3407.396382336914, 2356.3299714825807, 12570.150770892084], [361.9222646446435, 5491.914552467301, 3846.1631828880545, 12940.532373743505], [5313.100407037854, 40.85891194995462, 4346.040681012192, 13752.035211291644], [3787.447395825807, 5192.058512820632, 720.494091353561, 11718.338096785548], [3444.369704418411, 4258.601905762304, 1997.0283898192833, 12340.527074846019], [4322.462424514389, 2491.0334246077, 2886.5041508779104, 12727.303169540859], [3426.232560760856, 491.4939369322419, 5782.273502306903, 14362.893282418852], [2164.606776016506, 4292.509803132777, 3242.8834208507155, 12876.14303006487], [2865.559541914136, 2229.2397358836456, 4605.2007222022185, 13589.69871774281], [4933.340739684353, 403.69514328482245, 4362.964117030825, 13712.138782793807], [9050.014114837757, 331.66017244016393, 318.3257127220784, 12241.141827702848], [878.1455546351909, 4345.396252780259, 4476.45819258455, 13545.553556653094], [1464.8019053430633, 1466.947705942334, 6768.250388714602, 14364.868906962984], [2035.5947699592725, 7187.5991398806, 476.80609016012795, 11413.308827707167], [4024.7626798181313, 3787.7609850262925, 1887.476335155576, 12341.18146533282], [3511.454818988033, 2130.459170688961, 4058.086010323005, 13247.442729938068], [871.4987484128193, 6008.647041118711, 2819.854210468469, 12494.012393958068], [1504.9493686992469, 4582.561860038824, 3612.488771261929, 12861.499005575957], [3677.028664053439, 5286.078226853991, 736.8931090925695, 11589.164751066935], [517.0047500042341, 4896.089384073462, 4286.905865922306, 13292.413504779528], [2703.95320605576, 4944.748629139375, 2051.298164804864, 12245.295960775531], [3426.9456594887647, 3847.721310508912, 2425.3330300023226, 12616.374101006346], [2241.7582900133166, 3008.2645778871106, 4449.977132099572, 13244.184679963926], [3493.382534695417, 3974.5044611958224, 2232.113004108761, 12274.734272782962], [4107.059715918825, 2865.8133927356093, 2727.126891345567, 12782.077372978709], [1423.3884379559556, 2882.8967070920094, 5393.714854952033, 13838.990887177482], [2483.100736034882, 6829.3738666886065, 387.5253972765103, 11458.48357892253], [2462.6016757473762, 416.3382984739784, 6821.060025778645, 14519.531953764219], [1668.9570839098053, 5175.832370366191, 2855.2105457240036, 12680.671386433707], [1583.3519632919574, 6005.1232855027865, 2111.5247512052547, 12107.96618769262], [1516.0768816504503, 2405.7004118863388, 5778.22270646321, 13894.012870737846], [2274.0576029977306, 4929.6830333702455, 2496.2593636320225, 12420.262320255666], [4506.692922521117, 342.705142530098, 4850.601934948784, 13722.841461414564], [6728.286509314347, 2473.7893369989597, 497.92415368669407, 11934.782561988044], [2137.2956606768466, 5010.397254416459, 2552.3070849066944, 12321.272812274829], [3074.4948007950575, 3834.044525801987, 2791.4606734029558, 12810.750717123263], [4790.316869956852, 4654.905056951286, 254.77807309186204, 11531.497417242783], [4048.6881134880573, 5229.946440685875, 421.3654458260673, 11750.259501492876], [3278.307215518226, 3358.9374592263775, 3062.7553252553967, 12991.330515452995], [884.9678005482687, 8544.091598880994, 270.94060057073557, 11387.43277812933], [1515.1728459903923, 4946.329119241248, 3238.498034768358, 12708.970722029937], [3610.3090570284453, 2154.5216133074528, 3935.169329664101, 13166.957760164036], [3438.1527227477904, 3428.747353206417, 2833.0999240457913, 12927.468920443913], [89.50255857422613, 5037.422393088354, 4573.07504833742, 13478.006500669253], [1008.682738355229, 3071.66384964923, 5619.653411995541, 14050.477416917574], [1221.6544797218266, 3659.9539264598093, 4818.391593818365, 13538.586932702392], [2402.7623685039625, 6992.353725487165, 304.8839060088725, 11473.157896482555], [3171.064734144576, 2157.5924474487624, 4371.3428184066615, 13512.55935362461], [5359.033304423619, 1306.2316862753955, 3034.7350093009873, 12782.862853132669], [2727.3082664088433, 2698.786891787715, 4273.904841803441, 13261.180761389473], [3749.508135067574, 3785.612229960131, 2164.879634972296, 12357.612406696428], [3472.656517466654, 2820.9959498931403, 3406.3475326402054, 12877.384322417167], [2814.8855723657803, 1994.5977377057247, 4890.516689928494, 13461.873787119175], [2935.462901942888, 4686.73257186637, 2077.804526190742, 12330.591382519322], [4432.388590098375, 4725.508686360063, 542.1027235415609, 11886.41160441043], [118.79381675075572, 3874.0971088702036, 5707.10907437904, 13893.651846435316], [5261.348879810234, 3517.275446855061, 921.3756733347044, 11941.329800067344], [1817.8038204640388, 4754.414461867636, 3127.7817176683247, 12831.00735126955], [5482.894712629144, 993.3113101688645, 3223.79397720199, 13002.684424131743], [4448.252813093209, 4369.430807944762, 882.3163789620289, 11845.531176061866], [845.8944306045055, 7462.18495922838, 1391.9206101671155, 11717.138715394243], [3012.5746311136413, 4077.6352569424184, 2609.7901119439407, 12722.822542431824], [5087.32079500364, 3778.213480062438, 834.465724933921, 11915.041604025095], [3912.126799877854, 941.0186724640139, 4846.854527658133, 13518.080625748384], [244.40583861223115, 5140.997954174829, 4314.59620721294, 13178.077125230919], [3896.381966676931, 3961.0277802131086, 1842.5902531099605, 12137.304231793847], [4484.105396645908, 3179.1687084825367, 2036.725894871555, 12425.160757879052], [5106.457862285332, 3169.8716235878496, 1423.6705141268183, 12126.740582453518], [5427.2138530245775, 2626.0769354779477, 1646.7092114974757, 12314.84814979974], [287.5814329843657, 3871.881418065723, 5540.53714894991, 13851.12761996185], [35.0792018555359, 4104.488847987077, 5560.431950157386, 13637.577004067478], [3063.434386395542, 3244.2054631191722, 3392.360150485287, 12874.446495079677], [3562.8973263208995, 2798.2543464992978, 3338.8483271798027, 12877.853963062706], [1965.1012769175272, 4078.3276628107483, 3656.5710602717245, 12826.838305456817], [3388.140068340624, 6184.054881910796, 127.80504974857945, 11422.973265660738], [5153.296931509899, 1011.6094854923846, 3535.093582997718, 13215.885296315362], [1286.976072716145, 2455.1910904339625, 5957.832836849893, 14102.736301099323], [1945.152793164314, 3731.1486447795332, 4023.698562056152, 13139.205734771233], [5460.535460082304, 766.4221906383162, 3473.0423492793793, 13204.386002502657], [1478.6591054703456, 5826.295959304259, 2395.044935225395, 12234.799395858268], [2991.595438528175, 655.739937519984, 6052.66462395184, 14003.684552480545], [6123.344790992119, 461.7249309721177, 3114.930278035763, 12918.252067829466], [5956.955509648462, 1226.6512388764543, 2516.3932514750827, 12801.49856499045], [4642.478509604546, 4656.810958835414, 400.7105315600405, 11458.526911487084], [2081.7952890047736, 4380.313192223483, 3237.8915187717434, 12761.24728004615], [5555.566811716052, 1669.6655830555933, 2474.7676052283537, 12715.34678993495], [3188.382290248926, 2797.2135626470626, 3714.404147104012, 12983.412041837211], [4639.856620109967, 3519.4734628813976, 1540.6699170086358, 12253.580790446656], [130.12640489759866, 4823.990587258473, 4745.883007843927, 13263.837952831731], [1850.3849084796984, 607.45761672139, 7242.157474798911, 14603.338581630851], [620.3572592167078, 3513.548287034024, 5566.094453749269, 13880.050602326091], [615.0567126491345, 766.4659215218171, 8318.477365829049, 15233.867358734622], [6576.4494587907575, 1899.4649854751506, 1224.0855557340922, 11940.271861484309], [299.0481719082238, 6766.258051422016, 2634.6937766697597, 12372.402175514771], [590.2119078824326, 5238.295070343678, 3871.4930217738884, 13024.347860974005], [3546.769956299186, 3218.602201478834, 2934.627842221979, 12718.717187684582], [2299.9157176393874, 5437.332256421708, 1962.7520259389055, 12182.851572798441], [3760.6871218781625, 2996.8485809181952, 2942.4642972036427, 13018.57845279651], [6178.573344989275, 3406.609955553805, 114.81669945692035, 11724.689644057353], [2999.081650845155, 2698.9755183404664, 4001.942830814378, 13054.410791666603], [6880.73839103162, 1994.4416385451045, 824.8199704232755, 12020.888659886032], [5143.212950778805, 1305.6864667930881, 3251.100582428108, 12974.139539077587], [7412.603065311996, 379.54418840839634, 1907.852746279607, 12491.384713927968], [752.1437029013248, 1135.282235553921, 7812.574061544754, 14768.58739805228], [4240.493500597193, 2730.7692444119275, 2728.737254990878, 12863.743781767183], [6345.070238055195, 2562.7603146710903, 792.1694472737146, 11796.595867595985], [4106.9356167681035, 1877.8668118180572, 3715.1975714138384, 13267.395251795277], [2772.7403222219514, 5151.404767607258, 1775.8549101707897, 12238.100097337432], [1321.8514060584682, 3672.75151821528, 4705.397075726251, 13481.967597013456], [1318.9165315472003, 5388.418586547491, 2992.6648819053084, 12664.814561163696], [7620.256268697036, 1108.9699260014893, 970.7738053014742, 12148.1279549576], [2234.635702327474, 4381.270880945877, 3084.093416726648, 12562.353301560497], [5225.973066328321, 2706.695534142374, 1767.3313995293054, 12501.728985652118], [3258.4594596653333, 2922.811567888547, 3518.7289724461184, 13203.388116887165], [4937.316067920529, 2897.6929306554325, 1864.991001424037, 12585.297291987159], [2840.0091142577094, 4548.962942565391, 2311.0279431769, 12401.155568855369], [6474.523320584838, 644.1126919970637, 2581.3639874180985, 13107.012279302457], [4030.4613143053284, 2776.542096186495, 2892.9965895081764, 12837.547241350456], [7532.187688159013, 786.4770852465546, 1381.3352265944318, 12457.097204281143], [2657.1246400306395, 4383.215592153986, 2659.6597678153744, 12677.2258506196], [588.8695440212239, 7297.525844914732, 1813.6046110640434, 12172.232926546001], [69.75041108231561, 9303.56502768706, 326.6845612306243, 11180.727106959559], [1712.5284148356925, 2525.5993415374983, 5461.87224362681, 13923.250741064605], [1233.720751230976, 3969.1794877019747, 4497.09976106705, 13358.391682971114], [2726.23112899016, 6291.777503482519, 681.9913675273198, 11580.898291181895], [6196.963420236518, 1950.7663976050078, 1552.2701821584749, 12364.155320655396], [4498.19128526447, 3354.819071638916, 1846.9896430966132, 12375.378922950416], [3056.098718573709, 4198.080971319354, 2445.8203101069366, 12435.370527843474], [408.0863318473068, 5712.794930068078, 3579.118738084614, 12673.735185969645], [1059.7404157249039, 4031.212352518705, 4609.04723175639, 13376.300491588021], [2533.861000910048, 4351.871380415946, 2814.267618674006, 12411.258860132933], [8551.153213423486, 210.80219518727387, 938.0445913892412, 12399.66108001142], [685.8989169789887, 3744.4258272151487, 5269.675255805862, 13767.142356849674], [2994.153924140068, 2699.1129276072834, 4006.7331482526483, 13330.196855718983], [2695.249894852404, 4729.977171488302, 2274.772933659293, 12384.223519395795], [2506.1851029847658, 2949.9589207902764, 4243.855976224957, 13272.998789709896], [4442.290027161543, 1319.345543802117, 3938.364429036342, 13473.950885104045], [1167.7393531216621, 5247.380304951049, 3284.8803419272886, 12583.410267277939], [2315.42532097787, 2670.7906646539773, 4713.784014368153, 13715.61087899314], [4044.769634440907, 3197.732990114048, 2457.4973754450443, 12503.073567954101], [1807.334549379886, 5036.079005380237, 2856.5864452398764, 12815.64655625067], [2062.93089852246, 3229.3226959120525, 4407.746405565487, 13136.595954731718], [894.493037310695, 3089.622214446705, 5715.8847482426, 14007.42644932172], [2539.740696252819, 3884.3694574626056, 3275.8898462845746, 12811.307516422], [2316.575328559603, 3853.931421402176, 3529.493250038221, 12972.258415456841], [4408.5490439081605, 3768.551772252992, 1522.899183838846, 12159.345506939579], [2666.603408504966, 6220.02279675038, 813.373794744654, 11833.65370485835], [2380.0169555703737, 6293.8978626779135, 1026.0851817517134, 11763.537060664612], [2497.7007842884937, 5544.702313200547, 1657.5969025109612, 11997.453887164078], [37.55547593916301, 4152.340449016367, 5510.104075044471, 13703.383324036973], [1268.3474185180125, 4068.086063143708, 4363.566518338279, 13178.014670885394], [2217.8519089458937, 6264.850466930341, 1217.2976241237652, 11601.936819190416], [691.5235002899875, 2144.062243776428, 6864.414255933584, 14200.136287338768], [2347.313570911641, 4823.164395692406, 2529.522033395952, 12362.940566808596], [3704.955786558348, 2173.5970629670855, 3821.447150474567, 13068.423394868223], [3623.565276563804, 4556.563077711363, 1519.8716457248324, 12155.361824377707], [1410.945020850777, 6476.92310043441, 1812.1318787148136, 12143.681763355582], [1182.44895735478, 6710.842980477206, 1806.708062168014, 12089.378744131789], [1972.263802193815, 1795.0715215573991, 5932.664676248785, 14083.359151416646], [3343.2987678651652, 5660.26661320533, 696.434618929504, 11606.5374370044], [4816.338003529133, 2176.21165646835, 2707.4503400025164, 12864.583692003027], [7992.200524082569, 129.42751640808078, 1578.3719595093505, 12464.262381298504], [2722.786822968891, 912.3140797606324, 6064.899097270476, 13946.89407465563], [7425.408153229776, 557.0375820693752, 1717.5542647008485, 12572.457136656229], [2473.441731795539, 1772.5531422558297, 5454.005125948632, 13835.894071363597], [4892.309137795902, 2465.609591406362, 2342.081270797738, 12606.17298730156], [1655.7034143116239, 5256.490137393159, 2787.8064482952173, 12649.858735562882], [4293.148110895553, 1675.9269301111503, 3730.924958993298, 13328.94793040379], [4029.7930382462064, 1674.7394244809848, 3995.467537272808, 13473.914150904966], [5105.168530618469, 1995.4626679794774, 2599.368801402052, 12835.869501573876], [628.2961500709896, 3033.7747178912455, 6037.929132037765, 13987.207693966508], [4412.29892958737, 217.70481862327009, 5069.996251789358, 13812.06462875287], [1361.6126270476814, 3090.240912743151, 5248.146460209167, 13649.430805121121], [5580.514151738733, 289.6437636351398, 3829.8420846261274, 13612.347480268174], [3380.2915354847505, 403.90703287019227, 5915.801431645057, 14344.547769196395], [4106.282581177361, 934.5025293109487, 4659.21488951169, 13603.320915177866], [3332.7464704566487, 4093.054227179058, 2274.1993023642926, 12446.563911549381], [5872.139338330147, 2248.6097226955962, 1579.250938974256, 12276.078862457436], [2306.7849387411798, 6835.443260508919, 557.7718007498995, 11507.55424240262], [194.48529056818165, 5730.148384406331, 3775.3663250254863, 13054.215819515468], [1098.8948432296752, 77.44407967140667, 8523.66107709892, 15160.395149739916], [3432.9195289401937, 1179.6490479889937, 5087.431423070812, 13665.026408078344], [3727.7265818175915, 4215.429554667619, 1756.8438635147888, 12316.979024225468], [2742.767022872293, 5225.545532487625, 1731.6874446400823, 12239.161256396494], [3297.9883487975007, 3875.961808681796, 2526.0498425207034, 12675.105594894658], [4874.2941210333565, 642.4499496549117, 4183.255929311731, 13477.31978040059], [77.05280811249176, 5560.224651473906, 4062.722540413602, 13083.422799167738], [2117.3995712550623, 1375.3236354482335, 6207.276793296704, 14250.125920688792], [1441.2853905098593, 2535.033241948553, 5723.681367541588, 13890.695500107375], [3555.414224826324, 1060.3231522932103, 5084.262622880465, 13803.852151955156], [5436.589175113287, 2331.276097539785, 1932.1347273469273, 12502.49856382714], [4534.6125628827795, 3811.6690777058175, 1353.7183594114038, 12288.32593355745], [3834.878976429178, 2355.0504590568685, 3510.070564513954, 13134.127023787516], [4502.779254253197, 2620.9194503988892, 2576.3012953479138, 12583.749671110192], [3749.7178752666887, 1049.9051438624201, 4900.37698087089, 14033.788722869367], [2492.554185778219, 3361.7542781982256, 3845.6915360235557, 12837.632567561865], [5528.881788860272, 3924.4066704551856, 246.7115406845436, 11859.612910786636], [4891.435546962271, 3607.078441837746, 1201.4860111999815, 12063.882304175359], [4877.739287451272, 2145.047302675223, 2677.213409873506, 12687.237225672196], [2888.2275483462818, 4952.402903684082, 1859.3695479696355, 12142.642588044371], [2218.6693002633706, 2492.1710099965753, 4989.159689740053, 13581.216699215352], [6855.116134986386, 332.1015856337451, 2512.7822793798687, 12805.69795622046], [138.82558531098624, 5232.2108053943775, 4328.9636092946375, 13231.564746035532], [4651.341559727066, 235.1952418384533, 4813.4631984344815, 13711.429961643837], [4132.692890260766, 3365.059581629144, 2202.247528110089, 12387.545179818286], [2294.0713331662423, 5363.27240878087, 2042.6562580528885, 12350.552096000238], [1288.942773386647, 7660.534117842641, 750.5231087707118, 11574.048539527981], [1393.5332635079542, 2742.534148326247, 5563.932588165798, 14042.074557302656], [2294.8860290636535, 3932.750215133459, 3472.3637558028863, 12990.479158212804], [3700.102217439438, 340.57717333256335, 5659.320609227998, 13990.95116671541], [3635.9437256129086, 102.39490397673916, 5961.661370410352, 14281.502914607647], [563.4460259139596, 5045.2669785244825, 4091.2869955615574, 13290.578486153754], [5193.138568640001, 3710.5489516256425, 796.3124797343577, 12102.545165410998], [5843.439564785511, 859.325444724048, 2997.234990490441, 13068.947275261855], [2977.625238270907, 2524.644730648726, 4197.730031080368, 13540.071087870354], [3893.276340466095, 5751.96647461907, 54.75718491483546, 11708.729716750682], [5615.885988701899, 1242.8395768252515, 2841.274434472848, 12589.464013425075], [4748.030937968486, 4515.352065423035, 436.61699660847876, 11893.305962756058], [2003.1943698197817, 3949.6203373403296, 3747.185292839888, 13022.486108349747], [492.3034019184829, 4428.884332863661, 4778.812265217856, 13649.465309712186], [2841.1945425046333, 5531.060540001845, 1327.7449174935218, 12169.50885889629], [1869.4046511004244, 2423.8643172896777, 5406.7310316098965, 13912.672527054592], [4973.015270353475, 1116.8610495189785, 3610.1236801275472, 13080.41262177656], [3967.9003629147924, 5607.01859441889, 125.0810426663177, 11739.223756930784], [3940.5266764949765, 3487.9659705867607, 2271.507352918262, 12477.204792657232], [3344.5410581974393, 2253.0240065611783, 4102.434935241382, 13453.346245325303], [3620.394833321056, 2837.811416427781, 3241.793750251163, 12853.84809303085], [2996.811962493162, 391.0698332933284, 6312.118204213511, 14206.715737932236], [2212.608109096367, 3664.113371664583, 3823.2785192390493, 13049.731517035318], [360.13425114135305, 4452.240421580581, 4887.625327278067, 13620.450041765716], [2065.1358306019556, 5240.5449954743135, 2394.3191739237313, 12460.988684464013], [608.2997555433426, 2232.111253041706, 6859.588991414951, 14144.397307997138], [3497.003114942345, 3779.9815420750615, 2423.0153429825937, 12589.624387322818], [3615.095782230835, 2998.147378490696, 3086.7568392784683, 12881.162929772303], [1541.1928459058809, 5380.777692187197, 2778.0294619069214, 12506.145739164493], [2751.502342223679, 3368.3110040042866, 3580.1866537720325, 12986.927396968682], [4358.727495311286, 3417.1283182248853, 1924.1441864638298, 12338.372666102447], [5441.719931736676, 2800.1821509158267, 1458.0979173474968, 12404.49604771748], [3464.4531841611356, 4224.468209808236, 2011.0786060306289, 12203.087312875092], [1026.4892447298062, 1750.9640451017215, 6922.546710168472, 14604.267930341905], [6180.832293978035, 2523.7347509941487, 995.4329550278162, 12036.007897926347], [4918.058092030449, 686.7937917711774, 4095.1481161983725, 13364.151785880465], [1603.322033106887, 2868.4454139294476, 5228.232552963665, 13616.160820255076], [703.7878802814066, 3545.6351540549936, 5450.576965663599, 13616.796507049527], [2365.510841849472, 3858.459334470765, 3476.029823679762, 13000.342509946218], [4317.030131535056, 5264.302354588399, 118.66751387654406, 11499.213485742861], [1046.525870344177, 1371.5626714492478, 7281.911458206576, 14507.845194780986], [1789.3623310862627, 3694.26140096253, 4216.376267951207, 13437.629925552215], [1436.6935311158381, 3759.3480726781017, 4503.95839620606, 13328.605888031338], [1699.4467715117337, 2926.297575474468, 5074.255653013798, 13605.446717449464], [2730.975975011469, 3739.7608770380143, 3229.263147950516, 12871.805712377345], [3122.7476263595195, 2034.3817988947392, 4542.87057474574, 13656.660567894593], [1245.3098573555349, 3947.87040225852, 4506.819740385946, 13387.508384292536], [892.2872635349673, 4230.695872432972, 4577.01686403206, 13128.309079497054], [298.1862647837599, 8007.7393727441, 1394.0743624721388, 11650.906484202247], [2427.8824913059493, 7124.898463100102, 147.2190455939477, 11378.644655029035], [3780.186897626164, 1601.4636681150812, 4318.3494342587555, 13328.730080656198], [2311.093055081018, 4341.727811712789, 3047.179133206192, 12873.970448350932], [2762.1385903441806, 432.1981084947462, 6505.663301161073, 14713.25740194541], [1675.0113634483407, 840.8198752273709, 7184.168761324288, 14871.76546993869], [1575.4861051901373, 3168.8547930500413, 4955.659101759822, 13550.602543105166], [537.7551683391799, 9108.005824225354, 54.23900743546482, 11292.36131504135], [3093.7916706919955, 4632.933732653167, 1973.2745966548366, 12302.888780996009], [3947.9710195452417, 3154.5121557736898, 2597.5168246810676, 12710.789397851477], [3045.9990971546035, 3961.7636470443763, 2692.23725580102, 12506.420434512702], [5739.092130486966, 3231.4426467055073, 729.4652228075267, 11935.798767968685], [2237.3631625493317, 2395.1100613901763, 5067.526776060492, 13489.556736632201], [3681.632176443264, 1443.2392110991887, 4575.128612457547, 13630.828628550948], [379.6583224574855, 4189.38727726989, 5130.954400272625, 13656.288585323577], [994.7733513169326, 4061.435175276002, 4643.791473407065, 13531.117021200625], [5379.598835035996, 1903.7150987700038, 2416.686066194001, 12769.437956746386], [3425.8278858995654, 3774.872375299753, 2499.299738800681, 12383.517833833766], [3486.067589392789, 3174.2785620703125, 3039.6538485368987, 12960.965162042388], [8254.74116210098, 46.29732607391383, 1398.9615118251072, 12361.088018664756], [2335.8473642401023, 6218.097545812307, 1146.0550899475916, 11928.617896422356], [2840.5111545731706, 4200.968841440753, 2658.520003986075, 12627.333841892969], [1467.9077217390766, 997.5971512366949, 7234.495127024229, 14656.986325282805], [5295.112355537011, 4224.853528491695, 180.0341159712932, 11627.244224143278], [4710.233614729478, 1795.6177206510013, 3194.1486646195217, 12907.40781896461], [3333.431915057345, 3384.111514576232, 2982.4565703664234, 12886.987671286179], [3914.3180581109664, 5011.986085427502, 773.6958564615292, 11853.761706566795], [2187.5788534779517, 2793.990531469578, 4718.43061505247, 13612.620321509405], [5712.725598201166, 3469.2726978390515, 518.0017039597811, 11948.284103992619], [2188.3871309506844, 2924.2333039062178, 4587.379565143097, 13425.867940404112], [4846.727537094428, 320.476543634664, 4532.795919270906, 13621.474573162903], [7492.66877480997, 939.0384612699299, 1268.2927639200993, 12418.63794612381], [2283.643661697223, 4155.318682944116, 3261.0376553586607, 12775.809219346527], [1251.461305219029, 4330.693494505167, 4117.845200275804, 13086.265975584785], [1853.6818739051807, 4628.024360056223, 3218.2937660385974, 12757.753078551774], [4515.776971300877, 2443.53139112655, 2740.691637572573, 12874.975173989826], [4036.574047198547, 5643.4085132802575, 20.01743952119548, 11412.844580133285], [1938.9878451718755, 3734.3449778407635, 4026.667176987361, 13044.614715952397], [7470.8576892597575, 1110.3832732621033, 1118.7590374781385, 12505.953259535143], [3715.381107838878, 1655.8000123872046, 4328.818879773916, 13326.363663060101], [1844.6989248323173, 5749.593208297903, 2105.707866869779, 12019.039443444524], [3381.7376368151245, 2208.777132906064, 4109.485230278811, 13447.757965412276], [7306.285365682022, 320.5755325616572, 2073.1391017563205, 12968.028951575792], [4824.351600499936, 1620.2551169633107, 3255.3932825367533, 13006.832389269237], [3283.0387401217736, 3040.038100094579, 3376.923159783648, 12972.590325666946], [1028.7602468552523, 5271.741106310196, 3399.498646834552, 12729.301308917862], [1734.135412614986, 3330.716774249359, 4635.147813135654, 13620.356675524357], [4304.838989305437, 3699.981617564736, 1695.179393129828, 12245.479021159672], [3355.566157789793, 3458.484443164785, 2885.9493990454207, 12737.822067529147], [1129.7376860559905, 2859.276085829944, 5710.986228114066, 13816.986437241329], [3400.249290182293, 5681.187203536182, 618.5635062815246, 11644.911067579835], [3071.280010920097, 3111.3596504378256, 3517.3603386420777, 13005.74658301625], [2936.289178534484, 3129.181274970147, 3634.5295464953674, 13140.088163002627], [2203.8452923592417, 3651.7715415600114, 3844.383166080747, 13148.302748620254], [3343.0788602951607, 2765.3092902759977, 3591.6118494288417, 12891.236051641246], [6005.134042897417, 854.974994333634, 2839.8909627689495, 13009.705382724189], [3830.629687776191, 2657.84668022968, 3211.5236319941287, 12923.00102869692], [4459.180547917791, 4278.06191417943, 962.757537902779, 11938.921232731294], [1633.2632250798426, 5201.269184919526, 2865.467590000629, 12755.280021996945], [2518.379398535856, 2628.2321398353847, 4553.388461628758, 13431.51395335913], [5092.667865889718, 1572.0147499123136, 3035.3173841979683, 12999.629517323867], [3619.4091097192363, 4297.355507182411, 1783.2353830983513, 12242.694828977692], [1697.804382674216, 3781.0650841847773, 4221.130533141007, 13151.250500429878], [3760.8337396610927, 131.9444721830206, 5807.221788155886, 14063.024964261363], [4095.783732468086, 1862.1062788162192, 3742.109988715695, 13287.09217096455], [186.20374251649304, 2850.0452843095914, 6663.750973173916, 14168.116366419219], [6895.0620560476145, 1134.8500521769538, 1670.0878917754317, 12440.06133402782], [4567.55130924348, 4119.698737581783, 1012.7499531747376, 12031.303744915787], [7545.1158472628995, 620.3229808129508, 1534.5611719241479, 12527.686325963788], [3276.6129214438747, 2229.4727743050667, 4193.914304251058, 13417.891426407537], [6011.419519313984, 825.0321110079445, 2863.5483696780707, 12887.319702032817], [3688.25300009712, 1287.2983234042329, 4724.448676498647, 13709.396820295326], [1961.604402206097, 4592.517270473441, 3145.8783273204617, 12905.2243482492], [5251.707033722607, 1748.6533757509744, 2699.639590526417, 12708.494353763139], [3711.7554221318073, 1526.8104134282123, 4461.434164439981, 13473.103660601237], [2437.5877521417015, 3482.0432367956864, 3780.3690110626126, 13025.779249441164], [5170.675117207391, 437.63308284062146, 4091.6917999519865, 13555.155033664623], [1047.08657465046, 4640.924637537802, 4011.9887878117383, 13112.084046313037], [2675.680210272252, 3659.1733529485473, 3365.1464367791996, 12767.698905414038], [8266.640266301865, 1424.3483110292598, 9.011422668874939, 11950.559242819925], [5160.021324623996, 2189.038818960659, 2350.9398564153444, 12586.46776383681], [1156.0386325416998, 4736.771003958616, 3807.190363499685, 12854.184304230854], [3543.9419230110298, 2684.9173566662676, 3471.1407203227022, 13038.875063091815], [5237.985095959048, 3016.5788379226865, 1445.4360661182657, 12287.028806839713], [731.279370405021, 5529.186928896062, 3439.5337006989153, 12801.28787632302], [4403.500244893624, 658.1255833398259, 4638.374171766549, 13515.888845529722], [1362.7120888256538, 2630.606248222458, 5706.681662951886, 13932.25455010338], [3614.251595948685, 2981.0213454635305, 3104.727058587784, 12957.388857373788], [3829.2447581079596, 1544.9602002098354, 4325.795041682205, 13467.970467433746], [3702.992624821381, 2814.390662377173, 3182.6167128014445, 12919.51878820611], [1696.2928782508732, 4511.747492385215, 3491.959629363911, 13119.399936256232], [1704.7115608719687, 3552.2563002466063, 4443.032138881424, 13139.317033403664], [4291.774579128438, 2859.4668566252776, 2548.758564246283, 12686.771263204364], [780.1120357121449, 3369.0218429933116, 5550.8661212945435, 13961.292560811511], [3676.516279572954, 3432.764193701791, 2590.719526725255, 12711.07708503805], [10.536276467306617, 4815.383122264441, 4874.080601268252, 13089.640771491022]], \"hoverlabel\": {\"namelength\": 0}, \"hovertemplate\": \"low=%{x}<br>median=%{y}<br>high=%{z}<br>a=%{marker.color}<br>b=%{customdata[1]}<br>c=%{customdata[2]}<br>sum all=%{customdata[3]}\", \"legendgroup\": \"\", \"marker\": {\"color\": [3477.886343037862, 7148.71799336219, 2042.1963031362534, 1678.5349233894121, 2738.2889521297293, 4312.312404373453, 2009.6705476853947, 4096.308888462663, 824.6510950957379, 2199.652802486345, 2299.8257563480365, 4781.078261117166, 2931.616793384615, 3880.332448912355, 1970.8641154953534, 2817.836866682107, 2603.2116166982714, 4286.619781242964, 4498.556472681693, 3915.197686963079, 3991.555070115534, 3086.8957497574647, 2224.4979881978998, 6254.717517616252, 5333.215752842554, 1211.9115963473664, 2266.429295802444, 4129.4726126827945, 4722.715806577146, 3498.4331131977906, 5809.377815831286, 2809.362214980268, 3525.4455396251096, 4717.772826457589, 2976.5531343460307, 2175.345304798691, 3833.8888674859304, 3038.4150810894002, 6157.335127200213, 4914.104346784948, 7361.32989510712, 1260.9092083597366, 222.5421703030851, 2276.5372888791367, 3209.116046906197, 3337.520034545078, 4146.020532473088, 6961.335035299175, 1788.1006224543646, 2529.402411844262, 2568.899016960195, 512.0760467001277, 4518.442535626961, 4123.879564720616, 3158.6030584048394, 1947.5769753885259, 2855.745713260978, 2048.3875612573943, 1731.1957463502406, 2480.3505898106337, 4562.176687952268, 195.36892912075743, 4732.2823668208175, 4215.1597074042365, 318.7322673044091, 3161.49090617092, 2381.9601172939056, 2332.9130954960515, 2117.7355370238206, 3399.8655894575386, 3638.495903744837, 2426.6661096317557, 414.4840706764559, 4463.975455753723, 2030.5272921436283, 2870.912006556627, 4092.1240100141013, 4987.42141694789, 3735.121482303464, 1063.7074020162588, 6111.09277862942, 2708.825814543218, 4335.869446769959, 677.5395584823997, 2394.3149378192893, 6058.337189962897, 109.87543400283622, 3051.5112779633173, 5436.289754740487, 2273.9828708549526, 1580.5522873264974, 727.1006111320473, 1405.6025035445257, 3382.2780440830347, 3750.0616040319496, 1970.1241427286254, 346.2925392747363, 5356.852933613521, 5070.510257610159, 7852.145348804252, 815.2196655857795, 1738.7540179383184, 6295.774579936817, 2537.405218167676, 3585.689558171733, 905.6317561142121, 3076.220464774654, 5459.100496124497, 1376.5271140105995, 2767.4373740569886, 80.45529586601639, 7298.753146133871, 105.42414164073614, 5903.438076701586, 1879.6043686958556, 3153.5380969469124, 2516.843614540979, 6003.434043330654, 3164.8386201349203, 3096.7817148842437, 1939.264849103399, 5517.127408842849, 2583.339385956689, 5024.481580960709, 3361.5416251377146, 2386.8888008954914, 4191.792118636943, 3758.0719092029817, 6043.076348397974, 4201.581299428385, 5295.209526272047, 3329.3037942214664, 4345.421632054021, 4676.222893023845, 4409.130179145596, 2575.4140347881075, 3339.2772615646027, 309.67988635865623, 6220.290459173967, 3514.410297659347, 5848.677502531713, 5918.74957487592, 1199.5894138483054, 6724.249961945209, 4754.9795521087935, 5816.944014980482, 2528.087361272048, 3652.034279289404, 3117.9552631360525, 5029.341048769618, 3936.273646180505, 361.9222646446435, 5313.100407037854, 3787.447395825807, 3444.369704418411, 4322.462424514389, 3426.232560760856, 2164.606776016506, 2865.559541914136, 4933.340739684353, 9050.014114837757, 878.1455546351909, 1464.8019053430633, 2035.5947699592725, 4024.7626798181313, 3511.454818988033, 871.4987484128193, 1504.9493686992469, 3677.028664053439, 517.0047500042341, 2703.95320605576, 3426.9456594887647, 2241.7582900133166, 3493.382534695417, 4107.059715918825, 1423.3884379559556, 2483.100736034882, 2462.6016757473762, 1668.9570839098053, 1583.3519632919574, 1516.0768816504503, 2274.0576029977306, 4506.692922521117, 6728.286509314347, 2137.2956606768466, 3074.4948007950575, 4790.316869956852, 4048.6881134880573, 3278.307215518226, 884.9678005482687, 1515.1728459903923, 3610.3090570284453, 3438.1527227477904, 89.50255857422613, 1008.682738355229, 1221.6544797218266, 2402.7623685039625, 3171.064734144576, 5359.033304423619, 2727.3082664088433, 3749.508135067574, 3472.656517466654, 2814.8855723657803, 2935.462901942888, 4432.388590098375, 118.79381675075572, 5261.348879810234, 1817.8038204640388, 5482.894712629144, 4448.252813093209, 845.8944306045055, 3012.5746311136413, 5087.32079500364, 3912.126799877854, 244.40583861223115, 3896.381966676931, 4484.105396645908, 5106.457862285332, 5427.2138530245775, 287.5814329843657, 35.0792018555359, 3063.434386395542, 3562.8973263208995, 1965.1012769175272, 3388.140068340624, 5153.296931509899, 1286.976072716145, 1945.152793164314, 5460.535460082304, 1478.6591054703456, 2991.595438528175, 6123.344790992119, 5956.955509648462, 4642.478509604546, 2081.7952890047736, 5555.566811716052, 3188.382290248926, 4639.856620109967, 130.12640489759866, 1850.3849084796984, 620.3572592167078, 615.0567126491345, 6576.4494587907575, 299.0481719082238, 590.2119078824326, 3546.769956299186, 2299.9157176393874, 3760.6871218781625, 6178.573344989275, 2999.081650845155, 6880.73839103162, 5143.212950778805, 7412.603065311996, 752.1437029013248, 4240.493500597193, 6345.070238055195, 4106.9356167681035, 2772.7403222219514, 1321.8514060584682, 1318.9165315472003, 7620.256268697036, 2234.635702327474, 5225.973066328321, 3258.4594596653333, 4937.316067920529, 2840.0091142577094, 6474.523320584838, 4030.4613143053284, 7532.187688159013, 2657.1246400306395, 588.8695440212239, 69.75041108231561, 1712.5284148356925, 1233.720751230976, 2726.23112899016, 6196.963420236518, 4498.19128526447, 3056.098718573709, 408.0863318473068, 1059.7404157249039, 2533.861000910048, 8551.153213423486, 685.8989169789887, 2994.153924140068, 2695.249894852404, 2506.1851029847658, 4442.290027161543, 1167.7393531216621, 2315.42532097787, 4044.769634440907, 1807.334549379886, 2062.93089852246, 894.493037310695, 2539.740696252819, 2316.575328559603, 4408.5490439081605, 2666.603408504966, 2380.0169555703737, 2497.7007842884937, 37.55547593916301, 1268.3474185180125, 2217.8519089458937, 691.5235002899875, 2347.313570911641, 3704.955786558348, 3623.565276563804, 1410.945020850777, 1182.44895735478, 1972.263802193815, 3343.2987678651652, 4816.338003529133, 7992.200524082569, 2722.786822968891, 7425.408153229776, 2473.441731795539, 4892.309137795902, 1655.7034143116239, 4293.148110895553, 4029.7930382462064, 5105.168530618469, 628.2961500709896, 4412.29892958737, 1361.6126270476814, 5580.514151738733, 3380.2915354847505, 4106.282581177361, 3332.7464704566487, 5872.139338330147, 2306.7849387411798, 194.48529056818165, 1098.8948432296752, 3432.9195289401937, 3727.7265818175915, 2742.767022872293, 3297.9883487975007, 4874.2941210333565, 77.05280811249176, 2117.3995712550623, 1441.2853905098593, 3555.414224826324, 5436.589175113287, 4534.6125628827795, 3834.878976429178, 4502.779254253197, 3749.7178752666887, 2492.554185778219, 5528.881788860272, 4891.435546962271, 4877.739287451272, 2888.2275483462818, 2218.6693002633706, 6855.116134986386, 138.82558531098624, 4651.341559727066, 4132.692890260766, 2294.0713331662423, 1288.942773386647, 1393.5332635079542, 2294.8860290636535, 3700.102217439438, 3635.9437256129086, 563.4460259139596, 5193.138568640001, 5843.439564785511, 2977.625238270907, 3893.276340466095, 5615.885988701899, 4748.030937968486, 2003.1943698197817, 492.3034019184829, 2841.1945425046333, 1869.4046511004244, 4973.015270353475, 3967.9003629147924, 3940.5266764949765, 3344.5410581974393, 3620.394833321056, 2996.811962493162, 2212.608109096367, 360.13425114135305, 2065.1358306019556, 608.2997555433426, 3497.003114942345, 3615.095782230835, 1541.1928459058809, 2751.502342223679, 4358.727495311286, 5441.719931736676, 3464.4531841611356, 1026.4892447298062, 6180.832293978035, 4918.058092030449, 1603.322033106887, 703.7878802814066, 2365.510841849472, 4317.030131535056, 1046.525870344177, 1789.3623310862627, 1436.6935311158381, 1699.4467715117337, 2730.975975011469, 3122.7476263595195, 1245.3098573555349, 892.2872635349673, 298.1862647837599, 2427.8824913059493, 3780.186897626164, 2311.093055081018, 2762.1385903441806, 1675.0113634483407, 1575.4861051901373, 537.7551683391799, 3093.7916706919955, 3947.9710195452417, 3045.9990971546035, 5739.092130486966, 2237.3631625493317, 3681.632176443264, 379.6583224574855, 994.7733513169326, 5379.598835035996, 3425.8278858995654, 3486.067589392789, 8254.74116210098, 2335.8473642401023, 2840.5111545731706, 1467.9077217390766, 5295.112355537011, 4710.233614729478, 3333.431915057345, 3914.3180581109664, 2187.5788534779517, 5712.725598201166, 2188.3871309506844, 4846.727537094428, 7492.66877480997, 2283.643661697223, 1251.461305219029, 1853.6818739051807, 4515.776971300877, 4036.574047198547, 1938.9878451718755, 7470.8576892597575, 3715.381107838878, 1844.6989248323173, 3381.7376368151245, 7306.285365682022, 4824.351600499936, 3283.0387401217736, 1028.7602468552523, 1734.135412614986, 4304.838989305437, 3355.566157789793, 1129.7376860559905, 3400.249290182293, 3071.280010920097, 2936.289178534484, 2203.8452923592417, 3343.0788602951607, 6005.134042897417, 3830.629687776191, 4459.180547917791, 1633.2632250798426, 2518.379398535856, 5092.667865889718, 3619.4091097192363, 1697.804382674216, 3760.8337396610927, 4095.783732468086, 186.20374251649304, 6895.0620560476145, 4567.55130924348, 7545.1158472628995, 3276.6129214438747, 6011.419519313984, 3688.25300009712, 1961.604402206097, 5251.707033722607, 3711.7554221318073, 2437.5877521417015, 5170.675117207391, 1047.08657465046, 2675.680210272252, 8266.640266301865, 5160.021324623996, 1156.0386325416998, 3543.9419230110298, 5237.985095959048, 731.279370405021, 4403.500244893624, 1362.7120888256538, 3614.251595948685, 3829.2447581079596, 3702.992624821381, 1696.2928782508732, 1704.7115608719687, 4291.774579128438, 780.1120357121449, 3676.516279572954, 10.536276467306617], \"coloraxis\": \"coloraxis\", \"symbol\": \"circle\"}, \"mode\": \"markers\", \"name\": \"\", \"scene\": \"scene\", \"showlegend\": false, \"type\": \"scatter3d\", \"x\": [9813.248616954348, 9295.402543735516, 10004.269843360333, 10165.377329036224, 10501.12881902473, 10579.43321210135, 10342.99767975888, 9983.065222165409, 10021.047454941203, 10400.435459546015, 9395.201639605051, 9834.963944525736, 10838.709248768888, 10916.61577673312, 10659.395188796452, 10220.3427705674, 8478.40977410655, 9874.6949823466, 9402.364186187522, 10238.758038990061, 10198.806453252913, 9389.509259264341, 10322.612447861724, 8982.958990703504, 9789.338827829719, 10367.88688429402, 10489.961638604253, 10478.455794155618, 10293.8011710404, 10360.56235401849, 9854.406479551972, 10571.361360311761, 10072.52999476811, 10008.813791082239, 10410.543943244527, 10428.367365577673, 10479.623288317289, 10139.513317861381, 9546.742503652302, 10069.30273443071, 9150.402299870622, 10691.308004221875, 10477.496763071491, 10555.598666687174, 9999.277406375235, 10277.581564452896, 9392.415911814469, 9372.10994734911, 10786.99433070908, 10499.5306002349, 10257.972094917708, 10616.812865137776, 10831.612743347974, 10582.993124014884, 9956.997378367163, 10132.964931831695, 10425.005861629965, 10308.23902924408, 10455.604279511761, 10278.835564538167, 8886.832779482045, 10023.859157753204, 10036.748227071923, 9561.246956167324, 9788.142539375007, 8641.691652273932, 10481.472137670982, 9971.623370657264, 10405.366687326376, 9533.601545400667, 10241.22017690887, 10477.019959140014, 9916.040162508341, 10620.67261639731, 10069.001383842375, 8505.65152851692, 9387.840975619652, 9860.310186217328, 10256.145871628538, 9006.400427543376, 10182.304630665283, 8795.35550384357, 8764.220026107034, 9351.636892566685, 10642.961810381112, 9137.989439794588, 8468.33199193677, 9751.690747642113, 10156.360535999453, 10521.248853823836, 9540.052775941744, 10067.418624481164, 10466.779395179907, 9233.036266020354, 9218.773366816378, 10458.79654342017, 10207.665895817678, 9412.384068477946, 9271.94764060004, 9120.901013195913, 10406.162755811338, 9426.853126974154, 9991.773320167946, 10693.807944189883, 10502.330978217495, 9863.398883570966, 10249.72271166317, 10134.644192661637, 10386.32398216233, 10408.24105261734, 10005.834087485158, 9111.077907358107, 10095.427030364845, 9699.811579813242, 10060.182821240109, 11076.484493970254, 10914.234885909675, 10103.89455959204, 9544.092376639152, 10077.042711720176, 10325.37081366371, 10147.88299891225, 9410.580595517384, 9173.1933932563, 10490.799545485135, 10002.975200143053, 9672.513483304176, 10616.454456806525, 8779.901244218983, 10221.264138334129, 10126.737707651815, 10347.505183563142, 10337.177522301174, 10116.891295860487, 9895.582635678362, 10237.75075839166, 10353.534613414025, 10420.502596188628, 9989.820575210837, 8865.451989144494, 10325.136615538873, 10201.948834554125, 10474.211734672826, 9945.936086201684, 9119.406891765211, 9187.070477917425, 9950.338699014186, 10241.844542317222, 10694.493703114022, 10353.481260403338, 9897.924285611227, 9670.380992382992, 10480.057612992407, 9206.948165495149, 9691.500528568402, 10104.698854121772, 10655.58444001049, 10298.144890791371, 10686.72561222991, 10383.276028172291, 8700.947199850749, 10581.44589968501, 10546.525914440652, 8575.054139231814, 9607.376756896767, 10478.818162722559, 9640.35268373763, 10125.903370914855, 9051.753219938848, 10215.844343000992, 9745.954902187965, 10001.125621002915, 10469.479802969683, 9643.5265127721, 9994.819968749049, 10757.327895389499, 8446.316742739418, 10913.207781426305, 9969.410904315833, 9433.79004222003, 10365.463197614377, 9904.087142784903, 10643.818107870453, 9033.922959254249, 9605.493225523318, 10224.3270768877, 8922.583540144742, 9061.335074169305, 10433.624337842159, 8109.2140113007845, 9977.936099615217, 10462.997707941666, 10442.079003650844, 10221.246097052648, 10464.410016863385, 10238.651150552056, 8361.56281926425, 10678.787954841504, 10082.120523112666, 10437.359656600049, 9819.411764749311, 10265.211883906544, 10291.38009530713, 9668.158543116475, 9262.936384050337, 10347.667604659433, 9350.885654330617, 10023.140113941387, 10072.038064078637, 9340.421910396492, 8755.598035780307, 10141.108221326316, 9144.643505822773, 10446.628858590584, 10063.33546199786, 9606.41699778143, 9813.373164721166, 9463.164637835574, 9649.528394070698, 10498.22116546912, 10220.124355881002, 10028.523835955246, 10081.471818104741, 10170.697678321141, 8490.721921572265, 10305.9511244564, 10695.92367830205, 10393.680699292912, 10252.85091610025, 9362.499475208006, 10294.77466401037, 9896.836309219894, 9960.79275349758, 8803.152561672241, 10192.504959118174, 9956.22210276102, 9988.863753281996, 9679.411527127973, 9916.22521796725, 10356.685313600292, 10630.697529325927, 10412.34331879218, 9145.29089935589, 9177.530755325517, 10174.626391507849, 10112.421357932615, 9685.753157131261, 10343.342604886295, 9132.356127225607, 10163.322766433706, 9016.838908643518, 10133.013027572455, 9325.159969117392, 10509.589639751428, 10190.370874156748, 8980.133070727035, 10399.755562937917, 9593.460783408791, 10446.868137301997, 9918.085640377285, 8946.024554334326, 9924.751173806788, 9871.656137144255, 10507.16001978506, 9826.646145661143, 9831.459777159449, 10085.837999854872, 10138.49852864608, 9404.900044603428, 10238.122723533623, 9072.82341621597, 7645.64316454625, 10747.36195681249, 10414.119700822763, 8832.970006473937, 9482.984876310213, 9753.554345501474, 9814.177495474547, 9693.78129019141, 10302.247025384013, 10113.472875704181, 8881.241696449128, 10444.903761148145, 10553.37235820297, 9650.309860773481, 10364.676360427451, 10385.71033585601, 9802.106669929235, 10881.212228019942, 9711.152270331282, 10068.715446130762, 10448.981086159056, 10710.138516209177, 9977.081668540543, 10300.293010280817, 9462.089986239154, 9047.679033290437, 9088.1290182103, 9366.15158732586, 10392.032672888436, 10364.880699779858, 8963.895070142038, 10546.663242366223, 9857.561313645696, 10313.057523968411, 9558.722197546735, 9412.418617584197, 9432.504313034415, 10692.102935397856, 9037.044176228763, 10186.30554039839, 9053.89131057472, 10540.844514761293, 9235.028067938156, 10471.128217884498, 9972.037909897335, 9940.876014789303, 10470.829921723056, 10565.323793953316, 9998.01845982106, 10377.210842775796, 10465.485663853025, 10583.648968338062, 10568.36152154631, 10716.369436644067, 10498.222041575622, 10008.736447267262, 9486.215835176175, 8595.52152253571, 9666.002335018487, 10475.46697377686, 10420.094201701677, 9812.604402383899, 9452.620040431255, 10006.807943535006, 10341.6025942905, 9886.090351954052, 10686.23765070784, 10514.76817467991, 10543.417254541506, 9854.922709656274, 9446.259049054072, 10348.488060218167, 9834.588265023622, 10909.539989794659, 9961.768791727924, 8773.762543543346, 9443.447957467193, 10179.693823567746, 9782.098855078753, 10485.542119829206, 9521.745476809669, 10211.806137401323, 10633.02015632979, 9899.795389850156, 9534.320020302377, 8407.87666441618, 10306.725566692385, 10322.86544217821, 10691.441267074015, 10613.060422537843, 10310.927571697473, 9267.242910257972, 10016.770292091924, 10528.29379158671, 8592.139316961926, 9662.835784000865, 9156.132359177245, 10265.749235992367, 10431.724735890717, 9528.860544339796, 10521.618701593285, 10375.23421792998, 9074.550651982447, 9978.293732028742, 10749.369762478635, 10302.844703338184, 10660.864104666078, 10348.824249125635, 10366.012285855732, 9902.815457250976, 10531.355090020428, 10025.71397526395, 10460.986673345258, 9667.422926229661, 10233.253366883484, 9669.420661493814, 9694.935164996936, 9698.358104214214, 10642.789667163514, 9289.232641003531, 10306.547360770284, 10401.62387260209, 10081.269070138263, 10160.095444001343, 8726.637723518452, 10811.633932009841, 10759.785168148932, 10175.863862870607, 10707.988086762158, 10075.408299546605, 10714.4205463423, 10309.996533852747, 10170.807121296031, 8611.40819356303, 8260.712806605541, 10446.828885625273, 10147.812731536435, 11001.99549643031, 10909.66164036963, 10756.851179418754, 7703.89230938912, 9891.81089212753, 10134.439587928031, 9982.634126590372, 9152.980292497607, 10434.464076307455, 10576.279282327268, 10271.279668805186, 10580.948273711025, 10011.541505538822, 9781.870719889706, 10340.661740310967, 8890.13903157301, 9013.17599043904, 10311.682388221621, 10653.788361501916, 8857.817702678214, 10289.286402610009, 10320.35674225322, 9125.566574227174, 10176.551369347893, 9227.695671502133, 10318.607137524792, 10296.272357907246, 9435.044487881105, 10228.078471767738, 10277.205806594893, 10135.050227960626, 10241.726044730278, 8495.785939706233, 10480.837227980122, 9139.62949379772, 10339.289252543493, 9388.473551587384, 10653.968682473442, 9660.069102355406, 10150.50465349847, 10365.189671966556, 10030.978041248865, 10702.95192138166, 9755.35466384603, 10220.559822068008, 10485.462370022691, 8884.035623485908, 10434.592148488071, 10307.97232730264, 10383.924962795194, 10152.80096033421, 10089.064755448087, 10313.594038546704, 9306.820210019065, 10011.814970346026, 10519.485450730885, 10110.695210711281, 9699.858509198782, 10358.118117608508, 10574.456684364533, 10326.78441210105, 10694.452050637212, 9416.504112895958, 9377.700357160145, 9237.137163856554, 10355.760968488208, 10000.53190451342, 10734.096869267205, 10142.775043291931, 9917.806523624211, 10276.511276882891, 10415.183654227749, 10484.74192946548, 10250.568256413593, 10253.64483566245, 8442.615404476119, 10106.395763457775, 10121.595052207356, 10492.803554268525, 9604.14133278725, 9678.965259434464, 10502.847840178209, 10517.128504889368, 10356.604519876732, 10405.330851111183, 10359.983522301032, 10316.386835151874, 10285.460971241144, 10079.49808590416, 10751.354061852186, 10055.136596777027, 9952.760464245182], \"y\": [12280.35864863239, 12661.348849276672, 12373.937619691082, 12402.963238612761, 13009.490753077971, 13587.521901799151, 13148.267996222377, 12497.019011892724, 12711.579252871501, 12763.263458770201, 11672.84941151457, 12199.131485175341, 14270.009641000324, 14023.162373841784, 13812.705422741594, 12618.638805314746, 10831.703388512859, 12487.07232166771, 11721.964560476057, 12619.752598849853, 12943.593097008532, 11634.106179786268, 12782.674867109296, 11610.738736536256, 12604.50711727747, 14197.029509179456, 13145.611834180672, 13496.746427245014, 13199.322211957937, 12531.246031068991, 12337.780325106502, 13086.806163814206, 12422.697357866364, 12620.809134594858, 12888.063423358779, 12859.6985295391, 13223.286052203042, 12813.686982000627, 11796.322803070378, 12840.555350866542, 11644.552979680713, 14458.44543352342, 13311.320353170766, 13424.850064565378, 12404.480700685534, 12719.046987298698, 11731.046466523798, 12305.947574271511, 13945.464596902559, 13121.90563672621, 12690.476290529172, 13468.086914788577, 13575.4751847803, 13785.996603950385, 12352.451372595802, 12595.588670784347, 12850.001473244607, 12718.896077615256, 13185.50393310116, 12820.157737023927, 11473.850137322755, 12834.754723086004, 12554.243272418773, 11814.21404721453, 12546.37073609562, 11135.908855323334, 12957.119286956833, 12042.899535671972, 12950.504189862531, 11737.424858464054, 12282.311653132594, 12758.349442774695, 13132.01799668132, 13246.212872955137, 12687.895801408686, 11023.252770093266, 11684.822997537569, 12360.866540796023, 12703.376497658648, 11311.662799840515, 13234.576708073606, 11441.69583790929, 11364.80740398564, 11614.750486733734, 13894.082752457827, 11639.480334148702, 11258.671442693367, 12385.082485537368, 13031.52474783681, 13521.301241092244, 12037.411811500611, 12843.843402908324, 13153.819604790751, 11469.837459906412, 11553.391266791896, 13174.016970850807, 13577.172727851841, 11810.328930018339, 11643.486753287287, 12191.223810176738, 13282.797200559595, 11981.617289125441, 12682.482093918923, 13279.212714455127, 12861.267684853105, 12518.034697791172, 12737.249328113881, 12812.101904992547, 13132.978431021951, 12902.804437282422, 13171.594785012498, 11789.675891062136, 12864.294870394271, 12218.684202974087, 12480.480093457734, 14000.638200923586, 13742.905843267077, 13372.554103610117, 11883.639584141494, 12376.594166421088, 12772.825834302195, 12782.949031508917, 11545.127067373836, 11831.862241286459, 13343.190909330813, 12306.87278676466, 12118.48146607562, 13164.145569376295, 11258.25909745597, 12528.974127052858, 12648.872152438955, 13007.816259916382, 12822.717018814888, 13167.203142012204, 12381.282498388224, 12645.019859288148, 12852.938242634476, 13738.8841614175, 12703.839767847434, 11241.027375146286, 13147.990950865067, 13206.057739075077, 13145.786240399833, 12968.162271321125, 11514.532162389332, 11657.745871049116, 12392.668878268712, 12604.964153008923, 13650.546853727426, 13107.125179261591, 12223.369300808305, 12678.371391336925, 13470.412099672692, 11384.913784506936, 12182.27824810824, 12751.57721384678, 13932.50349371396, 12676.580840822924, 13395.812815976868, 13541.499852010937, 11944.378585944069, 13164.24995059233, 13857.123561515733, 11160.692431937621, 12187.57697853002, 13177.118208012203, 12242.06126413645, 12510.831733224932, 11518.01493191527, 12958.582422962681, 12035.105276339456, 12362.615065614522, 12849.379160733948, 12145.678378908557, 12580.515522456006, 13433.128226606259, 11227.15823397736, 13837.039293869413, 12541.806258358463, 11751.44134291771, 13733.290276859529, 12150.663918764767, 13505.36382162552, 11635.50217550274, 12211.65337862463, 12651.493665591672, 11161.175305756045, 11459.498690263781, 12733.291766969525, 10807.907825092972, 12359.502006394501, 13009.418409179294, 12722.196740574158, 13039.682934899873, 13691.961373371003, 13175.61120735885, 11289.536415347837, 13284.96573898269, 12495.676609323538, 12991.40122537655, 12313.459226363513, 12778.022915128371, 13162.299558900668, 12134.692611936904, 11461.485728967964, 13344.233004016072, 11696.977230360622, 12624.86267104102, 12875.461870626259, 11603.467362581803, 11323.216814761745, 12661.473760241632, 11638.31228735873, 13190.889915567675, 12956.199634479586, 12064.449609299027, 12331.537548337765, 12093.802624717035, 11982.748977607853, 13423.719352015185, 13196.769047239864, 12546.941722688025, 12620.429934936514, 12601.017849819533, 11174.075538349132, 12953.879757482498, 13902.856421888722, 12936.449365780929, 12871.295800561456, 12072.633385005904, 13851.147077833251, 12754.034911679651, 12554.267881777214, 11075.404302009529, 12608.926264961858, 12317.651231794945, 12929.589808358807, 12043.221956457135, 12792.093029308682, 14162.015362208127, 13434.486672358118, 14489.251513747502, 11806.880686390006, 12056.09276138979, 12819.17795628988, 12465.823363387131, 11927.154266013009, 12823.919188313139, 11445.466124993487, 12948.852370925732, 11869.49211685644, 12827.293408178344, 12234.80935964645, 14291.526767666448, 12662.363093448173, 11518.37725063859, 12965.978600422623, 11891.199687258266, 13120.45252831044, 12427.961117568633, 11640.569490816395, 12386.396466498614, 12269.154430599701, 12850.689988408867, 12242.186482529218, 12144.177284810266, 12886.968983992017, 12688.85308236033, 12045.098007772489, 12444.4356158367, 11752.274356385013, 10613.449598476116, 13428.092040457088, 13127.914309937707, 11447.93431594708, 11973.252998259279, 12177.22558583899, 12230.230984139373, 12600.983652723258, 13053.95551749758, 12191.40864247355, 11976.666355233923, 13354.317647959553, 13095.955798169398, 12152.595377018206, 13192.091463405966, 13225.770265730396, 12358.212963375017, 13483.4980876501, 12451.302015001944, 12677.935052177352, 13000.22721570743, 13542.006488282435, 12754.88118975313, 12709.186378789032, 11868.856500830854, 11439.732117771673, 11431.758504400257, 11642.90714352439, 13379.468488792405, 13016.619120412843, 11367.231097151893, 13787.837903528613, 12055.816509342618, 12965.214025842062, 11966.074266753669, 11879.117578071477, 11902.177958918292, 13604.906700879386, 11414.827781579306, 12728.11342768542, 12059.547663306104, 13610.267836505946, 12303.818375569945, 13535.754049602796, 12504.862040471011, 12306.77242715791, 13117.255373149032, 13249.658444958603, 12663.7184692417, 13583.209071496633, 13666.580772787831, 13283.799078601589, 13175.408517668138, 13868.201888868383, 13362.510475830204, 12171.115030624369, 12009.196623526128, 11316.225248251742, 12718.446330380208, 14899.993677520593, 13385.203941323494, 12154.985082109803, 11979.919435918939, 12521.71543573821, 13156.32730067143, 12784.515501127371, 13950.585867538728, 13630.489108669433, 13342.349798005123, 12202.400565655113, 12079.88470718233, 12888.762315918144, 12422.079332469213, 13837.436328985397, 12531.228989681013, 11709.29749345986, 11935.070252293932, 12379.228912634804, 11984.645246972472, 13239.717690277717, 12519.10557675478, 12792.067559902014, 13260.530879446576, 12190.134083645053, 12078.484575143808, 11364.529491748195, 13636.281358130502, 12870.515016618097, 13619.79502813237, 14148.00939723352, 13100.180581838798, 11811.605465201203, 12702.835194405972, 13070.337558255253, 11371.14434339162, 12466.267683810709, 11738.643457570874, 12730.403814316445, 13294.212964042681, 11906.434436374766, 13580.687894046434, 12863.057596445145, 11413.662639780116, 12352.005174226624, 13239.874008003455, 12749.026907609223, 13876.756362914308, 12826.188945930737, 13106.369310026746, 12255.072147565756, 13726.820628910793, 12341.403660049691, 12654.592472306058, 12303.082380421456, 12992.963789714498, 12276.72803736385, 12027.03063711615, 11983.435249739841, 14046.811726576823, 11606.101456872391, 12919.509165944071, 13332.383807023092, 13461.392098974304, 12733.1756754706, 11236.909861157765, 13945.45279011085, 13021.94448557773, 13174.670622720027, 13316.764969758522, 12594.838413070698, 13527.733008525447, 13064.983535798563, 12915.803311540414, 11381.036015440133, 10986.237510250716, 12968.229997700631, 12622.517010278845, 14432.078444799827, 14513.64970931341, 13381.70496187982, 10625.553715159416, 12111.310332101275, 12408.816561874537, 12325.912138265458, 11692.19115278263, 13313.634276807014, 13516.125302099736, 13248.44584714028, 13262.42255706821, 12447.11442725464, 12281.368287258894, 12850.66334185228, 12151.955884088271, 11732.392054372503, 12370.782423809738, 14047.305981902691, 11410.127670396349, 12663.111003653286, 12646.770647116524, 11551.454932567452, 13321.498322827203, 11623.468987627635, 13346.209951257426, 13257.330644265643, 11838.376934508633, 12617.344778548, 13014.244966375032, 12500.566083780284, 12603.180468183346, 11209.863195156857, 12845.620538515359, 11892.569020851639, 13100.941443648886, 11729.253515452416, 13168.082370468346, 12598.938245976686, 12744.346280290021, 12731.763395897613, 12516.3441264995, 13217.645323514018, 12080.306255902557, 12583.212868026274, 13559.679636022855, 11415.0413129191, 12854.916612757017, 12994.734087104674, 12838.768313516952, 12719.586941889655, 12601.737248129744, 12616.68487738631, 11721.917882625632, 12411.97667141628, 13089.980172690257, 12640.665970026133, 12162.651253658407, 13087.971516769658, 13903.166219905117, 13118.440847913478, 13729.314789187745, 12329.563556760038, 11808.244541254686, 12042.7303886991, 13180.568476442475, 12593.099192114398, 13504.744221050674, 12670.915210479707, 12510.44254241476, 13271.618533553194, 12758.784523263173, 13310.480403629263, 12911.469438384913, 12613.408716469428, 11512.237952326219, 12242.98796473465, 12685.428188830612, 12860.278282722313, 12016.603676040131, 12615.186938875364, 13160.811420589474, 13591.5290068196, 12813.311319033295, 13127.799854685416, 12712.7560383609, 12755.331790409464, 12992.240738792229, 12521.675452110083, 13562.298543367502, 12561.808014895028, 12863.217223172625], \"z\": [15290.477955972965, 16450.354086629148, 15215.609548648887, 15142.101982887782, 16398.515028292095, 17465.337117703624, 16204.359034532168, 15634.882923009525, 16164.935646702235, 15937.016078745231, 14749.83108365835, 15147.932868167485, 19557.719341703276, 17967.845388150658, 18225.397521307004, 15595.90322173371, 14645.716872289777, 15281.299073620317, 14403.962054758567, 15699.430149850425, 16278.201103064386, 15024.80920912573, 15467.62557715961, 14919.096746984696, 16056.040466561437, 18912.268048186113, 16194.621877641237, 18165.98318071417, 16681.007366070382, 15547.80317246909, 15336.750399826662, 16243.86774923204, 15351.925112742036, 15622.094596031837, 15936.129255506834, 16068.225676744752, 16630.381471988134, 15851.06421389237, 15106.091434657834, 16038.65562638719, 15064.750205599183, 19418.126270719073, 17384.531693873698, 16689.03645262835, 15384.272090842984, 15563.347938821838, 14298.968447474988, 16050.28763531863, 19196.238212204327, 16290.869746219889, 15838.493433797034, 16992.031342841816, 17950.24355219926, 18184.720625035225, 15486.862893781405, 15950.480206659406, 16041.407904719184, 16075.970655416097, 16990.526568424433, 15931.545207078903, 15022.729550209257, 16793.000636826928, 15800.129273701783, 15013.458144008706, 16290.61479429764, 14499.743460862683, 16407.024888303407, 14981.675284261188, 16319.881412459958, 14931.97297789303, 15155.163689123612, 15838.738163187683, 16811.60732648848, 16216.107886383554, 15665.645344097502, 14689.037016437842, 14730.624902758655, 15198.684747857003, 15343.320832977537, 14852.20579082212, 16710.253137596897, 14711.116379803176, 14618.889155101626, 15364.920312114436, 17510.49860628321, 14985.490269112664, 15350.666379342392, 15089.732396107007, 16773.466229925994, 17343.240434677708, 15469.726469799703, 16147.24848816031, 17044.670845145753, 14829.984297643892, 14586.546501690325, 16566.93107051461, 17745.63332623965, 14885.830898597838, 15002.718536102333, 16260.13177930375, 17082.011512258276, 14912.836674387027, 16719.036422500383, 17272.70486443795, 16452.051021863343, 15630.093197917626, 15891.7345165637, 16918.110079405706, 16709.123021149047, 15742.346930948144, 17537.668810943098, 15058.4364413294, 16767.460309897204, 15484.490969461844, 15544.052573091521, 18182.02993465956, 17826.263304107408, 17569.639514310624, 14762.999478230873, 15611.491156287146, 15887.93179782344, 16061.902950316162, 14760.484231970888, 14877.045539707737, 16730.308167110903, 15256.33016018394, 15205.65578386959, 16217.338970362389, 14732.646026150544, 15898.216291780673, 16056.585603105694, 16033.116634973618, 15895.42204673235, 16974.855747326073, 15386.11665779017, 16309.584120533169, 16241.788313562489, 17833.66849241987, 16006.047614884943, 14528.335650458146, 16954.252650006852, 16953.062823387027, 16748.702121160735, 16570.140324950808, 14465.503119951583, 14896.835619430794, 15323.518424098851, 15567.876904511306, 17029.150856326203, 16535.874351268263, 15589.158726256715, 16472.8447375106, 17305.635921209836, 14563.152340354562, 15147.802447861419, 15325.633440654025, 18500.59191353211, 15653.703358580318, 16686.55772502165, 17211.640468198195, 16078.099697313726, 16890.964819681936, 18690.957244932564, 14504.17991195207, 15228.590660571674, 16086.39181907944, 15599.623234000128, 15947.761912588088, 14197.726101346689, 16702.81374837491, 14954.827703799174, 15485.381616401603, 16413.69507618815, 15034.997926668235, 15770.896627731068, 17326.516539536686, 14701.975760050811, 18808.34878599694, 15530.796996626821, 15138.667177940119, 17583.28513773963, 15206.035899217331, 17019.34245474772, 15134.92255120714, 15146.671832676533, 15556.431408890418, 14510.733405827561, 14729.94474004554, 15807.075441547306, 15245.176497994229, 15789.474060080094, 16028.457163371151, 15618.131017106738, 17173.09047005524, 17995.06086051834, 17201.498440196272, 14768.374454835575, 16573.92436704964, 15770.791426961801, 16354.781402191824, 14939.966228976458, 15588.918168216585, 16931.941707149723, 15188.922992504591, 14934.812700212995, 17989.054930630446, 14776.126515510794, 15845.019268826241, 16060.553337690331, 14592.704255207304, 15072.60129564068, 15365.885645727525, 14962.169018893786, 16916.723103086893, 16514.696279215306, 14741.046088301082, 15130.57156057822, 14823.254484807949, 15312.267077720664, 17631.442342401242, 17495.837609081573, 16047.873926595767, 15931.660136146862, 15708.799388229772, 14604.122337060811, 16387.82500700719, 17709.428803107203, 16087.487139239856, 16489.011290846265, 15269.265327360894, 17865.13191559801, 16103.88498258885, 15889.43505969656, 14497.023870779482, 15482.310616058421, 15872.167035248889, 16031.782563870833, 15038.108887754863, 17083.195611219257, 19291.315069084136, 17574.967605294227, 20800.007243664182, 14868.643998707024, 15883.583009829012, 16079.23923512429, 15577.906841734006, 14935.64729525105, 15888.473565190103, 14596.246679952965, 16051.057237640372, 15176.33495415813, 15962.112181481967, 15914.184813020061, 19504.64578673896, 15738.497377696625, 14891.277281422328, 16436.451592025292, 15229.639821345245, 16878.582125427925, 15648.396925545172, 15857.789819722082, 15375.912264376082, 15364.376389212399, 16252.314342467565, 15687.059247771116, 15227.829644596386, 16348.229854060484, 15685.290113044963, 15921.293560467515, 15349.119212488475, 15691.601007037025, 15283.088557856307, 17594.298225924234, 16533.141038152866, 14461.790551124664, 15636.228087396701, 15195.356837510784, 15261.7031039165, 15726.440614994268, 16772.698931882474, 14928.895062221065, 16341.075188351208, 17502.205661441327, 16341.262410784577, 15349.765320395692, 16262.228545296266, 16810.37205372572, 15589.911168529565, 16782.122321309384, 15346.766418529074, 15700.28917044389, 15960.579562328672, 17770.13434347355, 15701.959690972335, 15907.29585730068, 15147.090033748726, 15013.549963512944, 14770.723659383282, 14983.302930641981, 17338.64881043008, 16152.544192463478, 14474.68429027732, 18265.907716121466, 15175.443877437472, 15926.9986347942, 14941.289008832719, 15139.509094411074, 14933.453960442657, 17953.067817972693, 14367.740353205125, 15679.33210792527, 16279.348170014686, 17689.569872699652, 16178.524966460582, 17500.7999466035, 15341.619011536333, 15701.927764741435, 16398.75849633929, 16606.760213802976, 15845.871575658863, 18001.2031676271, 17304.127449617754, 17080.844368423714, 17093.272401590075, 18449.071982076734, 16949.23022812777, 15159.840256756515, 15332.824128670007, 14610.915956420407, 16778.198793147705, 20105.724797922292, 17189.78108120986, 14983.347588182703, 15284.944292839287, 15496.793405410754, 16934.02944623984, 16579.66254442179, 18113.55424381981, 17526.829216972783, 17525.789403318835, 15450.172416170031, 15338.834044435951, 16165.130695226238, 15494.58141583774, 17354.38984982805, 16019.899921276658, 15095.778695356705, 14813.128702764956, 15502.788940814038, 14661.18366208189, 17018.390287539136, 16376.242815096928, 16690.82054080326, 17240.73884915514, 15072.70606595965, 15438.851692554528, 14949.739462419566, 18183.216747085076, 15778.057015842105, 17661.617204939845, 18083.43892405157, 16460.627304924987, 15228.78712077382, 16487.23633928767, 17021.5819137691, 15162.9054898985, 15639.288572463647, 14785.142071520051, 16071.305274740427, 17222.45822920316, 15073.231595974305, 17635.71098552406, 16002.94605095456, 14729.457979029787, 15101.315471716323, 16370.79496549382, 15509.672668145147, 18082.526746216325, 15974.181356049581, 17388.968529414673, 15225.078448575312, 18175.016205060198, 15401.755526654815, 15527.90964366559, 15547.931910842359, 15734.565034308062, 15068.969299449673, 15491.52234103936, 14927.468584671222, 19123.202397285375, 15212.689595903115, 16866.398830927043, 17114.47478114005, 17307.728352036018, 16107.756410366714, 14534.092872552368, 18766.44886222226, 16531.160122929985, 16635.28317850338, 16791.587095827716, 15945.170424514732, 16727.82814881603, 16787.545083226294, 16298.316805654711, 14960.275243603579, 14888.983648230847, 16571.131358642688, 15851.581603237511, 18705.69826460609, 19191.985060133025, 16513.251488016922, 15547.637920575511, 14905.54511875922, 15589.112043751858, 15210.715038682274, 14962.224858625817, 16720.57185678214, 16800.08130122584, 17449.140240025263, 16749.980232822643, 15849.657937445692, 15087.314494352697, 15691.57040396392, 16041.169140332986, 15040.285644455522, 15199.536713647547, 19269.86463244381, 14613.787299355266, 15769.826050630532, 15693.835624488787, 14884.263612905756, 17339.811272353112, 14993.687652848088, 16612.786732430122, 17310.820717315826, 15982.492415981698, 15482.004407723844, 15967.347153784434, 15637.642923914409, 15780.019009055857, 14532.884605536767, 15807.386381361714, 16485.66126395607, 16538.86029298792, 14939.391263293775, 16521.222843295043, 16645.079506395286, 16125.64623401922, 15820.817909136666, 15640.581759005214, 16940.47278167739, 14900.776143730429, 15409.693512493166, 17405.81730567844, 14635.656266334498, 15727.730987803658, 16117.558074600569, 16222.214969548613, 15801.320252699878, 16338.314144594731, 15838.724170157742, 14788.025605549185, 15842.048424228535, 16685.07623665625, 16247.52737123418, 14865.57472407589, 16007.661866911472, 17711.451988514444, 16416.051252879122, 18080.582259432693, 15574.11633242746, 14907.966336332533, 16303.191425335708, 16717.34483429193, 16068.328009470635, 16889.3493705681, 15901.982790975964, 15697.233995250446, 16871.18117136763, 15903.369570832574, 16870.24276789913, 16174.214444140607, 15436.04316411024, 15896.824371657443, 15410.019563318005, 15755.529671654593, 15763.543352284605, 15240.341411691754, 16109.71143065923, 16884.00727582149, 17688.106138601175, 15702.250733211336, 16870.780696504644, 15685.816803956393, 16286.481183207361, 16140.249390177618, 15459.140251598852, 17570.225077214847, 15516.28664344209, 16452.94462705526]}],\n",
              "                        {\"coloraxis\": {\"colorbar\": {\"title\": {\"text\": \"a\"}}, \"colorscale\": [[0.0, \"#0d0887\"], [0.1111111111111111, \"#46039f\"], [0.2222222222222222, \"#7201a8\"], [0.3333333333333333, \"#9c179e\"], [0.4444444444444444, \"#bd3786\"], [0.5555555555555556, \"#d8576b\"], [0.6666666666666666, \"#ed7953\"], [0.7777777777777778, \"#fb9f3a\"], [0.8888888888888888, \"#fdca26\"], [1.0, \"#f0f921\"]]}, \"legend\": {\"tracegroupgap\": 0}, \"margin\": {\"t\": 60}, \"scene\": {\"domain\": {\"x\": [0.0, 1.0], \"y\": [0.0, 1.0]}, \"xaxis\": {\"title\": {\"text\": \"low\"}}, \"yaxis\": {\"title\": {\"text\": \"median\"}}, \"zaxis\": {\"title\": {\"text\": \"high\"}}}, \"template\": {\"data\": {\"bar\": [{\"error_x\": {\"color\": \"#2a3f5f\"}, \"error_y\": {\"color\": \"#2a3f5f\"}, \"marker\": {\"line\": {\"color\": \"#E5ECF6\", \"width\": 0.5}}, \"type\": \"bar\"}], \"barpolar\": [{\"marker\": {\"line\": {\"color\": \"#E5ECF6\", \"width\": 0.5}}, \"type\": \"barpolar\"}], \"carpet\": [{\"aaxis\": {\"endlinecolor\": \"#2a3f5f\", \"gridcolor\": \"white\", \"linecolor\": \"white\", \"minorgridcolor\": \"white\", \"startlinecolor\": \"#2a3f5f\"}, \"baxis\": {\"endlinecolor\": \"#2a3f5f\", \"gridcolor\": \"white\", \"linecolor\": \"white\", \"minorgridcolor\": \"white\", \"startlinecolor\": \"#2a3f5f\"}, \"type\": \"carpet\"}], \"choropleth\": [{\"colorbar\": {\"outlinewidth\": 0, \"ticks\": \"\"}, \"type\": \"choropleth\"}], \"contour\": [{\"colorbar\": {\"outlinewidth\": 0, \"ticks\": \"\"}, \"colorscale\": [[0.0, \"#0d0887\"], [0.1111111111111111, \"#46039f\"], [0.2222222222222222, \"#7201a8\"], [0.3333333333333333, \"#9c179e\"], [0.4444444444444444, \"#bd3786\"], [0.5555555555555556, \"#d8576b\"], [0.6666666666666666, \"#ed7953\"], [0.7777777777777778, \"#fb9f3a\"], [0.8888888888888888, \"#fdca26\"], [1.0, \"#f0f921\"]], \"type\": \"contour\"}], \"contourcarpet\": [{\"colorbar\": {\"outlinewidth\": 0, \"ticks\": \"\"}, \"type\": \"contourcarpet\"}], \"heatmap\": [{\"colorbar\": {\"outlinewidth\": 0, \"ticks\": \"\"}, \"colorscale\": [[0.0, \"#0d0887\"], [0.1111111111111111, \"#46039f\"], [0.2222222222222222, \"#7201a8\"], [0.3333333333333333, \"#9c179e\"], [0.4444444444444444, \"#bd3786\"], [0.5555555555555556, \"#d8576b\"], [0.6666666666666666, \"#ed7953\"], [0.7777777777777778, \"#fb9f3a\"], [0.8888888888888888, \"#fdca26\"], [1.0, \"#f0f921\"]], \"type\": \"heatmap\"}], \"heatmapgl\": [{\"colorbar\": {\"outlinewidth\": 0, \"ticks\": \"\"}, \"colorscale\": [[0.0, \"#0d0887\"], [0.1111111111111111, \"#46039f\"], [0.2222222222222222, \"#7201a8\"], [0.3333333333333333, \"#9c179e\"], [0.4444444444444444, \"#bd3786\"], [0.5555555555555556, \"#d8576b\"], [0.6666666666666666, \"#ed7953\"], [0.7777777777777778, \"#fb9f3a\"], [0.8888888888888888, \"#fdca26\"], [1.0, \"#f0f921\"]], \"type\": \"heatmapgl\"}], \"histogram\": [{\"marker\": {\"colorbar\": {\"outlinewidth\": 0, \"ticks\": \"\"}}, \"type\": \"histogram\"}], \"histogram2d\": [{\"colorbar\": {\"outlinewidth\": 0, \"ticks\": \"\"}, \"colorscale\": [[0.0, \"#0d0887\"], [0.1111111111111111, \"#46039f\"], [0.2222222222222222, \"#7201a8\"], [0.3333333333333333, \"#9c179e\"], [0.4444444444444444, \"#bd3786\"], [0.5555555555555556, \"#d8576b\"], [0.6666666666666666, \"#ed7953\"], [0.7777777777777778, \"#fb9f3a\"], [0.8888888888888888, \"#fdca26\"], [1.0, \"#f0f921\"]], \"type\": \"histogram2d\"}], \"histogram2dcontour\": [{\"colorbar\": {\"outlinewidth\": 0, \"ticks\": \"\"}, \"colorscale\": [[0.0, \"#0d0887\"], [0.1111111111111111, \"#46039f\"], [0.2222222222222222, \"#7201a8\"], [0.3333333333333333, \"#9c179e\"], [0.4444444444444444, \"#bd3786\"], [0.5555555555555556, \"#d8576b\"], [0.6666666666666666, \"#ed7953\"], [0.7777777777777778, \"#fb9f3a\"], [0.8888888888888888, \"#fdca26\"], [1.0, \"#f0f921\"]], \"type\": \"histogram2dcontour\"}], \"mesh3d\": [{\"colorbar\": {\"outlinewidth\": 0, \"ticks\": \"\"}, \"type\": \"mesh3d\"}], \"parcoords\": [{\"line\": {\"colorbar\": {\"outlinewidth\": 0, \"ticks\": \"\"}}, \"type\": \"parcoords\"}], \"pie\": [{\"automargin\": true, \"type\": \"pie\"}], \"scatter\": [{\"marker\": {\"colorbar\": {\"outlinewidth\": 0, \"ticks\": \"\"}}, \"type\": \"scatter\"}], \"scatter3d\": [{\"line\": {\"colorbar\": {\"outlinewidth\": 0, \"ticks\": \"\"}}, \"marker\": {\"colorbar\": {\"outlinewidth\": 0, \"ticks\": \"\"}}, \"type\": \"scatter3d\"}], \"scattercarpet\": [{\"marker\": {\"colorbar\": {\"outlinewidth\": 0, \"ticks\": \"\"}}, \"type\": \"scattercarpet\"}], \"scattergeo\": [{\"marker\": {\"colorbar\": {\"outlinewidth\": 0, \"ticks\": \"\"}}, \"type\": \"scattergeo\"}], \"scattergl\": [{\"marker\": {\"colorbar\": {\"outlinewidth\": 0, \"ticks\": \"\"}}, \"type\": \"scattergl\"}], \"scattermapbox\": [{\"marker\": {\"colorbar\": {\"outlinewidth\": 0, \"ticks\": \"\"}}, \"type\": \"scattermapbox\"}], \"scatterpolar\": [{\"marker\": {\"colorbar\": {\"outlinewidth\": 0, \"ticks\": \"\"}}, \"type\": \"scatterpolar\"}], \"scatterpolargl\": [{\"marker\": {\"colorbar\": {\"outlinewidth\": 0, \"ticks\": \"\"}}, \"type\": \"scatterpolargl\"}], \"scatterternary\": [{\"marker\": {\"colorbar\": {\"outlinewidth\": 0, \"ticks\": \"\"}}, \"type\": \"scatterternary\"}], \"surface\": [{\"colorbar\": {\"outlinewidth\": 0, \"ticks\": \"\"}, \"colorscale\": [[0.0, \"#0d0887\"], [0.1111111111111111, \"#46039f\"], [0.2222222222222222, \"#7201a8\"], [0.3333333333333333, \"#9c179e\"], [0.4444444444444444, \"#bd3786\"], [0.5555555555555556, \"#d8576b\"], [0.6666666666666666, \"#ed7953\"], [0.7777777777777778, \"#fb9f3a\"], [0.8888888888888888, \"#fdca26\"], [1.0, \"#f0f921\"]], \"type\": \"surface\"}], \"table\": [{\"cells\": {\"fill\": {\"color\": \"#EBF0F8\"}, \"line\": {\"color\": \"white\"}}, \"header\": {\"fill\": {\"color\": \"#C8D4E3\"}, \"line\": {\"color\": \"white\"}}, \"type\": \"table\"}]}, \"layout\": {\"annotationdefaults\": {\"arrowcolor\": \"#2a3f5f\", \"arrowhead\": 0, \"arrowwidth\": 1}, \"coloraxis\": {\"colorbar\": {\"outlinewidth\": 0, \"ticks\": \"\"}}, \"colorscale\": {\"diverging\": [[0, \"#8e0152\"], [0.1, \"#c51b7d\"], [0.2, \"#de77ae\"], [0.3, \"#f1b6da\"], [0.4, \"#fde0ef\"], [0.5, \"#f7f7f7\"], [0.6, \"#e6f5d0\"], [0.7, \"#b8e186\"], [0.8, \"#7fbc41\"], [0.9, \"#4d9221\"], [1, \"#276419\"]], \"sequential\": [[0.0, \"#0d0887\"], [0.1111111111111111, \"#46039f\"], [0.2222222222222222, \"#7201a8\"], [0.3333333333333333, \"#9c179e\"], [0.4444444444444444, \"#bd3786\"], [0.5555555555555556, \"#d8576b\"], [0.6666666666666666, \"#ed7953\"], [0.7777777777777778, \"#fb9f3a\"], [0.8888888888888888, \"#fdca26\"], [1.0, \"#f0f921\"]], \"sequentialminus\": [[0.0, \"#0d0887\"], [0.1111111111111111, \"#46039f\"], [0.2222222222222222, \"#7201a8\"], [0.3333333333333333, \"#9c179e\"], [0.4444444444444444, \"#bd3786\"], [0.5555555555555556, \"#d8576b\"], [0.6666666666666666, \"#ed7953\"], [0.7777777777777778, \"#fb9f3a\"], [0.8888888888888888, \"#fdca26\"], [1.0, \"#f0f921\"]]}, \"colorway\": [\"#636efa\", \"#EF553B\", \"#00cc96\", \"#ab63fa\", \"#FFA15A\", \"#19d3f3\", \"#FF6692\", \"#B6E880\", \"#FF97FF\", \"#FECB52\"], \"font\": {\"color\": \"#2a3f5f\"}, \"geo\": {\"bgcolor\": \"white\", \"lakecolor\": \"white\", \"landcolor\": \"#E5ECF6\", \"showlakes\": true, \"showland\": true, \"subunitcolor\": \"white\"}, \"hoverlabel\": {\"align\": \"left\"}, \"hovermode\": \"closest\", \"mapbox\": {\"style\": \"light\"}, \"paper_bgcolor\": \"white\", \"plot_bgcolor\": \"#E5ECF6\", \"polar\": {\"angularaxis\": {\"gridcolor\": \"white\", \"linecolor\": \"white\", \"ticks\": \"\"}, \"bgcolor\": \"#E5ECF6\", \"radialaxis\": {\"gridcolor\": \"white\", \"linecolor\": \"white\", \"ticks\": \"\"}}, \"scene\": {\"xaxis\": {\"backgroundcolor\": \"#E5ECF6\", \"gridcolor\": \"white\", \"gridwidth\": 2, \"linecolor\": \"white\", \"showbackground\": true, \"ticks\": \"\", \"zerolinecolor\": \"white\"}, \"yaxis\": {\"backgroundcolor\": \"#E5ECF6\", \"gridcolor\": \"white\", \"gridwidth\": 2, \"linecolor\": \"white\", \"showbackground\": true, \"ticks\": \"\", \"zerolinecolor\": \"white\"}, \"zaxis\": {\"backgroundcolor\": \"#E5ECF6\", \"gridcolor\": \"white\", \"gridwidth\": 2, \"linecolor\": \"white\", \"showbackground\": true, \"ticks\": \"\", \"zerolinecolor\": \"white\"}}, \"shapedefaults\": {\"line\": {\"color\": \"#2a3f5f\"}}, \"ternary\": {\"aaxis\": {\"gridcolor\": \"white\", \"linecolor\": \"white\", \"ticks\": \"\"}, \"baxis\": {\"gridcolor\": \"white\", \"linecolor\": \"white\", \"ticks\": \"\"}, \"bgcolor\": \"#E5ECF6\", \"caxis\": {\"gridcolor\": \"white\", \"linecolor\": \"white\", \"ticks\": \"\"}}, \"title\": {\"x\": 0.05}, \"xaxis\": {\"automargin\": true, \"gridcolor\": \"white\", \"linecolor\": \"white\", \"ticks\": \"\", \"title\": {\"standoff\": 15}, \"zerolinecolor\": \"white\", \"zerolinewidth\": 2}, \"yaxis\": {\"automargin\": true, \"gridcolor\": \"white\", \"linecolor\": \"white\", \"ticks\": \"\", \"title\": {\"standoff\": 15}, \"zerolinecolor\": \"white\", \"zerolinewidth\": 2}}}},\n",
              "                        {\"responsive\": true}\n",
              "                    ).then(function(){\n",
              "                            \n",
              "var gd = document.getElementById('1b4d0387-877b-4c4c-b066-fe8994062823');\n",
              "var x = new MutationObserver(function (mutations, observer) {{\n",
              "        var display = window.getComputedStyle(gd).display;\n",
              "        if (!display || display === 'none') {{\n",
              "            console.log([gd, 'removed!']);\n",
              "            Plotly.purge(gd);\n",
              "            observer.disconnect();\n",
              "        }}\n",
              "}});\n",
              "\n",
              "// Listen for the removal of the full notebook cells\n",
              "var notebookContainer = gd.closest('#notebook-container');\n",
              "if (notebookContainer) {{\n",
              "    x.observe(notebookContainer, {childList: true});\n",
              "}}\n",
              "\n",
              "// Listen for the clearing of the current output cell\n",
              "var outputEl = gd.closest('.output');\n",
              "if (outputEl) {{\n",
              "    x.observe(outputEl, {childList: true});\n",
              "}}\n",
              "\n",
              "                        })\n",
              "                };\n",
              "                \n",
              "            </script>\n",
              "        </div>\n",
              "</body>\n",
              "</html>"
            ]
          },
          "metadata": {
            "tags": []
          }
        }
      ]
    },
    {
      "cell_type": "code",
      "metadata": {
        "id": "6WV1851gS5Aa",
        "colab_type": "code",
        "colab": {}
      },
      "source": [
        ""
      ],
      "execution_count": 34,
      "outputs": []
    },
    {
      "cell_type": "code",
      "metadata": {
        "id": "p2uu3PcTfwT3",
        "colab_type": "code",
        "colab": {}
      },
      "source": [
        ""
      ],
      "execution_count": null,
      "outputs": []
    }
  ]
}